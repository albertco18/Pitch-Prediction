{
 "cells": [
  {
   "cell_type": "markdown",
   "id": "d59f6ad7",
   "metadata": {},
   "source": [
    "# Modeling\n",
    "\n",
    "Now we will begin the process of creating classification models and evaluate their respective performances"
   ]
  },
  {
   "cell_type": "code",
   "execution_count": 2,
   "id": "57b5ec18",
   "metadata": {},
   "outputs": [],
   "source": [
    "#imports\n",
    "import pandas as pd\n",
    "import numpy as np\n",
    "import os\n",
    "import pickle\n",
    "import matplotlib.pyplot as plt\n",
    "import seaborn as sns\n",
    "from sklearn import __version__ as sklearn_version\n",
    "from sklearn.decomposition import PCA\n",
    "from sklearn.preprocessing import scale\n",
    "from sklearn.model_selection import train_test_split, cross_validate, GridSearchCV, learning_curve\n",
    "from sklearn.preprocessing import StandardScaler, MinMaxScaler\n",
    "from sklearn.dummy import DummyRegressor\n",
    "from sklearn.linear_model import LinearRegression\n",
    "from sklearn.ensemble import RandomForestRegressor\n",
    "from sklearn.metrics import r2_score, mean_squared_error, mean_absolute_error\n",
    "from sklearn.pipeline import make_pipeline\n",
    "from sklearn.impute import SimpleImputer\n",
    "from sklearn.feature_selection import SelectKBest, f_regression\n",
    "import datetime\n",
    "from sklearn.preprocessing import LabelEncoder\n",
    "from library.sb_utils import save_file"
   ]
  },
  {
   "cell_type": "markdown",
   "id": "e4605440",
   "metadata": {},
   "source": [
    "### Load our processed data"
   ]
  },
  {
   "cell_type": "code",
   "execution_count": 4,
   "id": "e9055a70",
   "metadata": {},
   "outputs": [],
   "source": [
    "filepath = '../data/processed/'\n",
    "X = pd.read_csv(filepath + 'X_pre.csv')\n",
    "y = pd.read_csv(filepath + 'y_pre.csv')"
   ]
  },
  {
   "cell_type": "markdown",
   "id": "66f4da9d",
   "metadata": {},
   "source": [
    "### Note\n",
    "Throughout this notebook code for performing the same tests on 2016 and 2017 data are in markdown cells (change to code to run)"
   ]
  },
  {
   "cell_type": "markdown",
   "id": "bb097bff",
   "metadata": {},
   "source": [
    "2016 and 2017 data is now availible in \n",
    "\n",
    "    filepath = '../data/processed/X_pre16.csv'\n",
    "    filepath = '../data/processed/X_pre17.csv'"
   ]
  },
  {
   "cell_type": "markdown",
   "id": "b4d60a80",
   "metadata": {},
   "source": [
    "    X16 = pd.read_csv(filepath+ 'X_pre16.csv')\n",
    "    X17 = pd.read_csv(filepath+ 'X_pre17.csv')"
   ]
  },
  {
   "cell_type": "markdown",
   "id": "55ec0e3d",
   "metadata": {},
   "source": [
    "    y16 = pd.read_csv(filepath + 'y_pre16.csv')\n",
    "    y17 = pd.read_csv(filepath + 'y_pre17.csv')"
   ]
  },
  {
   "cell_type": "markdown",
   "id": "d3b37a66",
   "metadata": {},
   "source": [
    "Our final set of predictive features"
   ]
  },
  {
   "cell_type": "code",
   "execution_count": 5,
   "id": "7c3fada9",
   "metadata": {},
   "outputs": [
    {
     "data": {
      "text/html": [
       "<div>\n",
       "<style scoped>\n",
       "    .dataframe tbody tr th:only-of-type {\n",
       "        vertical-align: middle;\n",
       "    }\n",
       "\n",
       "    .dataframe tbody tr th {\n",
       "        vertical-align: top;\n",
       "    }\n",
       "\n",
       "    .dataframe thead th {\n",
       "        text-align: right;\n",
       "    }\n",
       "</style>\n",
       "<table border=\"1\" class=\"dataframe\">\n",
       "  <thead>\n",
       "    <tr style=\"text-align: right;\">\n",
       "      <th></th>\n",
       "      <th>inning</th>\n",
       "      <th>o</th>\n",
       "      <th>p_score</th>\n",
       "      <th>p_throws</th>\n",
       "      <th>stand</th>\n",
       "      <th>b_score</th>\n",
       "      <th>b_count</th>\n",
       "      <th>s_count</th>\n",
       "      <th>outs</th>\n",
       "      <th>pitch_num</th>\n",
       "      <th>on_1b</th>\n",
       "      <th>on_2b</th>\n",
       "      <th>on_3b</th>\n",
       "    </tr>\n",
       "  </thead>\n",
       "  <tbody>\n",
       "    <tr>\n",
       "      <th>0</th>\n",
       "      <td>1</td>\n",
       "      <td>1</td>\n",
       "      <td>0</td>\n",
       "      <td>L</td>\n",
       "      <td>L</td>\n",
       "      <td>0.0</td>\n",
       "      <td>0.0</td>\n",
       "      <td>0.0</td>\n",
       "      <td>0.0</td>\n",
       "      <td>1.0</td>\n",
       "      <td>0.0</td>\n",
       "      <td>0.0</td>\n",
       "      <td>0.0</td>\n",
       "    </tr>\n",
       "    <tr>\n",
       "      <th>1</th>\n",
       "      <td>1</td>\n",
       "      <td>1</td>\n",
       "      <td>0</td>\n",
       "      <td>L</td>\n",
       "      <td>L</td>\n",
       "      <td>0.0</td>\n",
       "      <td>0.0</td>\n",
       "      <td>1.0</td>\n",
       "      <td>0.0</td>\n",
       "      <td>2.0</td>\n",
       "      <td>0.0</td>\n",
       "      <td>0.0</td>\n",
       "      <td>0.0</td>\n",
       "    </tr>\n",
       "    <tr>\n",
       "      <th>2</th>\n",
       "      <td>1</td>\n",
       "      <td>1</td>\n",
       "      <td>0</td>\n",
       "      <td>L</td>\n",
       "      <td>L</td>\n",
       "      <td>0.0</td>\n",
       "      <td>0.0</td>\n",
       "      <td>2.0</td>\n",
       "      <td>0.0</td>\n",
       "      <td>3.0</td>\n",
       "      <td>0.0</td>\n",
       "      <td>0.0</td>\n",
       "      <td>0.0</td>\n",
       "    </tr>\n",
       "    <tr>\n",
       "      <th>3</th>\n",
       "      <td>1</td>\n",
       "      <td>1</td>\n",
       "      <td>0</td>\n",
       "      <td>L</td>\n",
       "      <td>L</td>\n",
       "      <td>0.0</td>\n",
       "      <td>0.0</td>\n",
       "      <td>2.0</td>\n",
       "      <td>0.0</td>\n",
       "      <td>4.0</td>\n",
       "      <td>0.0</td>\n",
       "      <td>0.0</td>\n",
       "      <td>0.0</td>\n",
       "    </tr>\n",
       "    <tr>\n",
       "      <th>4</th>\n",
       "      <td>1</td>\n",
       "      <td>1</td>\n",
       "      <td>0</td>\n",
       "      <td>L</td>\n",
       "      <td>L</td>\n",
       "      <td>0.0</td>\n",
       "      <td>1.0</td>\n",
       "      <td>2.0</td>\n",
       "      <td>0.0</td>\n",
       "      <td>5.0</td>\n",
       "      <td>0.0</td>\n",
       "      <td>0.0</td>\n",
       "      <td>0.0</td>\n",
       "    </tr>\n",
       "    <tr>\n",
       "      <th>...</th>\n",
       "      <td>...</td>\n",
       "      <td>...</td>\n",
       "      <td>...</td>\n",
       "      <td>...</td>\n",
       "      <td>...</td>\n",
       "      <td>...</td>\n",
       "      <td>...</td>\n",
       "      <td>...</td>\n",
       "      <td>...</td>\n",
       "      <td>...</td>\n",
       "      <td>...</td>\n",
       "      <td>...</td>\n",
       "      <td>...</td>\n",
       "    </tr>\n",
       "    <tr>\n",
       "      <th>21575</th>\n",
       "      <td>4</td>\n",
       "      <td>2</td>\n",
       "      <td>0</td>\n",
       "      <td>R</td>\n",
       "      <td>R</td>\n",
       "      <td>0.0</td>\n",
       "      <td>1.0</td>\n",
       "      <td>2.0</td>\n",
       "      <td>1.0</td>\n",
       "      <td>4.0</td>\n",
       "      <td>0.0</td>\n",
       "      <td>0.0</td>\n",
       "      <td>0.0</td>\n",
       "    </tr>\n",
       "    <tr>\n",
       "      <th>21576</th>\n",
       "      <td>4</td>\n",
       "      <td>2</td>\n",
       "      <td>0</td>\n",
       "      <td>R</td>\n",
       "      <td>R</td>\n",
       "      <td>0.0</td>\n",
       "      <td>2.0</td>\n",
       "      <td>2.0</td>\n",
       "      <td>1.0</td>\n",
       "      <td>5.0</td>\n",
       "      <td>0.0</td>\n",
       "      <td>0.0</td>\n",
       "      <td>0.0</td>\n",
       "    </tr>\n",
       "    <tr>\n",
       "      <th>21577</th>\n",
       "      <td>4</td>\n",
       "      <td>3</td>\n",
       "      <td>0</td>\n",
       "      <td>R</td>\n",
       "      <td>L</td>\n",
       "      <td>0.0</td>\n",
       "      <td>0.0</td>\n",
       "      <td>0.0</td>\n",
       "      <td>2.0</td>\n",
       "      <td>1.0</td>\n",
       "      <td>0.0</td>\n",
       "      <td>0.0</td>\n",
       "      <td>0.0</td>\n",
       "    </tr>\n",
       "    <tr>\n",
       "      <th>21578</th>\n",
       "      <td>4</td>\n",
       "      <td>3</td>\n",
       "      <td>0</td>\n",
       "      <td>R</td>\n",
       "      <td>L</td>\n",
       "      <td>0.0</td>\n",
       "      <td>0.0</td>\n",
       "      <td>1.0</td>\n",
       "      <td>2.0</td>\n",
       "      <td>2.0</td>\n",
       "      <td>0.0</td>\n",
       "      <td>0.0</td>\n",
       "      <td>0.0</td>\n",
       "    </tr>\n",
       "    <tr>\n",
       "      <th>21579</th>\n",
       "      <td>4</td>\n",
       "      <td>3</td>\n",
       "      <td>0</td>\n",
       "      <td>R</td>\n",
       "      <td>L</td>\n",
       "      <td>0.0</td>\n",
       "      <td>1.0</td>\n",
       "      <td>1.0</td>\n",
       "      <td>2.0</td>\n",
       "      <td>3.0</td>\n",
       "      <td>0.0</td>\n",
       "      <td>0.0</td>\n",
       "      <td>0.0</td>\n",
       "    </tr>\n",
       "  </tbody>\n",
       "</table>\n",
       "<p>21580 rows × 13 columns</p>\n",
       "</div>"
      ],
      "text/plain": [
       "       inning  o  p_score p_throws stand  b_score  b_count  s_count  outs  \\\n",
       "0           1  1        0        L     L      0.0      0.0      0.0   0.0   \n",
       "1           1  1        0        L     L      0.0      0.0      1.0   0.0   \n",
       "2           1  1        0        L     L      0.0      0.0      2.0   0.0   \n",
       "3           1  1        0        L     L      0.0      0.0      2.0   0.0   \n",
       "4           1  1        0        L     L      0.0      1.0      2.0   0.0   \n",
       "...       ... ..      ...      ...   ...      ...      ...      ...   ...   \n",
       "21575       4  2        0        R     R      0.0      1.0      2.0   1.0   \n",
       "21576       4  2        0        R     R      0.0      2.0      2.0   1.0   \n",
       "21577       4  3        0        R     L      0.0      0.0      0.0   2.0   \n",
       "21578       4  3        0        R     L      0.0      0.0      1.0   2.0   \n",
       "21579       4  3        0        R     L      0.0      1.0      1.0   2.0   \n",
       "\n",
       "       pitch_num  on_1b  on_2b  on_3b  \n",
       "0            1.0    0.0    0.0    0.0  \n",
       "1            2.0    0.0    0.0    0.0  \n",
       "2            3.0    0.0    0.0    0.0  \n",
       "3            4.0    0.0    0.0    0.0  \n",
       "4            5.0    0.0    0.0    0.0  \n",
       "...          ...    ...    ...    ...  \n",
       "21575        4.0    0.0    0.0    0.0  \n",
       "21576        5.0    0.0    0.0    0.0  \n",
       "21577        1.0    0.0    0.0    0.0  \n",
       "21578        2.0    0.0    0.0    0.0  \n",
       "21579        3.0    0.0    0.0    0.0  \n",
       "\n",
       "[21580 rows x 13 columns]"
      ]
     },
     "execution_count": 5,
     "metadata": {},
     "output_type": "execute_result"
    }
   ],
   "source": [
    "X"
   ]
  },
  {
   "cell_type": "code",
   "execution_count": 6,
   "id": "1eec3745",
   "metadata": {},
   "outputs": [
    {
     "data": {
      "text/html": [
       "<div>\n",
       "<style scoped>\n",
       "    .dataframe tbody tr th:only-of-type {\n",
       "        vertical-align: middle;\n",
       "    }\n",
       "\n",
       "    .dataframe tbody tr th {\n",
       "        vertical-align: top;\n",
       "    }\n",
       "\n",
       "    .dataframe thead th {\n",
       "        text-align: right;\n",
       "    }\n",
       "</style>\n",
       "<table border=\"1\" class=\"dataframe\">\n",
       "  <thead>\n",
       "    <tr style=\"text-align: right;\">\n",
       "      <th></th>\n",
       "      <th>pitch_type</th>\n",
       "    </tr>\n",
       "  </thead>\n",
       "  <tbody>\n",
       "    <tr>\n",
       "      <th>0</th>\n",
       "      <td>FF</td>\n",
       "    </tr>\n",
       "    <tr>\n",
       "      <th>1</th>\n",
       "      <td>FF</td>\n",
       "    </tr>\n",
       "    <tr>\n",
       "      <th>2</th>\n",
       "      <td>FF</td>\n",
       "    </tr>\n",
       "    <tr>\n",
       "      <th>3</th>\n",
       "      <td>FF</td>\n",
       "    </tr>\n",
       "    <tr>\n",
       "      <th>4</th>\n",
       "      <td>CU</td>\n",
       "    </tr>\n",
       "    <tr>\n",
       "      <th>...</th>\n",
       "      <td>...</td>\n",
       "    </tr>\n",
       "    <tr>\n",
       "      <th>21575</th>\n",
       "      <td>FF</td>\n",
       "    </tr>\n",
       "    <tr>\n",
       "      <th>21576</th>\n",
       "      <td>CH</td>\n",
       "    </tr>\n",
       "    <tr>\n",
       "      <th>21577</th>\n",
       "      <td>CH</td>\n",
       "    </tr>\n",
       "    <tr>\n",
       "      <th>21578</th>\n",
       "      <td>CH</td>\n",
       "    </tr>\n",
       "    <tr>\n",
       "      <th>21579</th>\n",
       "      <td>FF</td>\n",
       "    </tr>\n",
       "  </tbody>\n",
       "</table>\n",
       "<p>21580 rows × 1 columns</p>\n",
       "</div>"
      ],
      "text/plain": [
       "      pitch_type\n",
       "0             FF\n",
       "1             FF\n",
       "2             FF\n",
       "3             FF\n",
       "4             CU\n",
       "...          ...\n",
       "21575         FF\n",
       "21576         CH\n",
       "21577         CH\n",
       "21578         CH\n",
       "21579         FF\n",
       "\n",
       "[21580 rows x 1 columns]"
      ]
     },
     "execution_count": 6,
     "metadata": {},
     "output_type": "execute_result"
    }
   ],
   "source": [
    "y"
   ]
  },
  {
   "cell_type": "markdown",
   "id": "b9cbf825",
   "metadata": {},
   "source": [
    "    X_1516 = X.append(X16)\n",
    "    y_1516 = y.append(y16)"
   ]
  },
  {
   "cell_type": "markdown",
   "id": "4ae4fa94",
   "metadata": {},
   "source": [
    "    X_1516"
   ]
  },
  {
   "cell_type": "markdown",
   "id": "3bade521",
   "metadata": {},
   "source": [
    "    y_1516"
   ]
  },
  {
   "cell_type": "markdown",
   "id": "1164d189",
   "metadata": {},
   "source": [
    "You can ignore the index being repeated, as it doesn't play a role in the future"
   ]
  },
  {
   "cell_type": "markdown",
   "id": "76c80380",
   "metadata": {},
   "source": [
    "    #switch for ease of consistency\n",
    "    X = X_1516\n",
    "    y = y_1516"
   ]
  },
  {
   "cell_type": "markdown",
   "id": "8771d535",
   "metadata": {},
   "source": [
    "### Encode numerical features"
   ]
  },
  {
   "cell_type": "code",
   "execution_count": 15,
   "id": "964181d0",
   "metadata": {},
   "outputs": [],
   "source": [
    "from sklearn.preprocessing import OneHotEncoder, LabelEncoder"
   ]
  },
  {
   "cell_type": "code",
   "execution_count": 16,
   "id": "157cac9f",
   "metadata": {},
   "outputs": [],
   "source": [
    "X_drop = pd.get_dummies(X, drop_first = True)"
   ]
  },
  {
   "cell_type": "code",
   "execution_count": 17,
   "id": "b483f3b2",
   "metadata": {},
   "outputs": [],
   "source": [
    "scaler = StandardScaler()\n",
    "X_s = scaler.fit_transform(X_drop)"
   ]
  },
  {
   "cell_type": "code",
   "execution_count": 18,
   "id": "b5c0620f",
   "metadata": {},
   "outputs": [],
   "source": [
    "y_encoder = LabelEncoder()"
   ]
  },
  {
   "cell_type": "code",
   "execution_count": 19,
   "id": "ba5f75c8",
   "metadata": {},
   "outputs": [],
   "source": [
    "y_array = y.to_numpy().flatten()\n",
    "y_enc = y_encoder.fit(y_array)"
   ]
  },
  {
   "cell_type": "code",
   "execution_count": 20,
   "id": "4e8ce249",
   "metadata": {},
   "outputs": [
    {
     "data": {
      "text/plain": [
       "array(['CH', 'CU', 'FC', 'FF', 'FT', 'SI', 'SL'], dtype=object)"
      ]
     },
     "execution_count": 20,
     "metadata": {},
     "output_type": "execute_result"
    }
   ],
   "source": [
    "y_enc.classes_"
   ]
  },
  {
   "cell_type": "code",
   "execution_count": 21,
   "id": "a1bc3f6d",
   "metadata": {},
   "outputs": [],
   "source": [
    "y1 = y_enc.transform(y_array)"
   ]
  },
  {
   "cell_type": "code",
   "execution_count": 22,
   "id": "79da5851",
   "metadata": {},
   "outputs": [
    {
     "data": {
      "text/plain": [
       "(21580,)"
      ]
     },
     "execution_count": 22,
     "metadata": {},
     "output_type": "execute_result"
    }
   ],
   "source": [
    "y1.shape"
   ]
  },
  {
   "cell_type": "markdown",
   "id": "fc3c2a32",
   "metadata": {},
   "source": [
    "## Models"
   ]
  },
  {
   "cell_type": "markdown",
   "id": "77053308",
   "metadata": {},
   "source": [
    "### Important note:\n",
    "\n",
    "Some of the code here is a bit terse as several other notebooks were used throughout the project. Some pursuits which didn't yield any significant contribution (including alot of the hyperparameter tuning), aren't extrememly detailed here. The other \"scratchwork\" notebooks are in the \"notebooks-scratch\" folder."
   ]
  },
  {
   "cell_type": "code",
   "execution_count": 23,
   "id": "986bb3b6",
   "metadata": {},
   "outputs": [],
   "source": [
    "#split data into train and test sets 80/20\n",
    "X_train, X_test, y_train, y_test = train_test_split(X_s, y1, test_size = 0.2, random_state = 123, stratify = y1)"
   ]
  },
  {
   "cell_type": "markdown",
   "id": "404529d5",
   "metadata": {},
   "source": [
    "For now we will use accuracy as our main metric, while also looking at f1, roc_auc_score, recall and precision. For the latter measures, a weighted average was used. Another note is that due to the nature of the project, we don't have an particular need to worry about false positives or false negatives more than one another, the way we would for something involving medicine or other higher stakes scenarios. \n",
    "\n",
    "Lets start by creating a dummy classifier set to always predict the most frequent classification (4 seam fastball, labeled FF, which occurs 42.5% of the time)."
   ]
  },
  {
   "cell_type": "code",
   "execution_count": 25,
   "id": "d5848382",
   "metadata": {},
   "outputs": [],
   "source": [
    "from sklearn.dummy import DummyClassifier"
   ]
  },
  {
   "cell_type": "code",
   "execution_count": 26,
   "id": "e8acfd4e",
   "metadata": {},
   "outputs": [],
   "source": [
    "dumb = DummyClassifier(strategy = 'most_frequent')"
   ]
  },
  {
   "cell_type": "code",
   "execution_count": 27,
   "id": "38164091",
   "metadata": {},
   "outputs": [
    {
     "data": {
      "text/plain": [
       "DummyClassifier(strategy='most_frequent')"
      ]
     },
     "execution_count": 27,
     "metadata": {},
     "output_type": "execute_result"
    }
   ],
   "source": [
    "dumb.fit(X_train, y_train)"
   ]
  },
  {
   "cell_type": "code",
   "execution_count": 28,
   "id": "108dc040",
   "metadata": {},
   "outputs": [
    {
     "data": {
      "text/plain": [
       "0.4263206672845227"
      ]
     },
     "execution_count": 28,
     "metadata": {},
     "output_type": "execute_result"
    }
   ],
   "source": [
    "y_pred = dumb.predict(X_test)\n",
    "dumb.score(X_test, y_test)"
   ]
  },
  {
   "cell_type": "code",
   "execution_count": 29,
   "id": "6d83445a",
   "metadata": {},
   "outputs": [],
   "source": [
    "from sklearn.metrics import roc_auc_score"
   ]
  },
  {
   "cell_type": "code",
   "execution_count": 30,
   "id": "3060f5e6",
   "metadata": {},
   "outputs": [
    {
     "data": {
      "text/plain": [
       "0.4263206672845227"
      ]
     },
     "execution_count": 30,
     "metadata": {},
     "output_type": "execute_result"
    }
   ],
   "source": [
    "from sklearn.metrics import accuracy_score, f1_score\n",
    "from sklearn.metrics import confusion_matrix, ConfusionMatrixDisplay\n",
    "#verify that accuracy_score and model.score agree\n",
    "accuracy_score(y_pred, y_test)"
   ]
  },
  {
   "cell_type": "code",
   "execution_count": 31,
   "id": "bf10e846",
   "metadata": {},
   "outputs": [
    {
     "data": {
      "text/plain": [
       "array([1, 6, 0, ..., 1, 6, 3])"
      ]
     },
     "execution_count": 31,
     "metadata": {},
     "output_type": "execute_result"
    }
   ],
   "source": [
    "y_test"
   ]
  },
  {
   "cell_type": "code",
   "execution_count": 32,
   "id": "b6af31c1",
   "metadata": {},
   "outputs": [
    {
     "data": {
      "text/plain": [
       "(4316, 7)"
      ]
     },
     "execution_count": 32,
     "metadata": {},
     "output_type": "execute_result"
    }
   ],
   "source": [
    "dumb.predict_proba(X_test).shape"
   ]
  },
  {
   "cell_type": "code",
   "execution_count": 33,
   "id": "bd56acba",
   "metadata": {},
   "outputs": [
    {
     "data": {
      "text/plain": [
       "0.5"
      ]
     },
     "execution_count": 33,
     "metadata": {},
     "output_type": "execute_result"
    }
   ],
   "source": [
    "roc_auc_score(y_test, dumb.predict_proba(X_test), multi_class = 'ovo')"
   ]
  },
  {
   "cell_type": "markdown",
   "id": "de63d0ef",
   "metadata": {},
   "source": [
    "### Here are a couple functions that were created to save time with repetative processes"
   ]
  },
  {
   "cell_type": "markdown",
   "id": "d94700f8",
   "metadata": {},
   "source": [
    "The function `ez_model` completes several of the tasks that I found myself repetatively writing code for. Depending on the parameters chosen, it can take a sklearn model, fit it with the test data, create a prediction vector, evaluate the metrics of interest and store them in a dictionary, and plot the confusion matrix. \n",
    "\n",
    "A smaller function `plot_cm` was also used to plot the confusion matrix and print the f1 and accuracy score for a given model. Most of its use was phased out as those capabilities were added to `ez_model`.\n",
    "\n",
    "Similarly, the function `ez_mets`allows for a quick look at Recall, Precision, and AUC-ROC-Score, if you do not want to call the `ez_model` function. \n",
    "\n"
   ]
  },
  {
   "cell_type": "code",
   "execution_count": 75,
   "id": "194bad92",
   "metadata": {},
   "outputs": [],
   "source": [
    "metrics_dict = {'model':[],'accuracy':[], 'recall':[], 'precision':[], 'f1_score' : [], 'roc_auc_score' : []}\n",
    "\n",
    "def ez_model(model, fit = False, store = True, plot = False, metrics = True, metric_average = 'weighted',\\\n",
    "             hyperparameters = False, SMOTE = False, metric_class = 'ovr',overwrite = False):\n",
    "    '''\n",
    "    modeling function \n",
    "    '''\n",
    "    from sklearn.metrics import accuracy_score, f1_score, recall_score, precision_score,roc_auc_score\n",
    "    from sklearn.metrics import confusion_matrix, ConfusionMatrixDisplay\n",
    "    if overwrite is False:\n",
    "        if str(model) in metrics_dict['model']:\n",
    "            return \"model name already present, set 'overwrite' to True, or change name\"\n",
    "        \n",
    "        \n",
    "    if fit == True:\n",
    "        model.fit(X_train, y_train)\n",
    "    predictions = model.predict(X_test)\n",
    "    if store == True:\n",
    "        metrics_dict['model'].append(str(model)) \n",
    "        metrics_dict['accuracy'].append(accuracy_score(predictions,y_test))\n",
    "        metrics_dict['recall'].append(recall_score(y_test,predictions, average = metric_average))\n",
    "        metrics_dict['precision'].append(precision_score(y_test, predictions, average = metric_average,zero_division = 0))\n",
    "        metrics_dict['f1_score'].append(f1_score(y_test,predictions, average = metric_average))\n",
    "        metrics_dict['roc_auc_score'].append(roc_auc_score(y_test, model.predict_proba(X_test), multi_class = metric_class))\n",
    "    \n",
    "    if metrics == True:\n",
    "        print(str(model))\n",
    "        print('accuracy ',accuracy_score(predictions,y_test))\n",
    "        print('Recall ', recall_score(y_test,predictions,average = metric_average))\n",
    "        print('Precision ', precision_score(y_test,predictions,average = metric_average, zero_division = 0))\n",
    "        print('f1 ',f1_score(y_test,predictions, average = metric_average))\n",
    "        print(\"AUC-ROC-Score \", roc_auc_score(y_test, model.predict_proba(X_test), multi_class = metric_class))\n",
    "                        \n",
    "         \n",
    "                                \n",
    "    if plot == True:\n",
    "        fig, ax = plt.subplots(figsize=(8,6))\n",
    "        predictions = model.predict(X_test)\n",
    "        cm = confusion_matrix(y_test, predictions)\n",
    "        disp = ConfusionMatrixDisplay(cm, display_labels = model.classes_)\n",
    "        disp.plot(ax=ax)                                    "
   ]
  },
  {
   "cell_type": "code",
   "execution_count": 35,
   "id": "3429f929",
   "metadata": {},
   "outputs": [],
   "source": [
    "def plot_cm(model):\n",
    "    fig, ax = plt.subplots(figsize=(8,6))\n",
    "    predictions = model.predict(X_test)\n",
    "    cm = confusion_matrix(y_test, predictions)\n",
    "    disp = ConfusionMatrixDisplay(cm, display_labels = model.classes_)\n",
    "    disp.plot(ax=ax)\n",
    "    "
   ]
  },
  {
   "cell_type": "code",
   "execution_count": 36,
   "id": "a5bc82fa",
   "metadata": {},
   "outputs": [],
   "source": [
    "from sklearn.metrics import recall_score, precision_score\n",
    "def ez_mets(model):\n",
    "    preds = model.predict(X_test)\n",
    "    print('Recall ', recall_score(y_test,preds,average = 'weighted'))\n",
    "    print('Precision ', precision_score(y_test,preds,average = 'weighted', zero_division = 0))\n",
    "    print(\"AUC-ROC-Score \", roc_auc_score(y_test, model.predict_proba(X_test), multi_class = 'ovr'))"
   ]
  },
  {
   "cell_type": "code",
   "execution_count": 76,
   "id": "0511214f",
   "metadata": {},
   "outputs": [
    {
     "name": "stdout",
     "output_type": "stream",
     "text": [
      "DummyClassifier(strategy='most_frequent')\n",
      "accuracy  0.4263206672845227\n",
      "Recall  0.4263206672845227\n",
      "Precision  0.18174931135392072\n",
      "f1  0.2548505613396757\n",
      "AUC-ROC-Score  0.5\n"
     ]
    }
   ],
   "source": [
    "ez_model(dumb, metrics = True)"
   ]
  },
  {
   "cell_type": "code",
   "execution_count": 77,
   "id": "7e8358ab",
   "metadata": {},
   "outputs": [
    {
     "data": {
      "image/png": "[encoded data removed]",
      "text/plain": [
       "<Figure size 576x432 with 2 Axes>"
      ]
     },
     "metadata": {
      "needs_background": "light"
     },
     "output_type": "display_data"
    }
   ],
   "source": [
    "plot_cm(dumb)"
   ]
  },
  {
   "cell_type": "code",
   "execution_count": 41,
   "id": "7d2694f7",
   "metadata": {},
   "outputs": [
    {
     "name": "stdout",
     "output_type": "stream",
     "text": [
      "Recall  0.4263206672845227\n",
      "Precision  0.18174931135392072\n",
      "AUC-ROC-Score  0.5\n"
     ]
    }
   ],
   "source": [
    "ez_mets(dumb)"
   ]
  },
  {
   "cell_type": "markdown",
   "id": "de416f49",
   "metadata": {},
   "source": [
    "Now we will look at different classifiers and how they perform on our test data. For now, we will not tune any hyperparameters (leave them on default settings). "
   ]
  },
  {
   "cell_type": "markdown",
   "id": "009890c0",
   "metadata": {},
   "source": [
    "### Logistic Regression"
   ]
  },
  {
   "cell_type": "code",
   "execution_count": 78,
   "id": "a5e50955",
   "metadata": {},
   "outputs": [
    {
     "name": "stderr",
     "output_type": "stream",
     "text": [
      "C:\\Users\\alber\\anaconda3\\lib\\site-packages\\sklearn\\linear_model\\_logistic.py:763: ConvergenceWarning: lbfgs failed to converge (status=1):\n",
      "STOP: TOTAL NO. of ITERATIONS REACHED LIMIT.\n",
      "\n",
      "Increase the number of iterations (max_iter) or scale the data as shown in:\n",
      "    https://scikit-learn.org/stable/modules/preprocessing.html\n",
      "Please also refer to the documentation for alternative solver options:\n",
      "    https://scikit-learn.org/stable/modules/linear_model.html#logistic-regression\n",
      "  n_iter_i = _check_optimize_result(\n"
     ]
    },
    {
     "data": {
      "text/plain": [
       "LogisticRegression()"
      ]
     },
     "execution_count": 78,
     "metadata": {},
     "output_type": "execute_result"
    }
   ],
   "source": [
    "from sklearn.linear_model import LogisticRegression\n",
    "lr = LogisticRegression()\n",
    "lr.fit(X_train,y_train)"
   ]
  },
  {
   "cell_type": "code",
   "execution_count": 79,
   "id": "a2edf899",
   "metadata": {},
   "outputs": [
    {
     "name": "stdout",
     "output_type": "stream",
     "text": [
      "LogisticRegression()\n",
      "accuracy  0.41682113067655235\n",
      "Recall  0.41682113067655235\n",
      "Precision  0.2590544767100749\n",
      "f1  0.2777401609655689\n",
      "AUC-ROC-Score  0.6776151897807662\n"
     ]
    },
    {
     "data": {
      "image/png": "[encoded data removed]",
      "text/plain": [
       "<Figure size 576x432 with 2 Axes>"
      ]
     },
     "metadata": {
      "needs_background": "light"
     },
     "output_type": "display_data"
    }
   ],
   "source": [
    "ez_model(lr, metrics = True, plot = True)"
   ]
  },
  {
   "cell_type": "code",
   "execution_count": 46,
   "id": "21ef7e9f",
   "metadata": {},
   "outputs": [],
   "source": [
    "lr_dense = lr.decision_function(X_test)"
   ]
  },
  {
   "cell_type": "code",
   "execution_count": 47,
   "id": "6b45b579",
   "metadata": {},
   "outputs": [
    {
     "data": {
      "text/plain": [
       "array([[ 1.48129204,  1.31358008, -2.68766975, ...,  0.77959551,\n",
       "        -5.95907472,  2.28719245],\n",
       "       [ 0.31181909,  0.71104544, -0.05439222, ...,  0.31901399,\n",
       "        -1.89769403, -0.23443892],\n",
       "       [-0.25024411, -0.28490529, -0.88649024, ...,  0.61172884,\n",
       "        -0.69931786,  0.21982492],\n",
       "       ...,\n",
       "       [ 1.60705052,  0.81988648, -1.67023577, ...,  0.77710738,\n",
       "        -5.59692961,  1.06018725],\n",
       "       [ 1.78338775,  1.00148123, -1.5937895 , ...,  0.60684077,\n",
       "        -5.88169667,  1.20900981],\n",
       "       [ 1.73350618,  1.59070818, -1.61914395, ...,  0.77207545,\n",
       "        -6.67809818,  1.52292975]])"
      ]
     },
     "execution_count": 47,
     "metadata": {},
     "output_type": "execute_result"
    }
   ],
   "source": [
    "lr_dense"
   ]
  },
  {
   "cell_type": "code",
   "execution_count": 48,
   "id": "032a30e1",
   "metadata": {},
   "outputs": [
    {
     "data": {
      "text/plain": [
       "(4316, 7)"
      ]
     },
     "execution_count": 48,
     "metadata": {},
     "output_type": "execute_result"
    }
   ],
   "source": [
    "lr_proba = lr.predict_proba(X_test)\n",
    "lr_proba.shape\n"
   ]
  },
  {
   "cell_type": "code",
   "execution_count": 51,
   "id": "fc2c480e",
   "metadata": {},
   "outputs": [
    {
     "data": {
      "text/plain": [
       "count    4316.000000\n",
       "mean        0.428044\n",
       "std         0.123434\n",
       "min         0.186486\n",
       "25%         0.326635\n",
       "50%         0.413153\n",
       "75%         0.534291\n",
       "max         0.727546\n",
       "dtype: float64"
      ]
     },
     "execution_count": 51,
     "metadata": {},
     "output_type": "execute_result"
    }
   ],
   "source": [
    "s = pd.Series(maxp)\n",
    "s.describe()"
   ]
  },
  {
   "cell_type": "code",
   "execution_count": 52,
   "id": "7f2d3c91",
   "metadata": {},
   "outputs": [
    {
     "data": {
      "text/html": [
       "<div>\n",
       "<style scoped>\n",
       "    .dataframe tbody tr th:only-of-type {\n",
       "        vertical-align: middle;\n",
       "    }\n",
       "\n",
       "    .dataframe tbody tr th {\n",
       "        vertical-align: top;\n",
       "    }\n",
       "\n",
       "    .dataframe thead th {\n",
       "        text-align: right;\n",
       "    }\n",
       "</style>\n",
       "<table border=\"1\" class=\"dataframe\">\n",
       "  <thead>\n",
       "    <tr style=\"text-align: right;\">\n",
       "      <th></th>\n",
       "      <th>prediction</th>\n",
       "      <th>prob</th>\n",
       "    </tr>\n",
       "  </thead>\n",
       "  <tbody>\n",
       "    <tr>\n",
       "      <th>0</th>\n",
       "      <td>3</td>\n",
       "      <td>0.444871</td>\n",
       "    </tr>\n",
       "    <tr>\n",
       "      <th>1</th>\n",
       "      <td>3</td>\n",
       "      <td>0.258776</td>\n",
       "    </tr>\n",
       "    <tr>\n",
       "      <th>2</th>\n",
       "      <td>3</td>\n",
       "      <td>0.396364</td>\n",
       "    </tr>\n",
       "    <tr>\n",
       "      <th>3</th>\n",
       "      <td>3</td>\n",
       "      <td>0.459383</td>\n",
       "    </tr>\n",
       "    <tr>\n",
       "      <th>4</th>\n",
       "      <td>3</td>\n",
       "      <td>0.460790</td>\n",
       "    </tr>\n",
       "    <tr>\n",
       "      <th>...</th>\n",
       "      <td>...</td>\n",
       "      <td>...</td>\n",
       "    </tr>\n",
       "    <tr>\n",
       "      <th>4311</th>\n",
       "      <td>3</td>\n",
       "      <td>0.636703</td>\n",
       "    </tr>\n",
       "    <tr>\n",
       "      <th>4312</th>\n",
       "      <td>3</td>\n",
       "      <td>0.355497</td>\n",
       "    </tr>\n",
       "    <tr>\n",
       "      <th>4313</th>\n",
       "      <td>3</td>\n",
       "      <td>0.616855</td>\n",
       "    </tr>\n",
       "    <tr>\n",
       "      <th>4314</th>\n",
       "      <td>3</td>\n",
       "      <td>0.557548</td>\n",
       "    </tr>\n",
       "    <tr>\n",
       "      <th>4315</th>\n",
       "      <td>3</td>\n",
       "      <td>0.453846</td>\n",
       "    </tr>\n",
       "  </tbody>\n",
       "</table>\n",
       "<p>4316 rows × 2 columns</p>\n",
       "</div>"
      ],
      "text/plain": [
       "      prediction      prob\n",
       "0              3  0.444871\n",
       "1              3  0.258776\n",
       "2              3  0.396364\n",
       "3              3  0.459383\n",
       "4              3  0.460790\n",
       "...          ...       ...\n",
       "4311           3  0.636703\n",
       "4312           3  0.355497\n",
       "4313           3  0.616855\n",
       "4314           3  0.557548\n",
       "4315           3  0.453846\n",
       "\n",
       "[4316 rows x 2 columns]"
      ]
     },
     "execution_count": 52,
     "metadata": {},
     "output_type": "execute_result"
    }
   ],
   "source": [
    "lrdf = pd.DataFrame({'prediction':list(lr.predict(X_test)),'prob':s})\n",
    "lrdf"
   ]
  },
  {
   "cell_type": "code",
   "execution_count": 53,
   "id": "41846ebd",
   "metadata": {},
   "outputs": [
    {
     "data": {
      "text/html": [
       "<div>\n",
       "<style scoped>\n",
       "    .dataframe tbody tr th:only-of-type {\n",
       "        vertical-align: middle;\n",
       "    }\n",
       "\n",
       "    .dataframe tbody tr th {\n",
       "        vertical-align: top;\n",
       "    }\n",
       "\n",
       "    .dataframe thead th {\n",
       "        text-align: right;\n",
       "    }\n",
       "</style>\n",
       "<table border=\"1\" class=\"dataframe\">\n",
       "  <thead>\n",
       "    <tr style=\"text-align: right;\">\n",
       "      <th></th>\n",
       "      <th>prediction</th>\n",
       "      <th>prob</th>\n",
       "      <th>true</th>\n",
       "    </tr>\n",
       "  </thead>\n",
       "  <tbody>\n",
       "    <tr>\n",
       "      <th>0</th>\n",
       "      <td>3</td>\n",
       "      <td>0.444871</td>\n",
       "      <td>1</td>\n",
       "    </tr>\n",
       "    <tr>\n",
       "      <th>1</th>\n",
       "      <td>3</td>\n",
       "      <td>0.258776</td>\n",
       "      <td>6</td>\n",
       "    </tr>\n",
       "    <tr>\n",
       "      <th>2</th>\n",
       "      <td>3</td>\n",
       "      <td>0.396364</td>\n",
       "      <td>0</td>\n",
       "    </tr>\n",
       "    <tr>\n",
       "      <th>3</th>\n",
       "      <td>3</td>\n",
       "      <td>0.459383</td>\n",
       "      <td>3</td>\n",
       "    </tr>\n",
       "    <tr>\n",
       "      <th>4</th>\n",
       "      <td>3</td>\n",
       "      <td>0.460790</td>\n",
       "      <td>3</td>\n",
       "    </tr>\n",
       "    <tr>\n",
       "      <th>...</th>\n",
       "      <td>...</td>\n",
       "      <td>...</td>\n",
       "      <td>...</td>\n",
       "    </tr>\n",
       "    <tr>\n",
       "      <th>4311</th>\n",
       "      <td>3</td>\n",
       "      <td>0.636703</td>\n",
       "      <td>1</td>\n",
       "    </tr>\n",
       "    <tr>\n",
       "      <th>4312</th>\n",
       "      <td>3</td>\n",
       "      <td>0.355497</td>\n",
       "      <td>4</td>\n",
       "    </tr>\n",
       "    <tr>\n",
       "      <th>4313</th>\n",
       "      <td>3</td>\n",
       "      <td>0.616855</td>\n",
       "      <td>1</td>\n",
       "    </tr>\n",
       "    <tr>\n",
       "      <th>4314</th>\n",
       "      <td>3</td>\n",
       "      <td>0.557548</td>\n",
       "      <td>6</td>\n",
       "    </tr>\n",
       "    <tr>\n",
       "      <th>4315</th>\n",
       "      <td>3</td>\n",
       "      <td>0.453846</td>\n",
       "      <td>3</td>\n",
       "    </tr>\n",
       "  </tbody>\n",
       "</table>\n",
       "<p>4316 rows × 3 columns</p>\n",
       "</div>"
      ],
      "text/plain": [
       "      prediction      prob  true\n",
       "0              3  0.444871     1\n",
       "1              3  0.258776     6\n",
       "2              3  0.396364     0\n",
       "3              3  0.459383     3\n",
       "4              3  0.460790     3\n",
       "...          ...       ...   ...\n",
       "4311           3  0.636703     1\n",
       "4312           3  0.355497     4\n",
       "4313           3  0.616855     1\n",
       "4314           3  0.557548     6\n",
       "4315           3  0.453846     3\n",
       "\n",
       "[4316 rows x 3 columns]"
      ]
     },
     "execution_count": 53,
     "metadata": {},
     "output_type": "execute_result"
    }
   ],
   "source": [
    "lrdf['true'] = list(y_test)\n",
    "lrdf"
   ]
  },
  {
   "cell_type": "code",
   "execution_count": 54,
   "id": "118c84fc",
   "metadata": {},
   "outputs": [],
   "source": [
    "ex1 = lrdf[lrdf.prob>0.6]"
   ]
  },
  {
   "cell_type": "code",
   "execution_count": 92,
   "id": "89a1f727",
   "metadata": {},
   "outputs": [
    {
     "data": {
      "text/plain": [
       "(487, 3)"
      ]
     },
     "execution_count": 92,
     "metadata": {},
     "output_type": "execute_result"
    }
   ],
   "source": [
    "ex1.shape"
   ]
  },
  {
   "cell_type": "markdown",
   "id": "0f47eb5a",
   "metadata": {},
   "source": [
    "Attempted to only advise when it ruled a probability of 0.6 or higher, accuracy improved to 62.4% but only yielded 487 predictions from an original set of 4316. "
   ]
  },
  {
   "cell_type": "code",
   "execution_count": 55,
   "id": "781fc57c",
   "metadata": {},
   "outputs": [
    {
     "data": {
      "text/plain": [
       "0.6242299794661191"
      ]
     },
     "execution_count": 55,
     "metadata": {},
     "output_type": "execute_result"
    }
   ],
   "source": [
    "accuracy_score(ex1.prediction.to_numpy(), ex1.true.to_numpy())"
   ]
  },
  {
   "cell_type": "code",
   "execution_count": 45,
   "id": "aff3ebbd",
   "metadata": {},
   "outputs": [
    {
     "name": "stdout",
     "output_type": "stream",
     "text": [
      "Recall  0.4254287403903016\n",
      "Precision  0.2822530797256812\n",
      "AUC-ROC-Score  0.6913697727589802\n"
     ]
    }
   ],
   "source": [
    "ez_mets(lr)"
   ]
  },
  {
   "cell_type": "markdown",
   "id": "faeb9af6",
   "metadata": {},
   "source": [
    "## Decision Tree Classifier"
   ]
  },
  {
   "cell_type": "code",
   "execution_count": 56,
   "id": "6ca218a7",
   "metadata": {},
   "outputs": [],
   "source": [
    "from sklearn.tree import DecisionTreeClassifier"
   ]
  },
  {
   "cell_type": "code",
   "execution_count": 80,
   "id": "ee941e76",
   "metadata": {},
   "outputs": [],
   "source": [
    "dt = DecisionTreeClassifier()"
   ]
  },
  {
   "cell_type": "code",
   "execution_count": 81,
   "id": "25716bb9",
   "metadata": {},
   "outputs": [
    {
     "data": {
      "text/plain": [
       "DecisionTreeClassifier()"
      ]
     },
     "execution_count": 81,
     "metadata": {},
     "output_type": "execute_result"
    }
   ],
   "source": [
    "dt.fit(X_train,y_train)"
   ]
  },
  {
   "cell_type": "code",
   "execution_count": null,
   "id": "fcc9cf46",
   "metadata": {},
   "outputs": [],
   "source": [
    "ez_model(dt,metrics = True, plot = True)"
   ]
  },
  {
   "cell_type": "code",
   "execution_count": 59,
   "id": "487c67c5",
   "metadata": {},
   "outputs": [
    {
     "data": {
      "image/png": "[encoded data removed]",
      "text/plain": [
       "<Figure size 576x432 with 2 Axes>"
      ]
     },
     "metadata": {
      "needs_background": "light"
     },
     "output_type": "display_data"
    }
   ],
   "source": [
    "plot_cm(dt)"
   ]
  },
  {
   "cell_type": "code",
   "execution_count": 82,
   "id": "3120228b",
   "metadata": {},
   "outputs": [
    {
     "name": "stdout",
     "output_type": "stream",
     "text": [
      "DecisionTreeClassifier()\n",
      "accuracy  0.327386468952734\n",
      "Recall  0.327386468952734\n",
      "Precision  0.3224955497464609\n",
      "f1  0.32407068618985346\n",
      "AUC-ROC-Score  0.5477664416923969\n"
     ]
    }
   ],
   "source": [
    "ez_model(dt, store = True)"
   ]
  },
  {
   "cell_type": "markdown",
   "id": "6cd4a223",
   "metadata": {},
   "source": [
    "## Random Forest Classifier"
   ]
  },
  {
   "cell_type": "code",
   "execution_count": 83,
   "id": "fb015f28",
   "metadata": {},
   "outputs": [],
   "source": [
    "from sklearn.ensemble import RandomForestClassifier\n",
    "rf = RandomForestClassifier()"
   ]
  },
  {
   "cell_type": "code",
   "execution_count": 84,
   "id": "561b4dc4",
   "metadata": {},
   "outputs": [
    {
     "data": {
      "text/plain": [
       "RandomForestClassifier()"
      ]
     },
     "execution_count": 84,
     "metadata": {},
     "output_type": "execute_result"
    }
   ],
   "source": [
    "rf.fit(X_train,y_train)"
   ]
  },
  {
   "cell_type": "code",
   "execution_count": 85,
   "id": "4636b4ea",
   "metadata": {},
   "outputs": [
    {
     "name": "stdout",
     "output_type": "stream",
     "text": [
      "RandomForestClassifier()\n",
      "accuracy  0.3644578313253012\n",
      "Recall  0.3644578313253012\n",
      "Precision  0.3248815116895297\n",
      "f1  0.3379399645767752\n",
      "AUC-ROC-Score  0.644192358101397\n"
     ]
    }
   ],
   "source": [
    "ez_model(rf, store = True)"
   ]
  },
  {
   "cell_type": "code",
   "execution_count": 64,
   "id": "d11cf7f1",
   "metadata": {},
   "outputs": [
    {
     "data": {
      "image/png": "[encoded data removed]",
      "text/plain": [
       "<Figure size 576x432 with 2 Axes>"
      ]
     },
     "metadata": {
      "needs_background": "light"
     },
     "output_type": "display_data"
    }
   ],
   "source": [
    "plot_cm(rf)"
   ]
  },
  {
   "cell_type": "code",
   "execution_count": 65,
   "id": "4d7b7740",
   "metadata": {},
   "outputs": [
    {
     "data": {
      "text/plain": [
       "array([0.21717324, 0.09002305, 0.17092025, 0.12799685, 0.04693132,\n",
       "       0.02725067, 0.06712473, 0.09131626, 0.04112497, 0.03665434,\n",
       "       0.02270406, 0.03577674, 0.02500351])"
      ]
     },
     "execution_count": 65,
     "metadata": {},
     "output_type": "execute_result"
    }
   ],
   "source": [
    "rf.feature_importances_"
   ]
  },
  {
   "cell_type": "code",
   "execution_count": 66,
   "id": "6570bed9",
   "metadata": {},
   "outputs": [
    {
     "data": {
      "image/png": "[encoded data removed]",
      "text/plain": [
       "<Figure size 720x576 with 1 Axes>"
      ]
     },
     "metadata": {
      "needs_background": "light"
     },
     "output_type": "display_data"
    }
   ],
   "source": [
    "rf_features =  pd.Series(rf.feature_importances_, index = X.columns)\n",
    "\n",
    "rf_features.sort_values().plot(kind='barh', figsize=(10,8))\n",
    "plt.title('Features by rank of importance in the RF model')\n",
    "plt.show()"
   ]
  },
  {
   "cell_type": "code",
   "execution_count": 67,
   "id": "17a8f23b",
   "metadata": {},
   "outputs": [
    {
     "name": "stdout",
     "output_type": "stream",
     "text": [
      "Recall  0.3588971269694161\n",
      "Precision  0.31830254876429\n",
      "AUC-ROC-Score  0.6433215891664907\n"
     ]
    }
   ],
   "source": [
    "ez_mets(rf)"
   ]
  },
  {
   "cell_type": "markdown",
   "id": "3480e999",
   "metadata": {},
   "source": [
    "The 3 models on default parameter settings have fairly similar accuracy scores, however their confusion matrix shows that they arrived at that score differently. The Logistic Regression model arrived at a score very similar to that of the dummy classifier (set to predict the most_common label), by overwhelmingly predicting the most common label. The dt and rf models both showed a much more balanced set of predictions but with lower accuracy scores."
   ]
  },
  {
   "cell_type": "markdown",
   "id": "6f44b42d",
   "metadata": {},
   "source": [
    "## Gradient Boosting Classifier"
   ]
  },
  {
   "cell_type": "code",
   "execution_count": 86,
   "id": "cf999038",
   "metadata": {},
   "outputs": [],
   "source": [
    "from sklearn.ensemble import GradientBoostingClassifier\n",
    "gb = GradientBoostingClassifier()\n"
   ]
  },
  {
   "cell_type": "code",
   "execution_count": 87,
   "id": "86d47e35",
   "metadata": {},
   "outputs": [
    {
     "data": {
      "text/plain": [
       "GradientBoostingClassifier()"
      ]
     },
     "execution_count": 87,
     "metadata": {},
     "output_type": "execute_result"
    }
   ],
   "source": [
    "gb.fit(X_train,y_train)"
   ]
  },
  {
   "cell_type": "code",
   "execution_count": 88,
   "id": "e2f989fd",
   "metadata": {},
   "outputs": [
    {
     "name": "stdout",
     "output_type": "stream",
     "text": [
      "GradientBoostingClassifier()\n",
      "accuracy  0.43721037998146434\n",
      "Recall  0.43721037998146434\n",
      "Precision  0.35798715283298044\n",
      "f1  0.3148368552497716\n",
      "AUC-ROC-Score  0.7228913164557556\n"
     ]
    },
    {
     "data": {
      "image/png": "[encoded data removed]",
      "text/plain": [
       "<Figure size 576x432 with 2 Axes>"
      ]
     },
     "metadata": {
      "needs_background": "light"
     },
     "output_type": "display_data"
    }
   ],
   "source": [
    "ez_model(gb, store = True, plot = True)"
   ]
  },
  {
   "cell_type": "code",
   "execution_count": 70,
   "id": "defb6948",
   "metadata": {},
   "outputs": [
    {
     "data": {
      "image/png": "[encoded data removed]",
      "text/plain": [
       "<Figure size 720x576 with 1 Axes>"
      ]
     },
     "metadata": {
      "needs_background": "light"
     },
     "output_type": "display_data"
    }
   ],
   "source": [
    "gb_features =  pd.Series(gb.feature_importances_, index = X.columns)\n",
    "\n",
    "gb_features.sort_values().plot(kind='barh', figsize=(10,8))\n",
    "plt.title('Features by rank of importance in the GB model')\n",
    "plt.show()"
   ]
  },
  {
   "cell_type": "code",
   "execution_count": 71,
   "id": "e4528254",
   "metadata": {},
   "outputs": [
    {
     "data": {
      "image/png": "[encoded data removed]",
      "text/plain": [
       "<Figure size 576x432 with 2 Axes>"
      ]
     },
     "metadata": {
      "needs_background": "light"
     },
     "output_type": "display_data"
    }
   ],
   "source": [
    "plot_cm(gb)"
   ]
  },
  {
   "cell_type": "code",
   "execution_count": 72,
   "id": "8d475397",
   "metadata": {},
   "outputs": [
    {
     "name": "stdout",
     "output_type": "stream",
     "text": [
      "Recall  0.43721037998146434\n",
      "Precision  0.35798715283298044\n",
      "AUC-ROC-Score  0.7228951160052527\n"
     ]
    }
   ],
   "source": [
    "ez_mets(gb)"
   ]
  },
  {
   "cell_type": "markdown",
   "id": "db4fbbd5",
   "metadata": {},
   "source": [
    "it is very robust (not much changing...) idk if thats good or not. "
   ]
  },
  {
   "cell_type": "code",
   "execution_count": 89,
   "id": "15a59a57",
   "metadata": {},
   "outputs": [],
   "source": [
    "metrics = pd.DataFrame(metrics_dict)"
   ]
  },
  {
   "cell_type": "code",
   "execution_count": 90,
   "id": "fe030b20",
   "metadata": {},
   "outputs": [
    {
     "data": {
      "text/html": [
       "<div>\n",
       "<style scoped>\n",
       "    .dataframe tbody tr th:only-of-type {\n",
       "        vertical-align: middle;\n",
       "    }\n",
       "\n",
       "    .dataframe tbody tr th {\n",
       "        vertical-align: top;\n",
       "    }\n",
       "\n",
       "    .dataframe thead th {\n",
       "        text-align: right;\n",
       "    }\n",
       "</style>\n",
       "<table border=\"1\" class=\"dataframe\">\n",
       "  <thead>\n",
       "    <tr style=\"text-align: right;\">\n",
       "      <th></th>\n",
       "      <th>model</th>\n",
       "      <th>accuracy</th>\n",
       "      <th>recall</th>\n",
       "      <th>precision</th>\n",
       "      <th>f1_score</th>\n",
       "      <th>roc_auc_score</th>\n",
       "    </tr>\n",
       "  </thead>\n",
       "  <tbody>\n",
       "    <tr>\n",
       "      <th>0</th>\n",
       "      <td>DummyClassifier(strategy='most_frequent')</td>\n",
       "      <td>0.426321</td>\n",
       "      <td>0.426321</td>\n",
       "      <td>0.181749</td>\n",
       "      <td>0.254851</td>\n",
       "      <td>0.500000</td>\n",
       "    </tr>\n",
       "    <tr>\n",
       "      <th>1</th>\n",
       "      <td>LogisticRegression()</td>\n",
       "      <td>0.416821</td>\n",
       "      <td>0.416821</td>\n",
       "      <td>0.259054</td>\n",
       "      <td>0.277740</td>\n",
       "      <td>0.677615</td>\n",
       "    </tr>\n",
       "    <tr>\n",
       "      <th>2</th>\n",
       "      <td>DecisionTreeClassifier()</td>\n",
       "      <td>0.327386</td>\n",
       "      <td>0.327386</td>\n",
       "      <td>0.322496</td>\n",
       "      <td>0.324071</td>\n",
       "      <td>0.547766</td>\n",
       "    </tr>\n",
       "    <tr>\n",
       "      <th>3</th>\n",
       "      <td>RandomForestClassifier()</td>\n",
       "      <td>0.364458</td>\n",
       "      <td>0.364458</td>\n",
       "      <td>0.324882</td>\n",
       "      <td>0.337940</td>\n",
       "      <td>0.644192</td>\n",
       "    </tr>\n",
       "    <tr>\n",
       "      <th>4</th>\n",
       "      <td>GradientBoostingClassifier()</td>\n",
       "      <td>0.437210</td>\n",
       "      <td>0.437210</td>\n",
       "      <td>0.357987</td>\n",
       "      <td>0.314837</td>\n",
       "      <td>0.722891</td>\n",
       "    </tr>\n",
       "  </tbody>\n",
       "</table>\n",
       "</div>"
      ],
      "text/plain": [
       "                                       model  accuracy    recall  precision  \\\n",
       "0  DummyClassifier(strategy='most_frequent')  0.426321  0.426321   0.181749   \n",
       "1                       LogisticRegression()  0.416821  0.416821   0.259054   \n",
       "2                   DecisionTreeClassifier()  0.327386  0.327386   0.322496   \n",
       "3                   RandomForestClassifier()  0.364458  0.364458   0.324882   \n",
       "4               GradientBoostingClassifier()  0.437210  0.437210   0.357987   \n",
       "\n",
       "   f1_score  roc_auc_score  \n",
       "0  0.254851       0.500000  \n",
       "1  0.277740       0.677615  \n",
       "2  0.324071       0.547766  \n",
       "3  0.337940       0.644192  \n",
       "4  0.314837       0.722891  "
      ]
     },
     "execution_count": 90,
     "metadata": {},
     "output_type": "execute_result"
    }
   ],
   "source": [
    "metrics"
   ]
  },
  {
   "cell_type": "markdown",
   "id": "6deac1d0",
   "metadata": {},
   "source": [
    "Out of the box, the gradient boosting classifier seems to show the most promise out of the 4 non dummy classifiers we tried. The decision tree and random forest both were more \"ambitious\" with their predictions, having a much more diverse, if less accurate prediction set.\n",
    "\n",
    "The F1 scores were better on the decision tree and random forest models.\n",
    "The logistic regression and gradient boosting models both predicted the four seam fastball an overwhelming majority of the time. "
   ]
  },
  {
   "cell_type": "markdown",
   "id": "b8d6ad7d",
   "metadata": {},
   "source": [
    "Now we want to work on improving our predictions. \n",
    "\n",
    "From here, we can look to improve our model in a couple different ways. We could start experimenting with the hyperparameters of the models, or we could try to go back to our data and either use sampling methods (SMOTE, etc) to train our model on a more evenly distributed set of data, or add data from the original pitch csv files (recall that we started with ~2,500,000 rows, and are now only working with 21,580). "
   ]
  },
  {
   "cell_type": "markdown",
   "id": "3a8a8b33",
   "metadata": {},
   "source": [
    "## SMOTE & Undersampling"
   ]
  },
  {
   "cell_type": "code",
   "execution_count": 96,
   "id": "0ed4459e",
   "metadata": {},
   "outputs": [],
   "source": [
    "from numpy import mean\n",
    "from sklearn.datasets import make_classification\n",
    "from sklearn.model_selection import cross_val_score\n",
    "from sklearn.model_selection import RepeatedStratifiedKFold\n",
    "from sklearn.tree import DecisionTreeClassifier\n",
    "from imblearn.pipeline import Pipeline\n",
    "from imblearn.over_sampling import SMOTE"
   ]
  },
  {
   "cell_type": "code",
   "execution_count": 97,
   "id": "55ff917f",
   "metadata": {},
   "outputs": [],
   "source": [
    "from imblearn.over_sampling import SMOTE\n",
    "from collections import Counter\n",
    "from imblearn.under_sampling import RandomUnderSampler\n"
   ]
  },
  {
   "cell_type": "code",
   "execution_count": 102,
   "id": "4f72401b",
   "metadata": {},
   "outputs": [
    {
     "data": {
      "text/plain": [
       "Counter({4: 4143, 1: 3510, 3: 14393, 0: 3915, 6: 6083, 2: 1171, 5: 602})"
      ]
     },
     "execution_count": 102,
     "metadata": {},
     "output_type": "execute_result"
    }
   ],
   "source": [
    "count_before_resample = Counter(y_train)\n",
    "count_before_resample"
   ]
  },
  {
   "cell_type": "code",
   "execution_count": 63,
   "id": "7e369bac",
   "metadata": {},
   "outputs": [],
   "source": [
    "#lets try the following distribution\n",
    "strategy1 = {0:2500, 1:2300, 2:900,  4:2500, 5:400, 6:3500}\n",
    "strategydown = {3:4500}"
   ]
  },
  {
   "cell_type": "code",
   "execution_count": 103,
   "id": "cc98aa39",
   "metadata": {},
   "outputs": [],
   "source": [
    "#for multiyear\n",
    "strategy16 = {0:5000, 1:4600, 2:1800,  4:5000, 5:800, 6:7000}\n",
    "strategydown16 = {3:9000}"
   ]
  },
  {
   "cell_type": "code",
   "execution_count": 64,
   "id": "02768322",
   "metadata": {},
   "outputs": [],
   "source": [
    "oversample = SMOTE(sampling_strategy = strategy1)\n",
    "X_tr, y_tr = oversample.fit_resample(X_train, y_train)"
   ]
  },
  {
   "cell_type": "code",
   "execution_count": 65,
   "id": "987d6a24",
   "metadata": {},
   "outputs": [],
   "source": [
    "undersample = RandomUnderSampler(sampling_strategy = strategydown, random_state = 123)\n",
    "X_tr, y_tr = undersample.fit_resample(X_tr, y_tr)"
   ]
  },
  {
   "cell_type": "code",
   "execution_count": 104,
   "id": "b90eac8f",
   "metadata": {},
   "outputs": [],
   "source": [
    "#for multiyear\n",
    "oversample = SMOTE(sampling_strategy = strategy16)\n",
    "X_tr, y_tr = oversample.fit_resample(X_train, y_train)\n",
    "undersample = RandomUnderSampler(sampling_strategy = strategydown16, random_state = 123)\n",
    "X_tr, y_tr = undersample.fit_resample(X_tr, y_tr)"
   ]
  },
  {
   "cell_type": "code",
   "execution_count": 105,
   "id": "464860a1",
   "metadata": {},
   "outputs": [
    {
     "data": {
      "text/plain": [
       "Counter({0: 5000, 1: 4600, 2: 1800, 3: 9000, 4: 5000, 5: 800, 6: 7000})"
      ]
     },
     "execution_count": 105,
     "metadata": {},
     "output_type": "execute_result"
    }
   ],
   "source": [
    "count_after_resample = Counter(y_tr)\n",
    "count_after_resample"
   ]
  },
  {
   "cell_type": "code",
   "execution_count": 106,
   "id": "c38b7c2d",
   "metadata": {},
   "outputs": [
    {
     "data": {
      "image/png": "[encoded data removed]",
      "text/plain": [
       "<Figure size 720x360 with 2 Axes>"
      ]
     },
     "metadata": {
      "needs_background": "light"
     },
     "output_type": "display_data"
    }
   ],
   "source": [
    "\n",
    "fig, ax = plt.subplots(nrows=1, ncols=2, figsize=(10,5), sharey = True)\n",
    "\n",
    "\n",
    "ax[0].bar(count_before_resample.keys(), count_before_resample.values())\n",
    "ax[0].yticks = np.arange(0,8000,1000)\n",
    "ax[0].set_title('distribution before resampling')\n",
    "#plt.subplot(1,2,2)\n",
    "ax[1].bar(count_after_resample.keys(), count_after_resample.values())\n",
    "ax[1].yticks = np.arange(0,8000,1000)\n",
    "plt.title('distribution after resampling')\n",
    "plt.show()"
   ]
  },
  {
   "cell_type": "code",
   "execution_count": 107,
   "id": "7c9be2e2",
   "metadata": {},
   "outputs": [
    {
     "data": {
      "image/png": "[encoded data removed]",
      "text/plain": [
       "<Figure size 432x288 with 1 Axes>"
      ]
     },
     "metadata": {
      "needs_background": "light"
     },
     "output_type": "display_data"
    }
   ],
   "source": [
    "locs1 = np.arange(0,7,1)\n",
    "locs2 = np.arange(0.3,7.3,1)\n",
    "\n",
    "p1 = plt.bar(locs1,  count_before_resample.values(), width = 0.3, label = 'pre sampling')\n",
    "p2 = plt.bar(locs2,  count_after_resample.values(), width = 0.3,label = 'post sampling')\n",
    "\n",
    "plt.show()"
   ]
  },
  {
   "cell_type": "markdown",
   "id": "8cf49ac9",
   "metadata": {},
   "source": [
    "We now have a less imbalanced class distribution in our training data"
   ]
  },
  {
   "cell_type": "markdown",
   "id": "d8d39402",
   "metadata": {},
   "source": [
    "### Modeling with the new distribution"
   ]
  },
  {
   "cell_type": "code",
   "execution_count": 71,
   "id": "6701d44d",
   "metadata": {},
   "outputs": [
    {
     "data": {
      "text/plain": [
       "LogisticRegression()"
      ]
     },
     "execution_count": 71,
     "metadata": {},
     "output_type": "execute_result"
    }
   ],
   "source": [
    "lr.fit(X_tr, y_tr)"
   ]
  },
  {
   "cell_type": "code",
   "execution_count": 72,
   "id": "fb7de7c4",
   "metadata": {},
   "outputs": [
    {
     "data": {
      "image/png": "[encoded data removed]",
      "text/plain": [
       "<Figure size 576x432 with 2 Axes>"
      ]
     },
     "metadata": {
      "needs_background": "light"
     },
     "output_type": "display_data"
    }
   ],
   "source": [
    "plot_cm(lr)"
   ]
  },
  {
   "cell_type": "code",
   "execution_count": 73,
   "id": "780ec80e",
   "metadata": {},
   "outputs": [
    {
     "name": "stdout",
     "output_type": "stream",
     "text": [
      "Recall  0.3569485511531638\n",
      "Precision  0.3304679147500123\n",
      "AUC-ROC-Score  0.690226714851177\n"
     ]
    }
   ],
   "source": [
    "ez_mets(lr)"
   ]
  },
  {
   "cell_type": "code",
   "execution_count": 74,
   "id": "365907a8",
   "metadata": {},
   "outputs": [
    {
     "name": "stdout",
     "output_type": "stream",
     "text": [
      "LogisticRegression()\n",
      "accuracy  0.3569485511531638\n",
      "Recall  0.3569485511531638\n",
      "Precision  0.3304679147500123\n",
      "f1  0.3330121340139711\n",
      "AUC-ROC-Score  0.690226714851177\n"
     ]
    }
   ],
   "source": [
    "ez_model(lr, store = True)"
   ]
  },
  {
   "cell_type": "code",
   "execution_count": 75,
   "id": "122cf79f",
   "metadata": {},
   "outputs": [
    {
     "name": "stdout",
     "output_type": "stream",
     "text": [
      "RandomForestClassifier()\n",
      "accuracy  0.36581904198698995\n",
      "Recall  0.36581904198698995\n",
      "Precision  0.32021871346169545\n",
      "f1  0.3352329502269156\n",
      "AUC-ROC-Score  0.6569990915542275\n"
     ]
    },
    {
     "data": {
      "image/png": "[encoded data removed]",
      "text/plain": [
       "<Figure size 576x432 with 2 Axes>"
      ]
     },
     "metadata": {
      "needs_background": "light"
     },
     "output_type": "display_data"
    }
   ],
   "source": [
    "ez_model(rf, plot = True, store = True, fit = True)"
   ]
  },
  {
   "cell_type": "code",
   "execution_count": 76,
   "id": "023c6fb4",
   "metadata": {},
   "outputs": [
    {
     "name": "stdout",
     "output_type": "stream",
     "text": [
      "GradientBoostingClassifier()\n",
      "accuracy  0.4358367829686576\n",
      "Recall  0.4358367829686576\n",
      "Precision  0.35798477594163086\n",
      "f1  0.31460025947998804\n",
      "AUC-ROC-Score  0.7283790206471588\n"
     ]
    },
    {
     "data": {
      "image/png": "[encoded data removed]",
      "text/plain": [
       "<Figure size 576x432 with 2 Axes>"
      ]
     },
     "metadata": {
      "needs_background": "light"
     },
     "output_type": "display_data"
    }
   ],
   "source": [
    "ez_model(gb, plot = True, store = True, fit = True)"
   ]
  },
  {
   "cell_type": "code",
   "execution_count": 111,
   "id": "5ec71c97",
   "metadata": {},
   "outputs": [],
   "source": [
    "lr2 = LogisticRegression()"
   ]
  },
  {
   "cell_type": "code",
   "execution_count": 113,
   "id": "72f68b1d",
   "metadata": {},
   "outputs": [
    {
     "data": {
      "text/plain": [
       "LogisticRegression()"
      ]
     },
     "execution_count": 113,
     "metadata": {},
     "output_type": "execute_result"
    }
   ],
   "source": [
    "lr2.fit(X_tr,y_tr)"
   ]
  },
  {
   "cell_type": "code",
   "execution_count": 114,
   "id": "6bc693e2",
   "metadata": {},
   "outputs": [
    {
     "name": "stdout",
     "output_type": "stream",
     "text": [
      "LogisticRegression()\n",
      "accuracy  0.35931401537551744\n",
      "Recall  0.35931401537551744\n",
      "Precision  0.33253329400878656\n",
      "f1  0.33517667283778063\n",
      "AUC-ROC-Score  0.690102835381765\n"
     ]
    },
    {
     "data": {
      "image/png": "[encoded data removed]",
      "text/plain": [
       "<Figure size 576x432 with 2 Axes>"
      ]
     },
     "metadata": {
      "needs_background": "light"
     },
     "output_type": "display_data"
    }
   ],
   "source": [
    "ez_model(lr2, metrics=True, plot= True)"
   ]
  },
  {
   "cell_type": "code",
   "execution_count": null,
   "id": "b8b30700",
   "metadata": {},
   "outputs": [],
   "source": []
  },
  {
   "cell_type": "code",
   "execution_count": 120,
   "id": "d8dfce3d",
   "metadata": {},
   "outputs": [
    {
     "data": {
      "text/plain": [
       "RandomForestClassifier(n_estimators=1000)"
      ]
     },
     "execution_count": 120,
     "metadata": {},
     "output_type": "execute_result"
    }
   ],
   "source": [
    "rf2 = RandomForestClassifier(n_estimators = 1000)\n",
    "rf2.fit(X_tr,y_tr)"
   ]
  },
  {
   "cell_type": "code",
   "execution_count": 121,
   "id": "58e6e9f5",
   "metadata": {},
   "outputs": [
    {
     "name": "stdout",
     "output_type": "stream",
     "text": [
      "RandomForestClassifier(n_estimators=1000)\n",
      "accuracy  0.32808988764044944\n",
      "Recall  0.32808988764044944\n",
      "Precision  0.3330193847305942\n",
      "f1  0.329636474078963\n",
      "AUC-ROC-Score  0.6662290969066388\n"
     ]
    },
    {
     "data": {
      "image/png": "[encoded data removed]",
      "text/plain": [
       "<Figure size 576x432 with 2 Axes>"
      ]
     },
     "metadata": {
      "needs_background": "light"
     },
     "output_type": "display_data"
    }
   ],
   "source": [
    "ez_model(rf2, metrics = True, plot = True)"
   ]
  },
  {
   "cell_type": "code",
   "execution_count": 73,
   "id": "8d1e5a06",
   "metadata": {},
   "outputs": [
    {
     "name": "stdout",
     "output_type": "stream",
     "text": [
      "accuracy  0.3243744207599629\n",
      "f1  0.32824110080302477\n",
      "Recall  0.3243744207599629\n",
      "Precision  0.334579063550648\n",
      "AUC-ROC-Score  0.6453276060209986\n"
     ]
    },
    {
     "data": {
      "image/png": "[encoded data removed]",
      "text/plain": [
       "<Figure size 576x432 with 2 Axes>"
      ]
     },
     "metadata": {
      "needs_background": "light"
     },
     "output_type": "display_data"
    }
   ],
   "source": [
    "plot_cm(rf)\n",
    "ez_mets(rf)"
   ]
  },
  {
   "cell_type": "code",
   "execution_count": 119,
   "id": "14252245",
   "metadata": {},
   "outputs": [
    {
     "name": "stdout",
     "output_type": "stream",
     "text": [
      "GradientBoostingClassifier()\n",
      "accuracy  0.39053814311058543\n",
      "Recall  0.39053814311058543\n",
      "Precision  0.3468848052195333\n",
      "f1  0.35475381319348265\n",
      "AUC-ROC-Score  0.725698703140709\n"
     ]
    },
    {
     "data": {
      "image/png": "[encoded data removed]",
      "text/plain": [
       "<Figure size 576x432 with 2 Axes>"
      ]
     },
     "metadata": {
      "needs_background": "light"
     },
     "output_type": "display_data"
    }
   ],
   "source": [
    "gb3 = GradientBoostingClassifier()\n",
    "gb3.fit(X_tr, y_tr)\n",
    "ez_model(gb3, metrics = True, plot = True)"
   ]
  },
  {
   "cell_type": "code",
   "execution_count": 109,
   "id": "fcd7700a",
   "metadata": {},
   "outputs": [
    {
     "name": "stdout",
     "output_type": "stream",
     "text": [
      "LogisticRegression()\n",
      "accuracy  0.4254287403903016\n",
      "Recall  0.4254287403903016\n",
      "Precision  0.2822530797256812\n",
      "f1  0.29082936157655415\n",
      "AUC-ROC-Score  0.6913697727589802\n"
     ]
    },
    {
     "data": {
      "image/png": "[encoded data removed]",
      "text/plain": [
       "<Figure size 576x432 with 2 Axes>"
      ]
     },
     "metadata": {
      "needs_background": "light"
     },
     "output_type": "display_data"
    }
   ],
   "source": [
    "ez_model(lr, metrics = True, fit = True, plot = True)"
   ]
  },
  {
   "cell_type": "code",
   "execution_count": 117,
   "id": "e73d777f",
   "metadata": {},
   "outputs": [
    {
     "data": {
      "text/plain": [
       "Pipeline(steps=[('over', SMOTE()), ('model', LogisticRegression())])"
      ]
     },
     "execution_count": 117,
     "metadata": {},
     "output_type": "execute_result"
    }
   ],
   "source": [
    "steps = [('over', SMOTE()), ('model', LogisticRegression())]\n",
    "pipeline = Pipeline(steps=steps)\n",
    "pipeline.fit(X_train,y_train)"
   ]
  },
  {
   "cell_type": "code",
   "execution_count": 118,
   "id": "91e7ebf0",
   "metadata": {},
   "outputs": [
    {
     "name": "stdout",
     "output_type": "stream",
     "text": [
      "Pipeline(steps=[('over', SMOTE()), ('model', LogisticRegression())])\n",
      "accuracy  0.24671791839148433\n",
      "Recall  0.24671791839148433\n",
      "Precision  0.379344373504267\n",
      "f1  0.27464164916003037\n",
      "AUC-ROC-Score  0.6801354997635515\n"
     ]
    },
    {
     "data": {
      "image/png": "[encoded data removed]",
      "text/plain": [
       "<Figure size 576x432 with 2 Axes>"
      ]
     },
     "metadata": {
      "needs_background": "light"
     },
     "output_type": "display_data"
    }
   ],
   "source": [
    "ez_model(pipeline,metrics = True, plot = True)"
   ]
  },
  {
   "cell_type": "code",
   "execution_count": 77,
   "id": "9f08e062",
   "metadata": {},
   "outputs": [],
   "source": [
    "over = SMOTE()\n",
    "under = RandomUnderSampler()\n",
    "steps = [('over', over), ('under', under), ('model', RandomForestClassifier())]\n",
    "#from sklearn.ensemble import RandomForestClassifier\n",
    "#steps = [ ('model', RandomForestClassifier())]\n",
    "pipeline = Pipeline(steps=steps)"
   ]
  },
  {
   "cell_type": "code",
   "execution_count": 78,
   "id": "0932196d",
   "metadata": {},
   "outputs": [
    {
     "name": "stdout",
     "output_type": "stream",
     "text": [
      "[0.30305839 0.31441149 0.32622799 0.31765524 0.32738647]\n"
     ]
    }
   ],
   "source": [
    "cv = RepeatedStratifiedKFold(n_splits = 5, n_repeats = 3, random_state = 12)\n",
    "scores = cross_val_score(pipeline, X_s, y1, scoring = 'accuracy',n_jobs = -2)\n",
    "print(scores)"
   ]
  },
  {
   "cell_type": "markdown",
   "id": "ece2ef79",
   "metadata": {},
   "source": [
    "## Other hyperparameter tuning code\n",
    "\n",
    "Recall that the gradient boosting classifier had the best performance out of the box, but still wasn't much better than the dummy classifier. Many attempts were made to improve upon it (and the others) via hyperparameter tuning, but to no avail. Below is some of the code that was used. "
   ]
  },
  {
   "cell_type": "code",
   "execution_count": 79,
   "id": "83fc912e",
   "metadata": {},
   "outputs": [],
   "source": [
    "from sklearn.model_selection import RandomizedSearchCV"
   ]
  },
  {
   "cell_type": "code",
   "execution_count": null,
   "id": "b4288715",
   "metadata": {},
   "outputs": [],
   "source": [
    "dpts = np.arange(3,25,3)\n",
    "n_estimators = [50,100,200]\n",
    "#my_grid = {'n_estimators': n_estimators,\n",
    "#           'max_features': max_features,\n",
    "#           'min_samples_split': min_samples_split,\n",
    "#           'min_samples_leaf': min_samples_leaf,\n",
    "#           'bootstrap': bootstrap}\n",
    "grid_gb = {'max_depth':dpts, 'n_estimators' : n_estimators}\n",
    "gb = GradientBoostingClassifier()\n",
    "CV_gb = RandomizedSearchCV(estimator=gb, param_distributions=grid_gb, cv= 5, n_jobs = -2 , verbose = -2)\n",
    "CV_gb.fit(X_train, y_train)\n",
    "print(CV_gb.best_params_)\n"
   ]
  },
  {
   "cell_type": "code",
   "execution_count": null,
   "id": "4aa4e003",
   "metadata": {},
   "outputs": [],
   "source": [
    "CV_gb.best_params_"
   ]
  },
  {
   "cell_type": "code",
   "execution_count": null,
   "id": "0ec45500",
   "metadata": {},
   "outputs": [],
   "source": [
    "CV_gb.cv_results_"
   ]
  },
  {
   "cell_type": "code",
   "execution_count": null,
   "id": "8f930dbc",
   "metadata": {},
   "outputs": [],
   "source": [
    "plot_cm(CV_gb)"
   ]
  },
  {
   "cell_type": "code",
   "execution_count": null,
   "id": "1b20ea9c",
   "metadata": {},
   "outputs": [],
   "source": [
    "ez_mets(CV_gb)"
   ]
  },
  {
   "cell_type": "code",
   "execution_count": null,
   "id": "2de8e935",
   "metadata": {},
   "outputs": [],
   "source": [
    "CV_gb2.cv_results_"
   ]
  },
  {
   "cell_type": "code",
   "execution_count": null,
   "id": "4daf1f26",
   "metadata": {},
   "outputs": [],
   "source": [
    "plot_cm(CV_gb2)"
   ]
  },
  {
   "cell_type": "code",
   "execution_count": null,
   "id": "8dd5bd75",
   "metadata": {},
   "outputs": [],
   "source": [
    "ez_mets(CV_gb2)"
   ]
  },
  {
   "cell_type": "markdown",
   "id": "8c0dbac1",
   "metadata": {},
   "source": [
    "### Storing this model"
   ]
  },
  {
   "cell_type": "code",
   "execution_count": null,
   "id": "bc0220ae",
   "metadata": {},
   "outputs": [],
   "source": [
    "# From the guided capstone project file\n",
    "best_model = CV_gb2.best_estimator_\n",
    "best_model.version = '1.0'\n",
    "best_model.pandas_version = pd.__version__\n",
    "best_model.numpy_version = np.__version__\n",
    "best_model.sklearn_version = sklearn_version\n",
    "best_model.X_columns = [col for col in X_train.columns]\n",
    "best_model.build_datetime = datetime.datetime.now()"
   ]
  },
  {
   "cell_type": "code",
   "execution_count": null,
   "id": "8d9c4dc4",
   "metadata": {},
   "outputs": [],
   "source": [
    "# save the model\n",
    "modelpath = '../models'\n",
    "save_file(best_model, 'pitch_prediction.pkl', modelpath)"
   ]
  }
 ],
 "metadata": {
  "kernelspec": {
   "display_name": "Python 3",
   "language": "python",
   "name": "python3"
  },
  "language_info": {
   "codemirror_mode": {
    "name": "ipython",
    "version": 3
   },
   "file_extension": ".py",
   "mimetype": "text/x-python",
   "name": "python",
   "nbconvert_exporter": "python",
   "pygments_lexer": "ipython3",
   "version": "3.8.8"
  }
 },
 "nbformat": 4,
 "nbformat_minor": 5
}
