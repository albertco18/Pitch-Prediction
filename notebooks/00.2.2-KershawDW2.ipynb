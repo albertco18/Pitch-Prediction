{
 "cells": [
  {
   "cell_type": "markdown",
   "id": "4c0b0fff",
   "metadata": {},
   "source": [
    "# Continued Data Wrangling/EDA on Kershaw 2015"
   ]
  },
  {
   "cell_type": "code",
   "execution_count": 1,
   "id": "48501a87",
   "metadata": {},
   "outputs": [],
   "source": [
    "import pandas as pd\n",
    "import matplotlib.pyplot as plt\n",
    "import seaborn as sns\n",
    "import os\n",
    "import pandas_profiling\n",
    "from library.sb_utils import save_file\n",
    "import numpy as np\n",
    "%matplotlib inline"
   ]
  },
  {
   "cell_type": "code",
   "execution_count": 2,
   "id": "afb59100",
   "metadata": {},
   "outputs": [],
   "source": [
    "import datetime as dt\n",
    "from datetime import datetime"
   ]
  },
  {
   "cell_type": "markdown",
   "id": "f72a0554",
   "metadata": {},
   "source": [
    "## Import data"
   ]
  },
  {
   "cell_type": "code",
   "execution_count": 3,
   "id": "39173727",
   "metadata": {},
   "outputs": [],
   "source": [
    "Kershaw2015 = pd.read_csv('../data/interim/Kershaw2015.csv')"
   ]
  },
  {
   "cell_type": "code",
   "execution_count": 4,
   "id": "9381d95b",
   "metadata": {},
   "outputs": [
    {
     "data": {
      "text/html": [
       "<div>\n",
       "<style scoped>\n",
       "    .dataframe tbody tr th:only-of-type {\n",
       "        vertical-align: middle;\n",
       "    }\n",
       "\n",
       "    .dataframe tbody tr th {\n",
       "        vertical-align: top;\n",
       "    }\n",
       "\n",
       "    .dataframe thead th {\n",
       "        text-align: right;\n",
       "    }\n",
       "</style>\n",
       "<table border=\"1\" class=\"dataframe\">\n",
       "  <thead>\n",
       "    <tr style=\"text-align: right;\">\n",
       "      <th></th>\n",
       "      <th>ab_id</th>\n",
       "      <th>batter_id</th>\n",
       "      <th>event</th>\n",
       "      <th>g_id</th>\n",
       "      <th>inning</th>\n",
       "      <th>o</th>\n",
       "      <th>p_score</th>\n",
       "      <th>p_throws</th>\n",
       "      <th>pitcher_id</th>\n",
       "      <th>stand</th>\n",
       "      <th>...</th>\n",
       "      <th>event_num</th>\n",
       "      <th>b_score</th>\n",
       "      <th>b_count</th>\n",
       "      <th>s_count</th>\n",
       "      <th>outs</th>\n",
       "      <th>pitch_num</th>\n",
       "      <th>on_1b</th>\n",
       "      <th>on_2b</th>\n",
       "      <th>on_3b</th>\n",
       "      <th>pcodes</th>\n",
       "    </tr>\n",
       "  </thead>\n",
       "  <tbody>\n",
       "    <tr>\n",
       "      <th>0</th>\n",
       "      <td>2015000768</td>\n",
       "      <td>571976</td>\n",
       "      <td>Hit By Pitch</td>\n",
       "      <td>201500012</td>\n",
       "      <td>1</td>\n",
       "      <td>0</td>\n",
       "      <td>0</td>\n",
       "      <td>L</td>\n",
       "      <td>477132</td>\n",
       "      <td>R</td>\n",
       "      <td>...</td>\n",
       "      <td>3</td>\n",
       "      <td>0.0</td>\n",
       "      <td>0.0</td>\n",
       "      <td>0.0</td>\n",
       "      <td>0.0</td>\n",
       "      <td>1.0</td>\n",
       "      <td>0.0</td>\n",
       "      <td>0.0</td>\n",
       "      <td>0.0</td>\n",
       "      <td>1.0</td>\n",
       "    </tr>\n",
       "    <tr>\n",
       "      <th>1</th>\n",
       "      <td>2015000768</td>\n",
       "      <td>571976</td>\n",
       "      <td>Hit By Pitch</td>\n",
       "      <td>201500012</td>\n",
       "      <td>1</td>\n",
       "      <td>0</td>\n",
       "      <td>0</td>\n",
       "      <td>L</td>\n",
       "      <td>477132</td>\n",
       "      <td>R</td>\n",
       "      <td>...</td>\n",
       "      <td>4</td>\n",
       "      <td>0.0</td>\n",
       "      <td>0.0</td>\n",
       "      <td>1.0</td>\n",
       "      <td>0.0</td>\n",
       "      <td>2.0</td>\n",
       "      <td>0.0</td>\n",
       "      <td>0.0</td>\n",
       "      <td>0.0</td>\n",
       "      <td>1.0</td>\n",
       "    </tr>\n",
       "    <tr>\n",
       "      <th>2</th>\n",
       "      <td>2015000768</td>\n",
       "      <td>571976</td>\n",
       "      <td>Hit By Pitch</td>\n",
       "      <td>201500012</td>\n",
       "      <td>1</td>\n",
       "      <td>0</td>\n",
       "      <td>0</td>\n",
       "      <td>L</td>\n",
       "      <td>477132</td>\n",
       "      <td>R</td>\n",
       "      <td>...</td>\n",
       "      <td>5</td>\n",
       "      <td>0.0</td>\n",
       "      <td>0.0</td>\n",
       "      <td>2.0</td>\n",
       "      <td>0.0</td>\n",
       "      <td>3.0</td>\n",
       "      <td>0.0</td>\n",
       "      <td>0.0</td>\n",
       "      <td>0.0</td>\n",
       "      <td>1.0</td>\n",
       "    </tr>\n",
       "    <tr>\n",
       "      <th>3</th>\n",
       "      <td>2015000769</td>\n",
       "      <td>519083</td>\n",
       "      <td>Strikeout</td>\n",
       "      <td>201500012</td>\n",
       "      <td>1</td>\n",
       "      <td>1</td>\n",
       "      <td>0</td>\n",
       "      <td>L</td>\n",
       "      <td>477132</td>\n",
       "      <td>R</td>\n",
       "      <td>...</td>\n",
       "      <td>8</td>\n",
       "      <td>0.0</td>\n",
       "      <td>0.0</td>\n",
       "      <td>0.0</td>\n",
       "      <td>0.0</td>\n",
       "      <td>1.0</td>\n",
       "      <td>1.0</td>\n",
       "      <td>0.0</td>\n",
       "      <td>0.0</td>\n",
       "      <td>1.0</td>\n",
       "    </tr>\n",
       "    <tr>\n",
       "      <th>4</th>\n",
       "      <td>2015000769</td>\n",
       "      <td>519083</td>\n",
       "      <td>Strikeout</td>\n",
       "      <td>201500012</td>\n",
       "      <td>1</td>\n",
       "      <td>1</td>\n",
       "      <td>0</td>\n",
       "      <td>L</td>\n",
       "      <td>477132</td>\n",
       "      <td>R</td>\n",
       "      <td>...</td>\n",
       "      <td>9</td>\n",
       "      <td>0.0</td>\n",
       "      <td>1.0</td>\n",
       "      <td>0.0</td>\n",
       "      <td>0.0</td>\n",
       "      <td>2.0</td>\n",
       "      <td>1.0</td>\n",
       "      <td>0.0</td>\n",
       "      <td>0.0</td>\n",
       "      <td>1.0</td>\n",
       "    </tr>\n",
       "  </tbody>\n",
       "</table>\n",
       "<p>5 rows × 25 columns</p>\n",
       "</div>"
      ],
      "text/plain": [
       "        ab_id  batter_id         event       g_id  inning  o  p_score  \\\n",
       "0  2015000768     571976  Hit By Pitch  201500012       1  0        0   \n",
       "1  2015000768     571976  Hit By Pitch  201500012       1  0        0   \n",
       "2  2015000768     571976  Hit By Pitch  201500012       1  0        0   \n",
       "3  2015000769     519083     Strikeout  201500012       1  1        0   \n",
       "4  2015000769     519083     Strikeout  201500012       1  1        0   \n",
       "\n",
       "  p_throws  pitcher_id stand  ...  event_num b_score b_count s_count outs  \\\n",
       "0        L      477132     R  ...          3     0.0     0.0     0.0  0.0   \n",
       "1        L      477132     R  ...          4     0.0     0.0     1.0  0.0   \n",
       "2        L      477132     R  ...          5     0.0     0.0     2.0  0.0   \n",
       "3        L      477132     R  ...          8     0.0     0.0     0.0  0.0   \n",
       "4        L      477132     R  ...          9     0.0     1.0     0.0  0.0   \n",
       "\n",
       "   pitch_num  on_1b  on_2b  on_3b  pcodes  \n",
       "0        1.0    0.0    0.0    0.0     1.0  \n",
       "1        2.0    0.0    0.0    0.0     1.0  \n",
       "2        3.0    0.0    0.0    0.0     1.0  \n",
       "3        1.0    1.0    0.0    0.0     1.0  \n",
       "4        2.0    1.0    0.0    0.0     1.0  \n",
       "\n",
       "[5 rows x 25 columns]"
      ]
     },
     "execution_count": 4,
     "metadata": {},
     "output_type": "execute_result"
    }
   ],
   "source": [
    "Kershaw2015.head()"
   ]
  },
  {
   "cell_type": "code",
   "execution_count": 5,
   "id": "ab07f9ed",
   "metadata": {},
   "outputs": [
    {
     "name": "stdout",
     "output_type": "stream",
     "text": [
      "<class 'pandas.core.frame.DataFrame'>\n",
      "RangeIndex: 3392 entries, 0 to 3391\n",
      "Data columns (total 25 columns):\n",
      " #   Column      Non-Null Count  Dtype  \n",
      "---  ------      --------------  -----  \n",
      " 0   ab_id       3392 non-null   int64  \n",
      " 1   batter_id   3392 non-null   int64  \n",
      " 2   event       3392 non-null   object \n",
      " 3   g_id        3392 non-null   int64  \n",
      " 4   inning      3392 non-null   int64  \n",
      " 5   o           3392 non-null   int64  \n",
      " 6   p_score     3392 non-null   int64  \n",
      " 7   p_throws    3392 non-null   object \n",
      " 8   pitcher_id  3392 non-null   int64  \n",
      " 9   stand       3392 non-null   object \n",
      " 10  top         3392 non-null   bool   \n",
      " 11  date        3392 non-null   object \n",
      " 12  code        3392 non-null   object \n",
      " 13  type        3392 non-null   object \n",
      " 14  pitch_type  3386 non-null   object \n",
      " 15  event_num   3392 non-null   int64  \n",
      " 16  b_score     3392 non-null   float64\n",
      " 17  b_count     3392 non-null   float64\n",
      " 18  s_count     3392 non-null   float64\n",
      " 19  outs        3392 non-null   float64\n",
      " 20  pitch_num   3392 non-null   float64\n",
      " 21  on_1b       3392 non-null   float64\n",
      " 22  on_2b       3392 non-null   float64\n",
      " 23  on_3b       3392 non-null   float64\n",
      " 24  pcodes      3385 non-null   float64\n",
      "dtypes: bool(1), float64(9), int64(8), object(7)\n",
      "memory usage: 639.4+ KB\n"
     ]
    }
   ],
   "source": [
    "Kershaw2015.info()"
   ]
  },
  {
   "cell_type": "code",
   "execution_count": 6,
   "id": "5cb219bf",
   "metadata": {},
   "outputs": [
    {
     "data": {
      "text/plain": [
       "Text(0.5, 1.0, 'Distribution of pitches  (Clayton Kershaw 2015)')"
      ]
     },
     "execution_count": 6,
     "metadata": {},
     "output_type": "execute_result"
    },
    {
     "data": {
      "image/png": "[encoded data removed]",
      "text/plain": [
       "<Figure size 432x288 with 1 Axes>"
      ]
     },
     "metadata": {
      "needs_background": "light"
     },
     "output_type": "display_data"
    }
   ],
   "source": [
    "Kershaw2015.pitch_type.value_counts().plot(kind='bar')\n",
    "plt.xlabel('pitch type')\n",
    "plt.ylabel('Count')\n",
    "plt.title('Distribution of pitches  (Clayton Kershaw 2015)')\n",
    "#plt.plot()"
   ]
  },
  {
   "cell_type": "markdown",
   "id": "d7f2294e",
   "metadata": {},
   "source": [
    "### Lets look at pitch distributions for each count, as well as r/l splits"
   ]
  },
  {
   "cell_type": "code",
   "execution_count": 7,
   "id": "39548441",
   "metadata": {},
   "outputs": [
    {
     "data": {
      "text/plain": [
       "0.0    1664\n",
       "1.0    1019\n",
       "2.0     505\n",
       "3.0     204\n",
       "Name: b_count, dtype: int64"
      ]
     },
     "execution_count": 7,
     "metadata": {},
     "output_type": "execute_result"
    }
   ],
   "source": [
    "Kershaw2015.b_count.value_counts()"
   ]
  },
  {
   "cell_type": "code",
   "execution_count": 8,
   "id": "15485d9e",
   "metadata": {},
   "outputs": [
    {
     "data": {
      "text/plain": [
       "0.0    1286\n",
       "2.0    1061\n",
       "1.0    1045\n",
       "Name: s_count, dtype: int64"
      ]
     },
     "execution_count": 8,
     "metadata": {},
     "output_type": "execute_result"
    }
   ],
   "source": [
    "Kershaw2015.s_count.value_counts()"
   ]
  },
  {
   "cell_type": "code",
   "execution_count": 9,
   "id": "6c34c022",
   "metadata": {},
   "outputs": [],
   "source": [
    "#df.assign(temp_f=lambda x: x.temp_c * 9 / 5 + 32)\n",
    "Kershaw2015['bs'] = list(Kershaw2015[['b_count','s_count']].to_records(index=False))"
   ]
  },
  {
   "cell_type": "code",
   "execution_count": 10,
   "id": "b8313774",
   "metadata": {},
   "outputs": [
    {
     "data": {
      "text/html": [
       "<div>\n",
       "<style scoped>\n",
       "    .dataframe tbody tr th:only-of-type {\n",
       "        vertical-align: middle;\n",
       "    }\n",
       "\n",
       "    .dataframe tbody tr th {\n",
       "        vertical-align: top;\n",
       "    }\n",
       "\n",
       "    .dataframe thead th {\n",
       "        text-align: right;\n",
       "    }\n",
       "</style>\n",
       "<table border=\"1\" class=\"dataframe\">\n",
       "  <thead>\n",
       "    <tr style=\"text-align: right;\">\n",
       "      <th></th>\n",
       "      <th>ab_id</th>\n",
       "      <th>batter_id</th>\n",
       "      <th>event</th>\n",
       "      <th>g_id</th>\n",
       "      <th>inning</th>\n",
       "      <th>o</th>\n",
       "      <th>p_score</th>\n",
       "      <th>p_throws</th>\n",
       "      <th>pitcher_id</th>\n",
       "      <th>stand</th>\n",
       "      <th>...</th>\n",
       "      <th>b_score</th>\n",
       "      <th>b_count</th>\n",
       "      <th>s_count</th>\n",
       "      <th>outs</th>\n",
       "      <th>pitch_num</th>\n",
       "      <th>on_1b</th>\n",
       "      <th>on_2b</th>\n",
       "      <th>on_3b</th>\n",
       "      <th>pcodes</th>\n",
       "      <th>bs</th>\n",
       "    </tr>\n",
       "  </thead>\n",
       "  <tbody>\n",
       "    <tr>\n",
       "      <th>0</th>\n",
       "      <td>2015000768</td>\n",
       "      <td>571976</td>\n",
       "      <td>Hit By Pitch</td>\n",
       "      <td>201500012</td>\n",
       "      <td>1</td>\n",
       "      <td>0</td>\n",
       "      <td>0</td>\n",
       "      <td>L</td>\n",
       "      <td>477132</td>\n",
       "      <td>R</td>\n",
       "      <td>...</td>\n",
       "      <td>0.0</td>\n",
       "      <td>0.0</td>\n",
       "      <td>0.0</td>\n",
       "      <td>0.0</td>\n",
       "      <td>1.0</td>\n",
       "      <td>0.0</td>\n",
       "      <td>0.0</td>\n",
       "      <td>0.0</td>\n",
       "      <td>1.0</td>\n",
       "      <td>[0.0, 0.0]</td>\n",
       "    </tr>\n",
       "    <tr>\n",
       "      <th>1</th>\n",
       "      <td>2015000768</td>\n",
       "      <td>571976</td>\n",
       "      <td>Hit By Pitch</td>\n",
       "      <td>201500012</td>\n",
       "      <td>1</td>\n",
       "      <td>0</td>\n",
       "      <td>0</td>\n",
       "      <td>L</td>\n",
       "      <td>477132</td>\n",
       "      <td>R</td>\n",
       "      <td>...</td>\n",
       "      <td>0.0</td>\n",
       "      <td>0.0</td>\n",
       "      <td>1.0</td>\n",
       "      <td>0.0</td>\n",
       "      <td>2.0</td>\n",
       "      <td>0.0</td>\n",
       "      <td>0.0</td>\n",
       "      <td>0.0</td>\n",
       "      <td>1.0</td>\n",
       "      <td>[0.0, 1.0]</td>\n",
       "    </tr>\n",
       "    <tr>\n",
       "      <th>2</th>\n",
       "      <td>2015000768</td>\n",
       "      <td>571976</td>\n",
       "      <td>Hit By Pitch</td>\n",
       "      <td>201500012</td>\n",
       "      <td>1</td>\n",
       "      <td>0</td>\n",
       "      <td>0</td>\n",
       "      <td>L</td>\n",
       "      <td>477132</td>\n",
       "      <td>R</td>\n",
       "      <td>...</td>\n",
       "      <td>0.0</td>\n",
       "      <td>0.0</td>\n",
       "      <td>2.0</td>\n",
       "      <td>0.0</td>\n",
       "      <td>3.0</td>\n",
       "      <td>0.0</td>\n",
       "      <td>0.0</td>\n",
       "      <td>0.0</td>\n",
       "      <td>1.0</td>\n",
       "      <td>[0.0, 2.0]</td>\n",
       "    </tr>\n",
       "    <tr>\n",
       "      <th>3</th>\n",
       "      <td>2015000769</td>\n",
       "      <td>519083</td>\n",
       "      <td>Strikeout</td>\n",
       "      <td>201500012</td>\n",
       "      <td>1</td>\n",
       "      <td>1</td>\n",
       "      <td>0</td>\n",
       "      <td>L</td>\n",
       "      <td>477132</td>\n",
       "      <td>R</td>\n",
       "      <td>...</td>\n",
       "      <td>0.0</td>\n",
       "      <td>0.0</td>\n",
       "      <td>0.0</td>\n",
       "      <td>0.0</td>\n",
       "      <td>1.0</td>\n",
       "      <td>1.0</td>\n",
       "      <td>0.0</td>\n",
       "      <td>0.0</td>\n",
       "      <td>1.0</td>\n",
       "      <td>[0.0, 0.0]</td>\n",
       "    </tr>\n",
       "    <tr>\n",
       "      <th>4</th>\n",
       "      <td>2015000769</td>\n",
       "      <td>519083</td>\n",
       "      <td>Strikeout</td>\n",
       "      <td>201500012</td>\n",
       "      <td>1</td>\n",
       "      <td>1</td>\n",
       "      <td>0</td>\n",
       "      <td>L</td>\n",
       "      <td>477132</td>\n",
       "      <td>R</td>\n",
       "      <td>...</td>\n",
       "      <td>0.0</td>\n",
       "      <td>1.0</td>\n",
       "      <td>0.0</td>\n",
       "      <td>0.0</td>\n",
       "      <td>2.0</td>\n",
       "      <td>1.0</td>\n",
       "      <td>0.0</td>\n",
       "      <td>0.0</td>\n",
       "      <td>1.0</td>\n",
       "      <td>[1.0, 0.0]</td>\n",
       "    </tr>\n",
       "  </tbody>\n",
       "</table>\n",
       "<p>5 rows × 26 columns</p>\n",
       "</div>"
      ],
      "text/plain": [
       "        ab_id  batter_id         event       g_id  inning  o  p_score  \\\n",
       "0  2015000768     571976  Hit By Pitch  201500012       1  0        0   \n",
       "1  2015000768     571976  Hit By Pitch  201500012       1  0        0   \n",
       "2  2015000768     571976  Hit By Pitch  201500012       1  0        0   \n",
       "3  2015000769     519083     Strikeout  201500012       1  1        0   \n",
       "4  2015000769     519083     Strikeout  201500012       1  1        0   \n",
       "\n",
       "  p_throws  pitcher_id stand  ...  b_score b_count s_count outs pitch_num  \\\n",
       "0        L      477132     R  ...      0.0     0.0     0.0  0.0       1.0   \n",
       "1        L      477132     R  ...      0.0     0.0     1.0  0.0       2.0   \n",
       "2        L      477132     R  ...      0.0     0.0     2.0  0.0       3.0   \n",
       "3        L      477132     R  ...      0.0     0.0     0.0  0.0       1.0   \n",
       "4        L      477132     R  ...      0.0     1.0     0.0  0.0       2.0   \n",
       "\n",
       "   on_1b  on_2b  on_3b  pcodes          bs  \n",
       "0    0.0    0.0    0.0     1.0  [0.0, 0.0]  \n",
       "1    0.0    0.0    0.0     1.0  [0.0, 1.0]  \n",
       "2    0.0    0.0    0.0     1.0  [0.0, 2.0]  \n",
       "3    1.0    0.0    0.0     1.0  [0.0, 0.0]  \n",
       "4    1.0    0.0    0.0     1.0  [1.0, 0.0]  \n",
       "\n",
       "[5 rows x 26 columns]"
      ]
     },
     "execution_count": 10,
     "metadata": {},
     "output_type": "execute_result"
    }
   ],
   "source": [
    "Kershaw2015.head()"
   ]
  },
  {
   "cell_type": "code",
   "execution_count": 11,
   "id": "517b0802",
   "metadata": {},
   "outputs": [
    {
     "ename": "TypeError",
     "evalue": "unhashable type: 'writeable void-scalar'",
     "output_type": "error",
     "traceback": [
      "\u001b[1;31m---------------------------------------------------------------------------\u001b[0m",
      "\u001b[1;31mTypeError\u001b[0m                                 Traceback (most recent call last)",
      "\u001b[1;32mpandas\\_libs\\hashtable_class_helper.pxi\u001b[0m in \u001b[0;36mpandas._libs.hashtable.PyObjectHashTable.map_locations\u001b[1;34m()\u001b[0m\n",
      "\u001b[1;31mTypeError\u001b[0m: unhashable type: 'writeable void-scalar'"
     ]
    },
    {
     "name": "stderr",
     "output_type": "stream",
     "text": [
      "Exception ignored in: 'pandas._libs.index.IndexEngine._call_map_locations'\n",
      "Traceback (most recent call last):\n",
      "  File \"pandas\\_libs\\hashtable_class_helper.pxi\", line 4588, in pandas._libs.hashtable.PyObjectHashTable.map_locations\n",
      "TypeError: unhashable type: 'writeable void-scalar'\n"
     ]
    },
    {
     "data": {
      "text/plain": [
       "[0.0, 0.0]    897\n",
       "[0.0, 1.0]    488\n",
       "[1.0, 2.0]    377\n",
       "[1.0, 1.0]    355\n",
       "[1.0, 0.0]    287\n",
       "[0.0, 2.0]    279\n",
       "[2.0, 2.0]    276\n",
       "[2.0, 1.0]    149\n",
       "[3.0, 2.0]    129\n",
       "[2.0, 0.0]     80\n",
       "[3.0, 1.0]     53\n",
       "[3.0, 0.0]     22\n",
       "Name: bs, dtype: int64"
      ]
     },
     "execution_count": 11,
     "metadata": {},
     "output_type": "execute_result"
    }
   ],
   "source": [
    "Kershaw2015.bs.value_counts()"
   ]
  },
  {
   "cell_type": "code",
   "execution_count": 12,
   "id": "7dc987f5",
   "metadata": {},
   "outputs": [],
   "source": [
    "k15 = Kershaw2015.loc[:, Kershaw2015.columns != 'bs']"
   ]
  },
  {
   "cell_type": "code",
   "execution_count": 13,
   "id": "6989f7d6",
   "metadata": {},
   "outputs": [
    {
     "data": {
      "text/html": [
       "<div>\n",
       "<style scoped>\n",
       "    .dataframe tbody tr th:only-of-type {\n",
       "        vertical-align: middle;\n",
       "    }\n",
       "\n",
       "    .dataframe tbody tr th {\n",
       "        vertical-align: top;\n",
       "    }\n",
       "\n",
       "    .dataframe thead th {\n",
       "        text-align: right;\n",
       "    }\n",
       "</style>\n",
       "<table border=\"1\" class=\"dataframe\">\n",
       "  <thead>\n",
       "    <tr style=\"text-align: right;\">\n",
       "      <th></th>\n",
       "      <th>ab_id</th>\n",
       "      <th>batter_id</th>\n",
       "      <th>event</th>\n",
       "      <th>g_id</th>\n",
       "      <th>inning</th>\n",
       "      <th>o</th>\n",
       "      <th>p_score</th>\n",
       "      <th>p_throws</th>\n",
       "      <th>pitcher_id</th>\n",
       "      <th>stand</th>\n",
       "      <th>...</th>\n",
       "      <th>event_num</th>\n",
       "      <th>b_score</th>\n",
       "      <th>b_count</th>\n",
       "      <th>s_count</th>\n",
       "      <th>outs</th>\n",
       "      <th>pitch_num</th>\n",
       "      <th>on_1b</th>\n",
       "      <th>on_2b</th>\n",
       "      <th>on_3b</th>\n",
       "      <th>pcodes</th>\n",
       "    </tr>\n",
       "  </thead>\n",
       "  <tbody>\n",
       "    <tr>\n",
       "      <th>0</th>\n",
       "      <td>2015000768</td>\n",
       "      <td>571976</td>\n",
       "      <td>Hit By Pitch</td>\n",
       "      <td>201500012</td>\n",
       "      <td>1</td>\n",
       "      <td>0</td>\n",
       "      <td>0</td>\n",
       "      <td>L</td>\n",
       "      <td>477132</td>\n",
       "      <td>R</td>\n",
       "      <td>...</td>\n",
       "      <td>3</td>\n",
       "      <td>0.0</td>\n",
       "      <td>0.0</td>\n",
       "      <td>0.0</td>\n",
       "      <td>0.0</td>\n",
       "      <td>1.0</td>\n",
       "      <td>0.0</td>\n",
       "      <td>0.0</td>\n",
       "      <td>0.0</td>\n",
       "      <td>1.0</td>\n",
       "    </tr>\n",
       "    <tr>\n",
       "      <th>1</th>\n",
       "      <td>2015000768</td>\n",
       "      <td>571976</td>\n",
       "      <td>Hit By Pitch</td>\n",
       "      <td>201500012</td>\n",
       "      <td>1</td>\n",
       "      <td>0</td>\n",
       "      <td>0</td>\n",
       "      <td>L</td>\n",
       "      <td>477132</td>\n",
       "      <td>R</td>\n",
       "      <td>...</td>\n",
       "      <td>4</td>\n",
       "      <td>0.0</td>\n",
       "      <td>0.0</td>\n",
       "      <td>1.0</td>\n",
       "      <td>0.0</td>\n",
       "      <td>2.0</td>\n",
       "      <td>0.0</td>\n",
       "      <td>0.0</td>\n",
       "      <td>0.0</td>\n",
       "      <td>1.0</td>\n",
       "    </tr>\n",
       "    <tr>\n",
       "      <th>2</th>\n",
       "      <td>2015000768</td>\n",
       "      <td>571976</td>\n",
       "      <td>Hit By Pitch</td>\n",
       "      <td>201500012</td>\n",
       "      <td>1</td>\n",
       "      <td>0</td>\n",
       "      <td>0</td>\n",
       "      <td>L</td>\n",
       "      <td>477132</td>\n",
       "      <td>R</td>\n",
       "      <td>...</td>\n",
       "      <td>5</td>\n",
       "      <td>0.0</td>\n",
       "      <td>0.0</td>\n",
       "      <td>2.0</td>\n",
       "      <td>0.0</td>\n",
       "      <td>3.0</td>\n",
       "      <td>0.0</td>\n",
       "      <td>0.0</td>\n",
       "      <td>0.0</td>\n",
       "      <td>1.0</td>\n",
       "    </tr>\n",
       "    <tr>\n",
       "      <th>3</th>\n",
       "      <td>2015000769</td>\n",
       "      <td>519083</td>\n",
       "      <td>Strikeout</td>\n",
       "      <td>201500012</td>\n",
       "      <td>1</td>\n",
       "      <td>1</td>\n",
       "      <td>0</td>\n",
       "      <td>L</td>\n",
       "      <td>477132</td>\n",
       "      <td>R</td>\n",
       "      <td>...</td>\n",
       "      <td>8</td>\n",
       "      <td>0.0</td>\n",
       "      <td>0.0</td>\n",
       "      <td>0.0</td>\n",
       "      <td>0.0</td>\n",
       "      <td>1.0</td>\n",
       "      <td>1.0</td>\n",
       "      <td>0.0</td>\n",
       "      <td>0.0</td>\n",
       "      <td>1.0</td>\n",
       "    </tr>\n",
       "    <tr>\n",
       "      <th>4</th>\n",
       "      <td>2015000769</td>\n",
       "      <td>519083</td>\n",
       "      <td>Strikeout</td>\n",
       "      <td>201500012</td>\n",
       "      <td>1</td>\n",
       "      <td>1</td>\n",
       "      <td>0</td>\n",
       "      <td>L</td>\n",
       "      <td>477132</td>\n",
       "      <td>R</td>\n",
       "      <td>...</td>\n",
       "      <td>9</td>\n",
       "      <td>0.0</td>\n",
       "      <td>1.0</td>\n",
       "      <td>0.0</td>\n",
       "      <td>0.0</td>\n",
       "      <td>2.0</td>\n",
       "      <td>1.0</td>\n",
       "      <td>0.0</td>\n",
       "      <td>0.0</td>\n",
       "      <td>1.0</td>\n",
       "    </tr>\n",
       "    <tr>\n",
       "      <th>...</th>\n",
       "      <td>...</td>\n",
       "      <td>...</td>\n",
       "      <td>...</td>\n",
       "      <td>...</td>\n",
       "      <td>...</td>\n",
       "      <td>...</td>\n",
       "      <td>...</td>\n",
       "      <td>...</td>\n",
       "      <td>...</td>\n",
       "      <td>...</td>\n",
       "      <td>...</td>\n",
       "      <td>...</td>\n",
       "      <td>...</td>\n",
       "      <td>...</td>\n",
       "      <td>...</td>\n",
       "      <td>...</td>\n",
       "      <td>...</td>\n",
       "      <td>...</td>\n",
       "      <td>...</td>\n",
       "      <td>...</td>\n",
       "      <td>...</td>\n",
       "    </tr>\n",
       "    <tr>\n",
       "      <th>3387</th>\n",
       "      <td>2015183800</td>\n",
       "      <td>576397</td>\n",
       "      <td>Single</td>\n",
       "      <td>201502425</td>\n",
       "      <td>4</td>\n",
       "      <td>2</td>\n",
       "      <td>2</td>\n",
       "      <td>L</td>\n",
       "      <td>477132</td>\n",
       "      <td>R</td>\n",
       "      <td>...</td>\n",
       "      <td>206</td>\n",
       "      <td>0.0</td>\n",
       "      <td>0.0</td>\n",
       "      <td>0.0</td>\n",
       "      <td>2.0</td>\n",
       "      <td>1.0</td>\n",
       "      <td>0.0</td>\n",
       "      <td>0.0</td>\n",
       "      <td>0.0</td>\n",
       "      <td>3.0</td>\n",
       "    </tr>\n",
       "    <tr>\n",
       "      <th>3388</th>\n",
       "      <td>2015183800</td>\n",
       "      <td>576397</td>\n",
       "      <td>Single</td>\n",
       "      <td>201502425</td>\n",
       "      <td>4</td>\n",
       "      <td>2</td>\n",
       "      <td>2</td>\n",
       "      <td>L</td>\n",
       "      <td>477132</td>\n",
       "      <td>R</td>\n",
       "      <td>...</td>\n",
       "      <td>207</td>\n",
       "      <td>0.0</td>\n",
       "      <td>1.0</td>\n",
       "      <td>0.0</td>\n",
       "      <td>2.0</td>\n",
       "      <td>2.0</td>\n",
       "      <td>0.0</td>\n",
       "      <td>0.0</td>\n",
       "      <td>0.0</td>\n",
       "      <td>2.0</td>\n",
       "    </tr>\n",
       "    <tr>\n",
       "      <th>3389</th>\n",
       "      <td>2015183800</td>\n",
       "      <td>576397</td>\n",
       "      <td>Single</td>\n",
       "      <td>201502425</td>\n",
       "      <td>4</td>\n",
       "      <td>2</td>\n",
       "      <td>2</td>\n",
       "      <td>L</td>\n",
       "      <td>477132</td>\n",
       "      <td>R</td>\n",
       "      <td>...</td>\n",
       "      <td>208</td>\n",
       "      <td>0.0</td>\n",
       "      <td>1.0</td>\n",
       "      <td>1.0</td>\n",
       "      <td>2.0</td>\n",
       "      <td>3.0</td>\n",
       "      <td>0.0</td>\n",
       "      <td>0.0</td>\n",
       "      <td>0.0</td>\n",
       "      <td>1.0</td>\n",
       "    </tr>\n",
       "    <tr>\n",
       "      <th>3390</th>\n",
       "      <td>2015183800</td>\n",
       "      <td>576397</td>\n",
       "      <td>Single</td>\n",
       "      <td>201502425</td>\n",
       "      <td>4</td>\n",
       "      <td>2</td>\n",
       "      <td>2</td>\n",
       "      <td>L</td>\n",
       "      <td>477132</td>\n",
       "      <td>R</td>\n",
       "      <td>...</td>\n",
       "      <td>209</td>\n",
       "      <td>0.0</td>\n",
       "      <td>2.0</td>\n",
       "      <td>1.0</td>\n",
       "      <td>2.0</td>\n",
       "      <td>4.0</td>\n",
       "      <td>0.0</td>\n",
       "      <td>0.0</td>\n",
       "      <td>0.0</td>\n",
       "      <td>1.0</td>\n",
       "    </tr>\n",
       "    <tr>\n",
       "      <th>3391</th>\n",
       "      <td>2015183800</td>\n",
       "      <td>576397</td>\n",
       "      <td>Single</td>\n",
       "      <td>201502425</td>\n",
       "      <td>4</td>\n",
       "      <td>2</td>\n",
       "      <td>2</td>\n",
       "      <td>L</td>\n",
       "      <td>477132</td>\n",
       "      <td>R</td>\n",
       "      <td>...</td>\n",
       "      <td>210</td>\n",
       "      <td>0.0</td>\n",
       "      <td>3.0</td>\n",
       "      <td>1.0</td>\n",
       "      <td>2.0</td>\n",
       "      <td>5.0</td>\n",
       "      <td>0.0</td>\n",
       "      <td>0.0</td>\n",
       "      <td>0.0</td>\n",
       "      <td>1.0</td>\n",
       "    </tr>\n",
       "  </tbody>\n",
       "</table>\n",
       "<p>3392 rows × 25 columns</p>\n",
       "</div>"
      ],
      "text/plain": [
       "           ab_id  batter_id         event       g_id  inning  o  p_score  \\\n",
       "0     2015000768     571976  Hit By Pitch  201500012       1  0        0   \n",
       "1     2015000768     571976  Hit By Pitch  201500012       1  0        0   \n",
       "2     2015000768     571976  Hit By Pitch  201500012       1  0        0   \n",
       "3     2015000769     519083     Strikeout  201500012       1  1        0   \n",
       "4     2015000769     519083     Strikeout  201500012       1  1        0   \n",
       "...          ...        ...           ...        ...     ... ..      ...   \n",
       "3387  2015183800     576397        Single  201502425       4  2        2   \n",
       "3388  2015183800     576397        Single  201502425       4  2        2   \n",
       "3389  2015183800     576397        Single  201502425       4  2        2   \n",
       "3390  2015183800     576397        Single  201502425       4  2        2   \n",
       "3391  2015183800     576397        Single  201502425       4  2        2   \n",
       "\n",
       "     p_throws  pitcher_id stand  ...  event_num b_score b_count s_count outs  \\\n",
       "0           L      477132     R  ...          3     0.0     0.0     0.0  0.0   \n",
       "1           L      477132     R  ...          4     0.0     0.0     1.0  0.0   \n",
       "2           L      477132     R  ...          5     0.0     0.0     2.0  0.0   \n",
       "3           L      477132     R  ...          8     0.0     0.0     0.0  0.0   \n",
       "4           L      477132     R  ...          9     0.0     1.0     0.0  0.0   \n",
       "...       ...         ...   ...  ...        ...     ...     ...     ...  ...   \n",
       "3387        L      477132     R  ...        206     0.0     0.0     0.0  2.0   \n",
       "3388        L      477132     R  ...        207     0.0     1.0     0.0  2.0   \n",
       "3389        L      477132     R  ...        208     0.0     1.0     1.0  2.0   \n",
       "3390        L      477132     R  ...        209     0.0     2.0     1.0  2.0   \n",
       "3391        L      477132     R  ...        210     0.0     3.0     1.0  2.0   \n",
       "\n",
       "      pitch_num  on_1b  on_2b  on_3b  pcodes  \n",
       "0           1.0    0.0    0.0    0.0     1.0  \n",
       "1           2.0    0.0    0.0    0.0     1.0  \n",
       "2           3.0    0.0    0.0    0.0     1.0  \n",
       "3           1.0    1.0    0.0    0.0     1.0  \n",
       "4           2.0    1.0    0.0    0.0     1.0  \n",
       "...         ...    ...    ...    ...     ...  \n",
       "3387        1.0    0.0    0.0    0.0     3.0  \n",
       "3388        2.0    0.0    0.0    0.0     2.0  \n",
       "3389        3.0    0.0    0.0    0.0     1.0  \n",
       "3390        4.0    0.0    0.0    0.0     1.0  \n",
       "3391        5.0    0.0    0.0    0.0     1.0  \n",
       "\n",
       "[3392 rows x 25 columns]"
      ]
     },
     "execution_count": 13,
     "metadata": {},
     "output_type": "execute_result"
    }
   ],
   "source": [
    "k15"
   ]
  },
  {
   "cell_type": "code",
   "execution_count": 14,
   "id": "69ae421a",
   "metadata": {},
   "outputs": [
    {
     "data": {
      "image/png": "[encoded data removed]",
      "text/plain": [
       "<Figure size 1080x720 with 20 Axes>"
      ]
     },
     "metadata": {
      "needs_background": "light"
     },
     "output_type": "display_data"
    }
   ],
   "source": [
    "k15.hist(figsize = (15,10))\n",
    "plt.subplots_adjust(hspace = 0.5);"
   ]
  },
  {
   "cell_type": "code",
   "execution_count": 15,
   "id": "b44e51dd",
   "metadata": {},
   "outputs": [],
   "source": [
    "#countdict = {[0.0, 0.0] : 100, [0.0, 1.0] : 101, [1.0, 2.0] : 112, :}"
   ]
  },
  {
   "cell_type": "code",
   "execution_count": 16,
   "id": "d407004f",
   "metadata": {},
   "outputs": [],
   "source": [
    "ballsstrikes = Kershaw2015.groupby(by = ['b_count', 's_count'])"
   ]
  },
  {
   "cell_type": "code",
   "execution_count": 17,
   "id": "84496bb1",
   "metadata": {},
   "outputs": [
    {
     "data": {
      "text/html": [
       "<div>\n",
       "<style scoped>\n",
       "    .dataframe tbody tr th:only-of-type {\n",
       "        vertical-align: middle;\n",
       "    }\n",
       "\n",
       "    .dataframe tbody tr th {\n",
       "        vertical-align: top;\n",
       "    }\n",
       "\n",
       "    .dataframe thead th {\n",
       "        text-align: right;\n",
       "    }\n",
       "</style>\n",
       "<table border=\"1\" class=\"dataframe\">\n",
       "  <thead>\n",
       "    <tr style=\"text-align: right;\">\n",
       "      <th></th>\n",
       "      <th>b_count</th>\n",
       "      <th>s_count</th>\n",
       "      <th>ab_id</th>\n",
       "      <th>batter_id</th>\n",
       "      <th>event</th>\n",
       "      <th>g_id</th>\n",
       "      <th>inning</th>\n",
       "      <th>o</th>\n",
       "      <th>p_score</th>\n",
       "      <th>p_throws</th>\n",
       "      <th>...</th>\n",
       "      <th>pitch_type</th>\n",
       "      <th>event_num</th>\n",
       "      <th>b_score</th>\n",
       "      <th>outs</th>\n",
       "      <th>pitch_num</th>\n",
       "      <th>on_1b</th>\n",
       "      <th>on_2b</th>\n",
       "      <th>on_3b</th>\n",
       "      <th>pcodes</th>\n",
       "      <th>bs</th>\n",
       "    </tr>\n",
       "  </thead>\n",
       "  <tbody>\n",
       "    <tr>\n",
       "      <th>0</th>\n",
       "      <td>0.0</td>\n",
       "      <td>0.0</td>\n",
       "      <td>897</td>\n",
       "      <td>897</td>\n",
       "      <td>897</td>\n",
       "      <td>897</td>\n",
       "      <td>897</td>\n",
       "      <td>897</td>\n",
       "      <td>897</td>\n",
       "      <td>897</td>\n",
       "      <td>...</td>\n",
       "      <td>896</td>\n",
       "      <td>897</td>\n",
       "      <td>897</td>\n",
       "      <td>897</td>\n",
       "      <td>897</td>\n",
       "      <td>897</td>\n",
       "      <td>897</td>\n",
       "      <td>897</td>\n",
       "      <td>896</td>\n",
       "      <td>897</td>\n",
       "    </tr>\n",
       "    <tr>\n",
       "      <th>1</th>\n",
       "      <td>0.0</td>\n",
       "      <td>1.0</td>\n",
       "      <td>488</td>\n",
       "      <td>488</td>\n",
       "      <td>488</td>\n",
       "      <td>488</td>\n",
       "      <td>488</td>\n",
       "      <td>488</td>\n",
       "      <td>488</td>\n",
       "      <td>488</td>\n",
       "      <td>...</td>\n",
       "      <td>488</td>\n",
       "      <td>488</td>\n",
       "      <td>488</td>\n",
       "      <td>488</td>\n",
       "      <td>488</td>\n",
       "      <td>488</td>\n",
       "      <td>488</td>\n",
       "      <td>488</td>\n",
       "      <td>488</td>\n",
       "      <td>488</td>\n",
       "    </tr>\n",
       "    <tr>\n",
       "      <th>2</th>\n",
       "      <td>0.0</td>\n",
       "      <td>2.0</td>\n",
       "      <td>279</td>\n",
       "      <td>279</td>\n",
       "      <td>279</td>\n",
       "      <td>279</td>\n",
       "      <td>279</td>\n",
       "      <td>279</td>\n",
       "      <td>279</td>\n",
       "      <td>279</td>\n",
       "      <td>...</td>\n",
       "      <td>279</td>\n",
       "      <td>279</td>\n",
       "      <td>279</td>\n",
       "      <td>279</td>\n",
       "      <td>279</td>\n",
       "      <td>279</td>\n",
       "      <td>279</td>\n",
       "      <td>279</td>\n",
       "      <td>279</td>\n",
       "      <td>279</td>\n",
       "    </tr>\n",
       "    <tr>\n",
       "      <th>3</th>\n",
       "      <td>1.0</td>\n",
       "      <td>0.0</td>\n",
       "      <td>287</td>\n",
       "      <td>287</td>\n",
       "      <td>287</td>\n",
       "      <td>287</td>\n",
       "      <td>287</td>\n",
       "      <td>287</td>\n",
       "      <td>287</td>\n",
       "      <td>287</td>\n",
       "      <td>...</td>\n",
       "      <td>286</td>\n",
       "      <td>287</td>\n",
       "      <td>287</td>\n",
       "      <td>287</td>\n",
       "      <td>287</td>\n",
       "      <td>287</td>\n",
       "      <td>287</td>\n",
       "      <td>287</td>\n",
       "      <td>286</td>\n",
       "      <td>287</td>\n",
       "    </tr>\n",
       "    <tr>\n",
       "      <th>4</th>\n",
       "      <td>1.0</td>\n",
       "      <td>1.0</td>\n",
       "      <td>355</td>\n",
       "      <td>355</td>\n",
       "      <td>355</td>\n",
       "      <td>355</td>\n",
       "      <td>355</td>\n",
       "      <td>355</td>\n",
       "      <td>355</td>\n",
       "      <td>355</td>\n",
       "      <td>...</td>\n",
       "      <td>354</td>\n",
       "      <td>355</td>\n",
       "      <td>355</td>\n",
       "      <td>355</td>\n",
       "      <td>355</td>\n",
       "      <td>355</td>\n",
       "      <td>355</td>\n",
       "      <td>355</td>\n",
       "      <td>354</td>\n",
       "      <td>355</td>\n",
       "    </tr>\n",
       "    <tr>\n",
       "      <th>5</th>\n",
       "      <td>1.0</td>\n",
       "      <td>2.0</td>\n",
       "      <td>377</td>\n",
       "      <td>377</td>\n",
       "      <td>377</td>\n",
       "      <td>377</td>\n",
       "      <td>377</td>\n",
       "      <td>377</td>\n",
       "      <td>377</td>\n",
       "      <td>377</td>\n",
       "      <td>...</td>\n",
       "      <td>375</td>\n",
       "      <td>377</td>\n",
       "      <td>377</td>\n",
       "      <td>377</td>\n",
       "      <td>377</td>\n",
       "      <td>377</td>\n",
       "      <td>377</td>\n",
       "      <td>377</td>\n",
       "      <td>375</td>\n",
       "      <td>377</td>\n",
       "    </tr>\n",
       "    <tr>\n",
       "      <th>6</th>\n",
       "      <td>2.0</td>\n",
       "      <td>0.0</td>\n",
       "      <td>80</td>\n",
       "      <td>80</td>\n",
       "      <td>80</td>\n",
       "      <td>80</td>\n",
       "      <td>80</td>\n",
       "      <td>80</td>\n",
       "      <td>80</td>\n",
       "      <td>80</td>\n",
       "      <td>...</td>\n",
       "      <td>79</td>\n",
       "      <td>80</td>\n",
       "      <td>80</td>\n",
       "      <td>80</td>\n",
       "      <td>80</td>\n",
       "      <td>80</td>\n",
       "      <td>80</td>\n",
       "      <td>80</td>\n",
       "      <td>79</td>\n",
       "      <td>80</td>\n",
       "    </tr>\n",
       "    <tr>\n",
       "      <th>7</th>\n",
       "      <td>2.0</td>\n",
       "      <td>1.0</td>\n",
       "      <td>149</td>\n",
       "      <td>149</td>\n",
       "      <td>149</td>\n",
       "      <td>149</td>\n",
       "      <td>149</td>\n",
       "      <td>149</td>\n",
       "      <td>149</td>\n",
       "      <td>149</td>\n",
       "      <td>...</td>\n",
       "      <td>149</td>\n",
       "      <td>149</td>\n",
       "      <td>149</td>\n",
       "      <td>149</td>\n",
       "      <td>149</td>\n",
       "      <td>149</td>\n",
       "      <td>149</td>\n",
       "      <td>149</td>\n",
       "      <td>149</td>\n",
       "      <td>149</td>\n",
       "    </tr>\n",
       "    <tr>\n",
       "      <th>8</th>\n",
       "      <td>2.0</td>\n",
       "      <td>2.0</td>\n",
       "      <td>276</td>\n",
       "      <td>276</td>\n",
       "      <td>276</td>\n",
       "      <td>276</td>\n",
       "      <td>276</td>\n",
       "      <td>276</td>\n",
       "      <td>276</td>\n",
       "      <td>276</td>\n",
       "      <td>...</td>\n",
       "      <td>276</td>\n",
       "      <td>276</td>\n",
       "      <td>276</td>\n",
       "      <td>276</td>\n",
       "      <td>276</td>\n",
       "      <td>276</td>\n",
       "      <td>276</td>\n",
       "      <td>276</td>\n",
       "      <td>276</td>\n",
       "      <td>276</td>\n",
       "    </tr>\n",
       "    <tr>\n",
       "      <th>9</th>\n",
       "      <td>3.0</td>\n",
       "      <td>0.0</td>\n",
       "      <td>22</td>\n",
       "      <td>22</td>\n",
       "      <td>22</td>\n",
       "      <td>22</td>\n",
       "      <td>22</td>\n",
       "      <td>22</td>\n",
       "      <td>22</td>\n",
       "      <td>22</td>\n",
       "      <td>...</td>\n",
       "      <td>22</td>\n",
       "      <td>22</td>\n",
       "      <td>22</td>\n",
       "      <td>22</td>\n",
       "      <td>22</td>\n",
       "      <td>22</td>\n",
       "      <td>22</td>\n",
       "      <td>22</td>\n",
       "      <td>21</td>\n",
       "      <td>22</td>\n",
       "    </tr>\n",
       "    <tr>\n",
       "      <th>10</th>\n",
       "      <td>3.0</td>\n",
       "      <td>1.0</td>\n",
       "      <td>53</td>\n",
       "      <td>53</td>\n",
       "      <td>53</td>\n",
       "      <td>53</td>\n",
       "      <td>53</td>\n",
       "      <td>53</td>\n",
       "      <td>53</td>\n",
       "      <td>53</td>\n",
       "      <td>...</td>\n",
       "      <td>53</td>\n",
       "      <td>53</td>\n",
       "      <td>53</td>\n",
       "      <td>53</td>\n",
       "      <td>53</td>\n",
       "      <td>53</td>\n",
       "      <td>53</td>\n",
       "      <td>53</td>\n",
       "      <td>53</td>\n",
       "      <td>53</td>\n",
       "    </tr>\n",
       "    <tr>\n",
       "      <th>11</th>\n",
       "      <td>3.0</td>\n",
       "      <td>2.0</td>\n",
       "      <td>129</td>\n",
       "      <td>129</td>\n",
       "      <td>129</td>\n",
       "      <td>129</td>\n",
       "      <td>129</td>\n",
       "      <td>129</td>\n",
       "      <td>129</td>\n",
       "      <td>129</td>\n",
       "      <td>...</td>\n",
       "      <td>129</td>\n",
       "      <td>129</td>\n",
       "      <td>129</td>\n",
       "      <td>129</td>\n",
       "      <td>129</td>\n",
       "      <td>129</td>\n",
       "      <td>129</td>\n",
       "      <td>129</td>\n",
       "      <td>129</td>\n",
       "      <td>129</td>\n",
       "    </tr>\n",
       "  </tbody>\n",
       "</table>\n",
       "<p>12 rows × 26 columns</p>\n",
       "</div>"
      ],
      "text/plain": [
       "    b_count  s_count  ab_id  batter_id  event  g_id  inning    o  p_score  \\\n",
       "0       0.0      0.0    897        897    897   897     897  897      897   \n",
       "1       0.0      1.0    488        488    488   488     488  488      488   \n",
       "2       0.0      2.0    279        279    279   279     279  279      279   \n",
       "3       1.0      0.0    287        287    287   287     287  287      287   \n",
       "4       1.0      1.0    355        355    355   355     355  355      355   \n",
       "5       1.0      2.0    377        377    377   377     377  377      377   \n",
       "6       2.0      0.0     80         80     80    80      80   80       80   \n",
       "7       2.0      1.0    149        149    149   149     149  149      149   \n",
       "8       2.0      2.0    276        276    276   276     276  276      276   \n",
       "9       3.0      0.0     22         22     22    22      22   22       22   \n",
       "10      3.0      1.0     53         53     53    53      53   53       53   \n",
       "11      3.0      2.0    129        129    129   129     129  129      129   \n",
       "\n",
       "    p_throws  ...  pitch_type  event_num  b_score  outs  pitch_num  on_1b  \\\n",
       "0        897  ...         896        897      897   897        897    897   \n",
       "1        488  ...         488        488      488   488        488    488   \n",
       "2        279  ...         279        279      279   279        279    279   \n",
       "3        287  ...         286        287      287   287        287    287   \n",
       "4        355  ...         354        355      355   355        355    355   \n",
       "5        377  ...         375        377      377   377        377    377   \n",
       "6         80  ...          79         80       80    80         80     80   \n",
       "7        149  ...         149        149      149   149        149    149   \n",
       "8        276  ...         276        276      276   276        276    276   \n",
       "9         22  ...          22         22       22    22         22     22   \n",
       "10        53  ...          53         53       53    53         53     53   \n",
       "11       129  ...         129        129      129   129        129    129   \n",
       "\n",
       "    on_2b  on_3b  pcodes   bs  \n",
       "0     897    897     896  897  \n",
       "1     488    488     488  488  \n",
       "2     279    279     279  279  \n",
       "3     287    287     286  287  \n",
       "4     355    355     354  355  \n",
       "5     377    377     375  377  \n",
       "6      80     80      79   80  \n",
       "7     149    149     149  149  \n",
       "8     276    276     276  276  \n",
       "9      22     22      21   22  \n",
       "10     53     53      53   53  \n",
       "11    129    129     129  129  \n",
       "\n",
       "[12 rows x 26 columns]"
      ]
     },
     "execution_count": 17,
     "metadata": {},
     "output_type": "execute_result"
    }
   ],
   "source": [
    "ballsstrikes.count().reset_index()"
   ]
  },
  {
   "cell_type": "code",
   "execution_count": 18,
   "id": "2b18fd91",
   "metadata": {},
   "outputs": [
    {
     "data": {
      "text/plain": [
       "<AxesSubplot:ylabel='Frequency'>"
      ]
     },
     "execution_count": 18,
     "metadata": {},
     "output_type": "execute_result"
    },
    {
     "data": {
      "image/png": "[encoded data removed]",
      "text/plain": [
       "<Figure size 432x288 with 1 Axes>"
      ]
     },
     "metadata": {
      "needs_background": "light"
     },
     "output_type": "display_data"
    }
   ],
   "source": [
    "k15.plot(x='b_count', y='pcodes', kind='hist')"
   ]
  },
  {
   "cell_type": "code",
   "execution_count": 19,
   "id": "758c1d51",
   "metadata": {},
   "outputs": [
    {
     "data": {
      "text/plain": [
       "<AxesSubplot:ylabel='Frequency'>"
      ]
     },
     "execution_count": 19,
     "metadata": {},
     "output_type": "execute_result"
    },
    {
     "data": {
      "image/png": "[encoded data removed]",
      "text/plain": [
       "<Figure size 432x288 with 1 Axes>"
      ]
     },
     "metadata": {
      "needs_background": "light"
     },
     "output_type": "display_data"
    }
   ],
   "source": [
    "k15.plot(x='s_count', y='pcodes', kind='hist')"
   ]
  },
  {
   "cell_type": "code",
   "execution_count": 30,
   "id": "42e23a91",
   "metadata": {},
   "outputs": [
    {
     "data": {
      "image/png": "[encoded data removed]",
      "text/plain": [
       "<Figure size 432x288 with 1 Axes>"
      ]
     },
     "metadata": {
      "needs_background": "light"
     },
     "output_type": "display_data"
    },
    {
     "data": {
      "image/png": "[encoded data removed]",
      "text/plain": [
       "<Figure size 432x288 with 1 Axes>"
      ]
     },
     "metadata": {
      "needs_background": "light"
     },
     "output_type": "display_data"
    },
    {
     "data": {
      "image/png": "[encoded data removed]",
      "text/plain": [
       "<Figure size 432x288 with 1 Axes>"
      ]
     },
     "metadata": {
      "needs_background": "light"
     },
     "output_type": "display_data"
    },
    {
     "data": {
      "image/png": "[encoded data removed]",
      "text/plain": [
       "<Figure size 432x288 with 1 Axes>"
      ]
     },
     "metadata": {
      "needs_background": "light"
     },
     "output_type": "display_data"
    },
    {
     "data": {
      "image/png": "[encoded data removed]",
      "text/plain": [
       "<Figure size 432x288 with 1 Axes>"
      ]
     },
     "metadata": {
      "needs_background": "light"
     },
     "output_type": "display_data"
    },
    {
     "data": {
      "image/png": "[encoded data removed]",
      "text/plain": [
       "<Figure size 432x288 with 1 Axes>"
      ]
     },
     "metadata": {
      "needs_background": "light"
     },
     "output_type": "display_data"
    },
    {
     "data": {
      "image/png": "[encoded data removed]",
      "text/plain": [
       "<Figure size 432x288 with 1 Axes>"
      ]
     },
     "metadata": {
      "needs_background": "light"
     },
     "output_type": "display_data"
    },
    {
     "data": {
      "image/png": "[encoded data removed]",
      "text/plain": [
       "<Figure size 432x288 with 1 Axes>"
      ]
     },
     "metadata": {
      "needs_background": "light"
     },
     "output_type": "display_data"
    },
    {
     "data": {
      "image/png": "[encoded data removed]",
      "text/plain": [
       "<Figure size 432x288 with 1 Axes>"
      ]
     },
     "metadata": {
      "needs_background": "light"
     },
     "output_type": "display_data"
    },
    {
     "data": {
      "image/png": "[encoded data removed]",
      "text/plain": [
       "<Figure size 432x288 with 1 Axes>"
      ]
     },
     "metadata": {
      "needs_background": "light"
     },
     "output_type": "display_data"
    },
    {
     "data": {
      "image/png": "[encoded data removed]",
      "text/plain": [
       "<Figure size 432x288 with 1 Axes>"
      ]
     },
     "metadata": {
      "needs_background": "light"
     },
     "output_type": "display_data"
    },
    {
     "data": {
      "image/png": "[encoded data removed]",
      "text/plain": [
       "<Figure size 432x288 with 1 Axes>"
      ]
     },
     "metadata": {
      "needs_background": "light"
     },
     "output_type": "display_data"
    }
   ],
   "source": [
    "for i in range(3):\n",
    "    for j in range(4):\n",
    "        k15[np.logical_and(k15.loc[:, 's_count'].astype(int) == i , k15.loc[:, 'b_count'].astype(int) == j)]\\\n",
    "        .plot(x = 'b_count', y = 'pcodes', kind = 'hist', title = 'balls = ' +str(j)+', strikes =' +str(i)\\\n",
    "             , xlabel = '1.0 = Fourseam , 2.0 = Slider, 3.0 = Curve, 4.0 = 2seam')\n",
    "        plt.plot()"
   ]
  },
  {
   "cell_type": "code",
   "execution_count": null,
   "id": "08679008",
   "metadata": {},
   "outputs": [],
   "source": [
    " k15[np.logical_and(k15.loc[:, 's_count'].astype(int) == i , k15.loc[:, 'b_count'].astype(int) == j)]"
   ]
  },
  {
   "cell_type": "markdown",
   "id": "89106a1d",
   "metadata": {},
   "source": [
    "    plt.subplots(figsize=(12, 8))\n",
    "    sns.boxplot(x='state', y='Price', hue='Ticket', data=ticket_prices)\n",
    "    plt.xticks(rotation='vertical')\n",
    "    plt.ylabel('Price ($)')\n",
    "    plt.xlabel('State');"
   ]
  },
  {
   "cell_type": "markdown",
   "id": "0fe2139b",
   "metadata": {},
   "source": [
    "    # The next bit simply reorders the index by increasing average of weekday and weekend prices\n",
    "    # Compare the index order you get from\n",
    "    # state_price_means.index\n",
    "    # with\n",
    "    # state_price_means.mean(axis=1).sort_values(ascending=False).index\n",
    "    # See how this expression simply sits within the reindex()\n",
    "    (state_price_means.reindex(index=state_price_means.mean(axis=1)\n",
    "        .sort_values(ascending=False)\n",
    "        .index)\n",
    "        .plot(kind='barh', figsize=(10, 10), title='Average ticket price by State'))\n",
    "    plt.xlabel('Price ($)');"
   ]
  },
  {
   "cell_type": "code",
   "execution_count": 21,
   "id": "3c1ff170",
   "metadata": {},
   "outputs": [],
   "source": [
    "# k15.plot( kind='bar')"
   ]
  },
  {
   "cell_type": "code",
   "execution_count": 22,
   "id": "5919cebe",
   "metadata": {},
   "outputs": [
    {
     "data": {
      "image/png": "[encoded data removed]",
      "text/plain": [
       "<Figure size 864x720 with 2 Axes>"
      ]
     },
     "metadata": {
      "needs_background": "light"
     },
     "output_type": "display_data"
    }
   ],
   "source": [
    "plt.subplots(figsize=(12,10))\n",
    "sns.heatmap(k15.corr());"
   ]
  },
  {
   "cell_type": "code",
   "execution_count": 31,
   "id": "afdfdba6",
   "metadata": {},
   "outputs": [],
   "source": [
    "from sklearn.decomposition import PCA\n",
    "from sklearn.preprocessing import scale"
   ]
  },
  {
   "cell_type": "code",
   "execution_count": 33,
   "id": "63e1c7d6",
   "metadata": {},
   "outputs": [
    {
     "data": {
      "text/plain": [
       "ab_id           int64\n",
       "batter_id       int64\n",
       "event          object\n",
       "g_id            int64\n",
       "inning          int64\n",
       "o               int64\n",
       "p_score         int64\n",
       "p_throws       object\n",
       "pitcher_id      int64\n",
       "stand          object\n",
       "top              bool\n",
       "date           object\n",
       "code           object\n",
       "type           object\n",
       "pitch_type     object\n",
       "event_num       int64\n",
       "b_score       float64\n",
       "b_count       float64\n",
       "s_count       float64\n",
       "outs          float64\n",
       "pitch_num     float64\n",
       "on_1b         float64\n",
       "on_2b         float64\n",
       "on_3b         float64\n",
       "pcodes        float64\n",
       "dtype: object"
      ]
     },
     "execution_count": 33,
     "metadata": {},
     "output_type": "execute_result"
    }
   ],
   "source": [
    "k15.dtypes"
   ]
  },
  {
   "cell_type": "code",
   "execution_count": 40,
   "id": "f067ea4a",
   "metadata": {},
   "outputs": [],
   "source": [
    "#k15scale = scale(k15)"
   ]
  },
  {
   "cell_type": "code",
   "execution_count": null,
   "id": "f5dc75d8",
   "metadata": {},
   "outputs": [],
   "source": []
  },
  {
   "cell_type": "code",
   "execution_count": 41,
   "id": "f10b30c4",
   "metadata": {},
   "outputs": [
    {
     "data": {
      "text/html": [
       "<div>\n",
       "<style scoped>\n",
       "    .dataframe tbody tr th:only-of-type {\n",
       "        vertical-align: middle;\n",
       "    }\n",
       "\n",
       "    .dataframe tbody tr th {\n",
       "        vertical-align: top;\n",
       "    }\n",
       "\n",
       "    .dataframe thead th {\n",
       "        text-align: right;\n",
       "    }\n",
       "</style>\n",
       "<table border=\"1\" class=\"dataframe\">\n",
       "  <thead>\n",
       "    <tr style=\"text-align: right;\">\n",
       "      <th></th>\n",
       "      <th>ab_id</th>\n",
       "      <th>batter_id</th>\n",
       "      <th>g_id</th>\n",
       "      <th>inning</th>\n",
       "      <th>o</th>\n",
       "      <th>p_score</th>\n",
       "      <th>pitcher_id</th>\n",
       "      <th>event_num</th>\n",
       "      <th>b_score</th>\n",
       "      <th>b_count</th>\n",
       "      <th>s_count</th>\n",
       "      <th>outs</th>\n",
       "      <th>pitch_num</th>\n",
       "      <th>on_1b</th>\n",
       "      <th>on_2b</th>\n",
       "      <th>on_3b</th>\n",
       "      <th>pcodes</th>\n",
       "    </tr>\n",
       "  </thead>\n",
       "  <tbody>\n",
       "    <tr>\n",
       "      <th>0</th>\n",
       "      <td>2015000768</td>\n",
       "      <td>571976</td>\n",
       "      <td>201500012</td>\n",
       "      <td>1</td>\n",
       "      <td>0</td>\n",
       "      <td>0</td>\n",
       "      <td>477132</td>\n",
       "      <td>3</td>\n",
       "      <td>0.0</td>\n",
       "      <td>0.0</td>\n",
       "      <td>0.0</td>\n",
       "      <td>0.0</td>\n",
       "      <td>1.0</td>\n",
       "      <td>0.0</td>\n",
       "      <td>0.0</td>\n",
       "      <td>0.0</td>\n",
       "      <td>1.0</td>\n",
       "    </tr>\n",
       "    <tr>\n",
       "      <th>1</th>\n",
       "      <td>2015000768</td>\n",
       "      <td>571976</td>\n",
       "      <td>201500012</td>\n",
       "      <td>1</td>\n",
       "      <td>0</td>\n",
       "      <td>0</td>\n",
       "      <td>477132</td>\n",
       "      <td>4</td>\n",
       "      <td>0.0</td>\n",
       "      <td>0.0</td>\n",
       "      <td>1.0</td>\n",
       "      <td>0.0</td>\n",
       "      <td>2.0</td>\n",
       "      <td>0.0</td>\n",
       "      <td>0.0</td>\n",
       "      <td>0.0</td>\n",
       "      <td>1.0</td>\n",
       "    </tr>\n",
       "    <tr>\n",
       "      <th>2</th>\n",
       "      <td>2015000768</td>\n",
       "      <td>571976</td>\n",
       "      <td>201500012</td>\n",
       "      <td>1</td>\n",
       "      <td>0</td>\n",
       "      <td>0</td>\n",
       "      <td>477132</td>\n",
       "      <td>5</td>\n",
       "      <td>0.0</td>\n",
       "      <td>0.0</td>\n",
       "      <td>2.0</td>\n",
       "      <td>0.0</td>\n",
       "      <td>3.0</td>\n",
       "      <td>0.0</td>\n",
       "      <td>0.0</td>\n",
       "      <td>0.0</td>\n",
       "      <td>1.0</td>\n",
       "    </tr>\n",
       "    <tr>\n",
       "      <th>3</th>\n",
       "      <td>2015000769</td>\n",
       "      <td>519083</td>\n",
       "      <td>201500012</td>\n",
       "      <td>1</td>\n",
       "      <td>1</td>\n",
       "      <td>0</td>\n",
       "      <td>477132</td>\n",
       "      <td>8</td>\n",
       "      <td>0.0</td>\n",
       "      <td>0.0</td>\n",
       "      <td>0.0</td>\n",
       "      <td>0.0</td>\n",
       "      <td>1.0</td>\n",
       "      <td>1.0</td>\n",
       "      <td>0.0</td>\n",
       "      <td>0.0</td>\n",
       "      <td>1.0</td>\n",
       "    </tr>\n",
       "    <tr>\n",
       "      <th>4</th>\n",
       "      <td>2015000769</td>\n",
       "      <td>519083</td>\n",
       "      <td>201500012</td>\n",
       "      <td>1</td>\n",
       "      <td>1</td>\n",
       "      <td>0</td>\n",
       "      <td>477132</td>\n",
       "      <td>9</td>\n",
       "      <td>0.0</td>\n",
       "      <td>1.0</td>\n",
       "      <td>0.0</td>\n",
       "      <td>0.0</td>\n",
       "      <td>2.0</td>\n",
       "      <td>1.0</td>\n",
       "      <td>0.0</td>\n",
       "      <td>0.0</td>\n",
       "      <td>1.0</td>\n",
       "    </tr>\n",
       "  </tbody>\n",
       "</table>\n",
       "</div>"
      ],
      "text/plain": [
       "        ab_id  batter_id       g_id  inning  o  p_score  pitcher_id  \\\n",
       "0  2015000768     571976  201500012       1  0        0      477132   \n",
       "1  2015000768     571976  201500012       1  0        0      477132   \n",
       "2  2015000768     571976  201500012       1  0        0      477132   \n",
       "3  2015000769     519083  201500012       1  1        0      477132   \n",
       "4  2015000769     519083  201500012       1  1        0      477132   \n",
       "\n",
       "   event_num  b_score  b_count  s_count  outs  pitch_num  on_1b  on_2b  on_3b  \\\n",
       "0          3      0.0      0.0      0.0   0.0        1.0    0.0    0.0    0.0   \n",
       "1          4      0.0      0.0      1.0   0.0        2.0    0.0    0.0    0.0   \n",
       "2          5      0.0      0.0      2.0   0.0        3.0    0.0    0.0    0.0   \n",
       "3          8      0.0      0.0      0.0   0.0        1.0    1.0    0.0    0.0   \n",
       "4          9      0.0      1.0      0.0   0.0        2.0    1.0    0.0    0.0   \n",
       "\n",
       "   pcodes  \n",
       "0     1.0  \n",
       "1     1.0  \n",
       "2     1.0  \n",
       "3     1.0  \n",
       "4     1.0  "
      ]
     },
     "execution_count": 41,
     "metadata": {},
     "output_type": "execute_result"
    }
   ],
   "source": [
    "#https://stackoverflow.com/questions/41022316/pandas-filter-dataframe-with-type-of-data\n",
    "knums = k15.select_dtypes('number')\n",
    "knums.head()"
   ]
  },
  {
   "cell_type": "code",
   "execution_count": 44,
   "id": "c4436756",
   "metadata": {},
   "outputs": [
    {
     "name": "stderr",
     "output_type": "stream",
     "text": [
      "C:\\Users\\alber\\anaconda3\\lib\\site-packages\\sklearn\\preprocessing\\_data.py:194: UserWarning: Numerical issues were encountered when centering the data and might not be solved. Dataset may contain too large values. You may need to prescale your features.\n",
      "  warnings.warn(\"Numerical issues were encountered \"\n"
     ]
    }
   ],
   "source": [
    "k15scale = scale(knums)"
   ]
  },
  {
   "cell_type": "code",
   "execution_count": 47,
   "id": "5d5659de",
   "metadata": {},
   "outputs": [],
   "source": [
    "#https://stackoverflow.com/questions/51741605/standardize-dataset-containing-too-large-values\n",
    "from sklearn import preprocessing\n",
    "# Get column names first\n",
    "names = knums.columns\n",
    "# Create the Scaler object\n",
    "scaler = preprocessing.StandardScaler()\n",
    "# Fit your data on the scaler object\n",
    "prescaled_df = scaler.fit_transform(knums)\n",
    "scaled_df = pd.DataFrame(scaled_df, columns=names)"
   ]
  },
  {
   "cell_type": "code",
   "execution_count": 48,
   "id": "5c4e09a5",
   "metadata": {},
   "outputs": [
    {
     "data": {
      "text/html": [
       "<div>\n",
       "<style scoped>\n",
       "    .dataframe tbody tr th:only-of-type {\n",
       "        vertical-align: middle;\n",
       "    }\n",
       "\n",
       "    .dataframe tbody tr th {\n",
       "        vertical-align: top;\n",
       "    }\n",
       "\n",
       "    .dataframe thead th {\n",
       "        text-align: right;\n",
       "    }\n",
       "</style>\n",
       "<table border=\"1\" class=\"dataframe\">\n",
       "  <thead>\n",
       "    <tr style=\"text-align: right;\">\n",
       "      <th></th>\n",
       "      <th>ab_id</th>\n",
       "      <th>batter_id</th>\n",
       "      <th>g_id</th>\n",
       "      <th>inning</th>\n",
       "      <th>o</th>\n",
       "      <th>p_score</th>\n",
       "      <th>pitcher_id</th>\n",
       "      <th>event_num</th>\n",
       "      <th>b_score</th>\n",
       "      <th>b_count</th>\n",
       "      <th>s_count</th>\n",
       "      <th>outs</th>\n",
       "      <th>pitch_num</th>\n",
       "      <th>on_1b</th>\n",
       "      <th>on_2b</th>\n",
       "      <th>on_3b</th>\n",
       "      <th>pcodes</th>\n",
       "    </tr>\n",
       "  </thead>\n",
       "  <tbody>\n",
       "    <tr>\n",
       "      <th>0</th>\n",
       "      <td>-1.692262</td>\n",
       "      <td>1.005177</td>\n",
       "      <td>-1.693806</td>\n",
       "      <td>-1.469912</td>\n",
       "      <td>-1.875930</td>\n",
       "      <td>-0.798155</td>\n",
       "      <td>0.0</td>\n",
       "      <td>-1.609795</td>\n",
       "      <td>-0.707277</td>\n",
       "      <td>-0.854110</td>\n",
       "      <td>-1.126027</td>\n",
       "      <td>-1.181552</td>\n",
       "      <td>-1.095118</td>\n",
       "      <td>-0.578712</td>\n",
       "      <td>-0.383041</td>\n",
       "      <td>-0.261432</td>\n",
       "      <td>-0.845927</td>\n",
       "    </tr>\n",
       "    <tr>\n",
       "      <th>1</th>\n",
       "      <td>-1.692262</td>\n",
       "      <td>1.005177</td>\n",
       "      <td>-1.693806</td>\n",
       "      <td>-1.469912</td>\n",
       "      <td>-1.875930</td>\n",
       "      <td>-0.798155</td>\n",
       "      <td>0.0</td>\n",
       "      <td>-1.602696</td>\n",
       "      <td>-0.707277</td>\n",
       "      <td>-0.854110</td>\n",
       "      <td>0.079999</td>\n",
       "      <td>-1.181552</td>\n",
       "      <td>-0.500204</td>\n",
       "      <td>-0.578712</td>\n",
       "      <td>-0.383041</td>\n",
       "      <td>-0.261432</td>\n",
       "      <td>-0.845927</td>\n",
       "    </tr>\n",
       "    <tr>\n",
       "      <th>2</th>\n",
       "      <td>-1.692262</td>\n",
       "      <td>1.005177</td>\n",
       "      <td>-1.693806</td>\n",
       "      <td>-1.469912</td>\n",
       "      <td>-1.875930</td>\n",
       "      <td>-0.798155</td>\n",
       "      <td>0.0</td>\n",
       "      <td>-1.595598</td>\n",
       "      <td>-0.707277</td>\n",
       "      <td>-0.854110</td>\n",
       "      <td>1.286025</td>\n",
       "      <td>-1.181552</td>\n",
       "      <td>0.094709</td>\n",
       "      <td>-0.578712</td>\n",
       "      <td>-0.383041</td>\n",
       "      <td>-0.261432</td>\n",
       "      <td>-0.845927</td>\n",
       "    </tr>\n",
       "    <tr>\n",
       "      <th>3</th>\n",
       "      <td>-1.692244</td>\n",
       "      <td>0.301719</td>\n",
       "      <td>-1.693806</td>\n",
       "      <td>-1.469912</td>\n",
       "      <td>-0.801799</td>\n",
       "      <td>-0.798155</td>\n",
       "      <td>0.0</td>\n",
       "      <td>-1.574302</td>\n",
       "      <td>-0.707277</td>\n",
       "      <td>-0.854110</td>\n",
       "      <td>-1.126027</td>\n",
       "      <td>-1.181552</td>\n",
       "      <td>-1.095118</td>\n",
       "      <td>1.727975</td>\n",
       "      <td>-0.383041</td>\n",
       "      <td>-0.261432</td>\n",
       "      <td>-0.845927</td>\n",
       "    </tr>\n",
       "    <tr>\n",
       "      <th>4</th>\n",
       "      <td>-1.692244</td>\n",
       "      <td>0.301719</td>\n",
       "      <td>-1.693806</td>\n",
       "      <td>-1.469912</td>\n",
       "      <td>-0.801799</td>\n",
       "      <td>-0.798155</td>\n",
       "      <td>0.0</td>\n",
       "      <td>-1.567203</td>\n",
       "      <td>-0.707277</td>\n",
       "      <td>0.242877</td>\n",
       "      <td>-1.126027</td>\n",
       "      <td>-1.181552</td>\n",
       "      <td>-0.500204</td>\n",
       "      <td>1.727975</td>\n",
       "      <td>-0.383041</td>\n",
       "      <td>-0.261432</td>\n",
       "      <td>-0.845927</td>\n",
       "    </tr>\n",
       "  </tbody>\n",
       "</table>\n",
       "</div>"
      ],
      "text/plain": [
       "      ab_id  batter_id      g_id    inning         o   p_score  pitcher_id  \\\n",
       "0 -1.692262   1.005177 -1.693806 -1.469912 -1.875930 -0.798155         0.0   \n",
       "1 -1.692262   1.005177 -1.693806 -1.469912 -1.875930 -0.798155         0.0   \n",
       "2 -1.692262   1.005177 -1.693806 -1.469912 -1.875930 -0.798155         0.0   \n",
       "3 -1.692244   0.301719 -1.693806 -1.469912 -0.801799 -0.798155         0.0   \n",
       "4 -1.692244   0.301719 -1.693806 -1.469912 -0.801799 -0.798155         0.0   \n",
       "\n",
       "   event_num   b_score   b_count   s_count      outs  pitch_num     on_1b  \\\n",
       "0  -1.609795 -0.707277 -0.854110 -1.126027 -1.181552  -1.095118 -0.578712   \n",
       "1  -1.602696 -0.707277 -0.854110  0.079999 -1.181552  -0.500204 -0.578712   \n",
       "2  -1.595598 -0.707277 -0.854110  1.286025 -1.181552   0.094709 -0.578712   \n",
       "3  -1.574302 -0.707277 -0.854110 -1.126027 -1.181552  -1.095118  1.727975   \n",
       "4  -1.567203 -0.707277  0.242877 -1.126027 -1.181552  -0.500204  1.727975   \n",
       "\n",
       "      on_2b     on_3b    pcodes  \n",
       "0 -0.383041 -0.261432 -0.845927  \n",
       "1 -0.383041 -0.261432 -0.845927  \n",
       "2 -0.383041 -0.261432 -0.845927  \n",
       "3 -0.383041 -0.261432 -0.845927  \n",
       "4 -0.383041 -0.261432 -0.845927  "
      ]
     },
     "execution_count": 48,
     "metadata": {},
     "output_type": "execute_result"
    }
   ],
   "source": [
    "scaled_df.head()"
   ]
  },
  {
   "cell_type": "code",
   "execution_count": 49,
   "id": "52669ecd",
   "metadata": {},
   "outputs": [
    {
     "data": {
      "text/plain": [
       "array([[-1.69226216,  1.00517651, -1.69380601, ..., -0.38304146,\n",
       "        -0.26143155, -0.84592709],\n",
       "       [-1.69226216,  1.00517651, -1.69380601, ..., -0.38304146,\n",
       "        -0.26143155, -0.84592709],\n",
       "       [-1.69226216,  1.00517651, -1.69380601, ..., -0.38304146,\n",
       "        -0.26143155, -0.84592709],\n",
       "       ...,\n",
       "       [ 1.71123683,  1.0639742 ,  1.7044464 , ..., -0.38304146,\n",
       "        -0.26143155, -0.84592709],\n",
       "       [ 1.71123683,  1.0639742 ,  1.7044464 , ..., -0.38304146,\n",
       "        -0.26143155, -0.84592709],\n",
       "       [ 1.71123683,  1.0639742 ,  1.7044464 , ..., -0.38304146,\n",
       "        -0.26143155, -0.84592709]])"
      ]
     },
     "execution_count": 49,
     "metadata": {},
     "output_type": "execute_result"
    }
   ],
   "source": [
    "prescaled_df"
   ]
  },
  {
   "cell_type": "code",
   "execution_count": 50,
   "id": "76a8413a",
   "metadata": {},
   "outputs": [
    {
     "data": {
      "text/plain": [
       "ab_id        -1.255243e-12\n",
       "batter_id    -2.137965e-16\n",
       "g_id         -1.188956e-11\n",
       "inning        6.138875e-16\n",
       "o             9.859448e-16\n",
       "p_score      -3.215457e-16\n",
       "pitcher_id    0.000000e+00\n",
       "event_num    -4.857226e-17\n",
       "b_score      -3.996017e-15\n",
       "b_count      -1.805422e-16\n",
       "s_count       8.180121e-16\n",
       "outs         -6.028982e-16\n",
       "pitch_num     4.883410e-17\n",
       "on_1b         1.457168e-16\n",
       "on_2b         8.338783e-16\n",
       "on_3b         5.964503e-16\n",
       "pcodes        3.911527e-16\n",
       "dtype: float64"
      ]
     },
     "execution_count": 50,
     "metadata": {},
     "output_type": "execute_result"
    }
   ],
   "source": [
    "scaled_df.mean()"
   ]
  },
  {
   "cell_type": "code",
   "execution_count": 51,
   "id": "b20f00e8",
   "metadata": {},
   "outputs": [
    {
     "data": {
      "text/plain": [
       "ab_id         1.000147\n",
       "batter_id     1.000147\n",
       "g_id          1.000147\n",
       "inning        1.000147\n",
       "o             1.000147\n",
       "p_score       1.000147\n",
       "pitcher_id    0.000000\n",
       "event_num     1.000147\n",
       "b_score       1.000147\n",
       "b_count       1.000147\n",
       "s_count       1.000147\n",
       "outs          1.000147\n",
       "pitch_num     1.000147\n",
       "on_1b         1.000147\n",
       "on_2b         1.000147\n",
       "on_3b         1.000147\n",
       "pcodes        1.000148\n",
       "dtype: float64"
      ]
     },
     "execution_count": 51,
     "metadata": {},
     "output_type": "execute_result"
    }
   ],
   "source": [
    "scaled_df.std()"
   ]
  },
  {
   "cell_type": "code",
   "execution_count": 56,
   "id": "98e93bb4",
   "metadata": {},
   "outputs": [],
   "source": [
    "#https://datascience.stackexchange.com/questions/11928/valueerror-input-contains-nan-infinity-or-a-value-too-large-for-dtypefloat32\n",
    "k15scale = scaled_df.fillna(scaled_df.mean())\n",
    "k15PCA = PCA().fit(k15scale)"
   ]
  },
  {
   "cell_type": "code",
   "execution_count": 57,
   "id": "c569f6a1",
   "metadata": {},
   "outputs": [
    {
     "data": {
      "image/png": "[encoded data removed]",
      "text/plain": [
       "<Figure size 720x432 with 1 Axes>"
      ]
     },
     "metadata": {
      "needs_background": "light"
     },
     "output_type": "display_data"
    }
   ],
   "source": [
    "#Call the `cumsum()` method on the 'explained_variance_ratio_' attribute of `state_pca` and\n",
    "#create a line plot to visualize the cumulative explained variance ratio with number of components\n",
    "#Set the xlabel to 'Component #', the ylabel to 'Cumulative ratio variance', and the\n",
    "#title to 'Cumulative variance ratio explained by PCA components for state/resort summary statistics'\n",
    "#Hint: remember the handy ';' at the end of the last plot call to suppress that untidy output\n",
    "plt.subplots(figsize=(10, 6))\n",
    "plt.plot(k15PCA.explained_variance_ratio_.cumsum())\n",
    "plt.xlabel('Component #')\n",
    "plt.ylabel('Cumulative ratio variance')\n",
    "plt.title('Cumulative variance ratio explained by PCA components for kersh15 numerical values');"
   ]
  },
  {
   "cell_type": "code",
   "execution_count": 71,
   "id": "717fce74",
   "metadata": {},
   "outputs": [],
   "source": [
    "# define useful function to create scatterplots of ticket prices against desired columns\n",
    "def scatterplots(columns, ncol=None, figsize=(15, 8)):\n",
    "    if ncol is None:\n",
    "        ncol = len(columns)\n",
    "    nrow = int(np.ceil(len(columns) / ncol))\n",
    "    fig, axes = plt.subplots(nrow, ncol, figsize=figsize, squeeze=False)\n",
    "    fig.subplots_adjust(wspace=0.5, hspace=0.6)\n",
    "    for i, col in enumerate(columns):\n",
    "        ax = axes.flatten()[i]\n",
    "        ax.scatter(x = col, y = 'pcodes', data=knums, alpha=0.2)\n",
    "        ax.set(xlabel=col, ylabel='pitch type')\n",
    "    nsubplots = nrow * ncol    \n",
    "    for empty in range(i+1, nsubplots):\n",
    "        axes.flatten()[empty].set_visible(False)"
   ]
  },
  {
   "cell_type": "code",
   "execution_count": 102,
   "id": "c50fe814",
   "metadata": {},
   "outputs": [],
   "source": [
    "#switching axis\n",
    "# define useful function to create scatterplots of ticket prices against desired columns\n",
    "def scatterplots2(columns, ncol=None, figsize=(15, 8)):\n",
    "    if ncol is None:\n",
    "        ncol = len(columns)\n",
    "    nrow = int(np.ceil(len(columns) / ncol))\n",
    "    fig, axes = plt.subplots(nrow, ncol, figsize=figsize, squeeze=False)\n",
    "    fig.subplots_adjust(wspace=0.5, hspace=0.6)\n",
    "    for i, col in enumerate(columns):\n",
    "        ax = axes.flatten()[i]\n",
    "        ax.scatter(x = 'pcodes', y = col, data=knums, alpha=0.1, s = 100)\n",
    "        ax.set(xlabel='pitch_type', ylabel=col)\n",
    "    nsubplots = nrow * ncol    \n",
    "    for empty in range(i+1, nsubplots):\n",
    "        axes.flatten()[empty].set_visible(False)"
   ]
  },
  {
   "cell_type": "code",
   "execution_count": null,
   "id": "20a6e243",
   "metadata": {},
   "outputs": [],
   "source": []
  },
  {
   "cell_type": "code",
   "execution_count": 96,
   "id": "06c02ac5",
   "metadata": {},
   "outputs": [],
   "source": [
    "#Code task 13#\n",
    "#Use a list comprehension to build a list of features from the columns of `ski_data` that\n",
    "#are _not_ any of 'Name', 'Region', 'state', or 'AdultWeekend'\n",
    "features = [x for x in knums.columns if x not in ['ab_id','g_id','pitcher_id', 'batter_id']]"
   ]
  },
  {
   "cell_type": "code",
   "execution_count": 98,
   "id": "5ae25e63",
   "metadata": {},
   "outputs": [
    {
     "data": {
      "image/png": "[encoded data removed]",
      "text/plain": [
       "<Figure size 1080x1080 with 15 Axes>"
      ]
     },
     "metadata": {
      "needs_background": "light"
     },
     "output_type": "display_data"
    }
   ],
   "source": [
    "scatterplots(features, ncol = 3, figsize = (15,15))"
   ]
  },
  {
   "cell_type": "code",
   "execution_count": 103,
   "id": "3a1751c0",
   "metadata": {},
   "outputs": [
    {
     "data": {
      "image/png": "[encoded data removed]",
      "text/plain": [
       "<Figure size 1080x1080 with 15 Axes>"
      ]
     },
     "metadata": {
      "needs_background": "light"
     },
     "output_type": "display_data"
    }
   ],
   "source": [
    "scatterplots2(features, ncol = 3, figsize=(15, 15))"
   ]
  },
  {
   "cell_type": "code",
   "execution_count": 104,
   "id": "62c98b5c",
   "metadata": {},
   "outputs": [
    {
     "data": {
      "image/png": "[encoded data removed]",
      "text/plain": [
       "<Figure size 1080x576 with 3 Axes>"
      ]
     },
     "metadata": {
      "needs_background": "light"
     },
     "output_type": "display_data"
    }
   ],
   "source": [
    "scatterplots(['s_count', 'b_count', 'outs'])"
   ]
  },
  {
   "cell_type": "code",
   "execution_count": null,
   "id": "dc3ec7a5",
   "metadata": {},
   "outputs": [],
   "source": [
    "#plot ratio of it to total for each pitch. \n",
    "#CURVE w 3 balls"
   ]
  }
 ],
 "metadata": {
  "kernelspec": {
   "display_name": "Python 3",
   "language": "python",
   "name": "python3"
  },
  "language_info": {
   "codemirror_mode": {
    "name": "ipython",
    "version": 3
   },
   "file_extension": ".py",
   "mimetype": "text/x-python",
   "name": "python",
   "nbconvert_exporter": "python",
   "pygments_lexer": "ipython3",
   "version": "3.8.8"
  }
 },
 "nbformat": 4,
 "nbformat_minor": 5
}
