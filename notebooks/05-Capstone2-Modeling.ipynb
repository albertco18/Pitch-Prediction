{
 "cells": [
  {
   "cell_type": "code",
   "execution_count": 1,
   "id": "2e6e9a63",
   "metadata": {},
   "outputs": [],
   "source": [
    "import pandas as pd\n",
    "import numpy as np\n",
    "import os\n",
    "import pickle\n",
    "import matplotlib.pyplot as plt\n",
    "import seaborn as sns\n",
    "from sklearn import __version__ as sklearn_version\n",
    "from sklearn.model_selection import cross_validate"
   ]
  },
  {
   "cell_type": "code",
   "execution_count": 2,
   "id": "57b5ec18",
   "metadata": {},
   "outputs": [],
   "source": [
    "import pandas as pd\n",
    "import numpy as np\n",
    "import os\n",
    "import pickle\n",
    "import matplotlib.pyplot as plt\n",
    "import seaborn as sns\n",
    "from sklearn import __version__ as sklearn_version\n",
    "from sklearn.decomposition import PCA\n",
    "from sklearn.preprocessing import scale\n",
    "from sklearn.model_selection import train_test_split, cross_validate, GridSearchCV, learning_curve\n",
    "from sklearn.preprocessing import StandardScaler, MinMaxScaler\n",
    "from sklearn.dummy import DummyRegressor\n",
    "from sklearn.linear_model import LinearRegression\n",
    "from sklearn.ensemble import RandomForestRegressor\n",
    "from sklearn.metrics import r2_score, mean_squared_error, mean_absolute_error\n",
    "from sklearn.pipeline import make_pipeline\n",
    "from sklearn.impute import SimpleImputer\n",
    "from sklearn.feature_selection import SelectKBest, f_regression\n",
    "import datetime\n",
    "\n",
    "from library.sb_utils import save_file"
   ]
  },
  {
   "cell_type": "code",
   "execution_count": 3,
   "id": "81dcdcc1",
   "metadata": {},
   "outputs": [],
   "source": [
    "from sklearn.preprocessing import LabelEncoder"
   ]
  },
  {
   "cell_type": "code",
   "execution_count": 4,
   "id": "e9055a70",
   "metadata": {},
   "outputs": [],
   "source": [
    "filepath = '../data/processed/'\n",
    "X = pd.read_csv(filepath + 'X_pre.csv')\n",
    "y = pd.read_csv(filepath + 'y_pre.csv')"
   ]
  },
  {
   "cell_type": "code",
   "execution_count": 5,
   "id": "7c3fada9",
   "metadata": {},
   "outputs": [
    {
     "data": {
      "text/html": [
       "<div>\n",
       "<style scoped>\n",
       "    .dataframe tbody tr th:only-of-type {\n",
       "        vertical-align: middle;\n",
       "    }\n",
       "\n",
       "    .dataframe tbody tr th {\n",
       "        vertical-align: top;\n",
       "    }\n",
       "\n",
       "    .dataframe thead th {\n",
       "        text-align: right;\n",
       "    }\n",
       "</style>\n",
       "<table border=\"1\" class=\"dataframe\">\n",
       "  <thead>\n",
       "    <tr style=\"text-align: right;\">\n",
       "      <th></th>\n",
       "      <th>inning</th>\n",
       "      <th>o</th>\n",
       "      <th>p_score</th>\n",
       "      <th>p_throws</th>\n",
       "      <th>stand</th>\n",
       "      <th>b_score</th>\n",
       "      <th>b_count</th>\n",
       "      <th>s_count</th>\n",
       "      <th>outs</th>\n",
       "      <th>pitch_num</th>\n",
       "      <th>on_1b</th>\n",
       "      <th>on_2b</th>\n",
       "      <th>on_3b</th>\n",
       "    </tr>\n",
       "  </thead>\n",
       "  <tbody>\n",
       "    <tr>\n",
       "      <th>0</th>\n",
       "      <td>1</td>\n",
       "      <td>1</td>\n",
       "      <td>0</td>\n",
       "      <td>L</td>\n",
       "      <td>L</td>\n",
       "      <td>0.0</td>\n",
       "      <td>0.0</td>\n",
       "      <td>0.0</td>\n",
       "      <td>0.0</td>\n",
       "      <td>1.0</td>\n",
       "      <td>0.0</td>\n",
       "      <td>0.0</td>\n",
       "      <td>0.0</td>\n",
       "    </tr>\n",
       "    <tr>\n",
       "      <th>1</th>\n",
       "      <td>1</td>\n",
       "      <td>1</td>\n",
       "      <td>0</td>\n",
       "      <td>L</td>\n",
       "      <td>L</td>\n",
       "      <td>0.0</td>\n",
       "      <td>0.0</td>\n",
       "      <td>1.0</td>\n",
       "      <td>0.0</td>\n",
       "      <td>2.0</td>\n",
       "      <td>0.0</td>\n",
       "      <td>0.0</td>\n",
       "      <td>0.0</td>\n",
       "    </tr>\n",
       "    <tr>\n",
       "      <th>2</th>\n",
       "      <td>1</td>\n",
       "      <td>1</td>\n",
       "      <td>0</td>\n",
       "      <td>L</td>\n",
       "      <td>L</td>\n",
       "      <td>0.0</td>\n",
       "      <td>0.0</td>\n",
       "      <td>2.0</td>\n",
       "      <td>0.0</td>\n",
       "      <td>3.0</td>\n",
       "      <td>0.0</td>\n",
       "      <td>0.0</td>\n",
       "      <td>0.0</td>\n",
       "    </tr>\n",
       "    <tr>\n",
       "      <th>3</th>\n",
       "      <td>1</td>\n",
       "      <td>1</td>\n",
       "      <td>0</td>\n",
       "      <td>L</td>\n",
       "      <td>L</td>\n",
       "      <td>0.0</td>\n",
       "      <td>0.0</td>\n",
       "      <td>2.0</td>\n",
       "      <td>0.0</td>\n",
       "      <td>4.0</td>\n",
       "      <td>0.0</td>\n",
       "      <td>0.0</td>\n",
       "      <td>0.0</td>\n",
       "    </tr>\n",
       "    <tr>\n",
       "      <th>4</th>\n",
       "      <td>1</td>\n",
       "      <td>1</td>\n",
       "      <td>0</td>\n",
       "      <td>L</td>\n",
       "      <td>L</td>\n",
       "      <td>0.0</td>\n",
       "      <td>1.0</td>\n",
       "      <td>2.0</td>\n",
       "      <td>0.0</td>\n",
       "      <td>5.0</td>\n",
       "      <td>0.0</td>\n",
       "      <td>0.0</td>\n",
       "      <td>0.0</td>\n",
       "    </tr>\n",
       "    <tr>\n",
       "      <th>...</th>\n",
       "      <td>...</td>\n",
       "      <td>...</td>\n",
       "      <td>...</td>\n",
       "      <td>...</td>\n",
       "      <td>...</td>\n",
       "      <td>...</td>\n",
       "      <td>...</td>\n",
       "      <td>...</td>\n",
       "      <td>...</td>\n",
       "      <td>...</td>\n",
       "      <td>...</td>\n",
       "      <td>...</td>\n",
       "      <td>...</td>\n",
       "    </tr>\n",
       "    <tr>\n",
       "      <th>21575</th>\n",
       "      <td>4</td>\n",
       "      <td>2</td>\n",
       "      <td>0</td>\n",
       "      <td>R</td>\n",
       "      <td>R</td>\n",
       "      <td>0.0</td>\n",
       "      <td>1.0</td>\n",
       "      <td>2.0</td>\n",
       "      <td>1.0</td>\n",
       "      <td>4.0</td>\n",
       "      <td>0.0</td>\n",
       "      <td>0.0</td>\n",
       "      <td>0.0</td>\n",
       "    </tr>\n",
       "    <tr>\n",
       "      <th>21576</th>\n",
       "      <td>4</td>\n",
       "      <td>2</td>\n",
       "      <td>0</td>\n",
       "      <td>R</td>\n",
       "      <td>R</td>\n",
       "      <td>0.0</td>\n",
       "      <td>2.0</td>\n",
       "      <td>2.0</td>\n",
       "      <td>1.0</td>\n",
       "      <td>5.0</td>\n",
       "      <td>0.0</td>\n",
       "      <td>0.0</td>\n",
       "      <td>0.0</td>\n",
       "    </tr>\n",
       "    <tr>\n",
       "      <th>21577</th>\n",
       "      <td>4</td>\n",
       "      <td>3</td>\n",
       "      <td>0</td>\n",
       "      <td>R</td>\n",
       "      <td>L</td>\n",
       "      <td>0.0</td>\n",
       "      <td>0.0</td>\n",
       "      <td>0.0</td>\n",
       "      <td>2.0</td>\n",
       "      <td>1.0</td>\n",
       "      <td>0.0</td>\n",
       "      <td>0.0</td>\n",
       "      <td>0.0</td>\n",
       "    </tr>\n",
       "    <tr>\n",
       "      <th>21578</th>\n",
       "      <td>4</td>\n",
       "      <td>3</td>\n",
       "      <td>0</td>\n",
       "      <td>R</td>\n",
       "      <td>L</td>\n",
       "      <td>0.0</td>\n",
       "      <td>0.0</td>\n",
       "      <td>1.0</td>\n",
       "      <td>2.0</td>\n",
       "      <td>2.0</td>\n",
       "      <td>0.0</td>\n",
       "      <td>0.0</td>\n",
       "      <td>0.0</td>\n",
       "    </tr>\n",
       "    <tr>\n",
       "      <th>21579</th>\n",
       "      <td>4</td>\n",
       "      <td>3</td>\n",
       "      <td>0</td>\n",
       "      <td>R</td>\n",
       "      <td>L</td>\n",
       "      <td>0.0</td>\n",
       "      <td>1.0</td>\n",
       "      <td>1.0</td>\n",
       "      <td>2.0</td>\n",
       "      <td>3.0</td>\n",
       "      <td>0.0</td>\n",
       "      <td>0.0</td>\n",
       "      <td>0.0</td>\n",
       "    </tr>\n",
       "  </tbody>\n",
       "</table>\n",
       "<p>21580 rows × 13 columns</p>\n",
       "</div>"
      ],
      "text/plain": [
       "       inning  o  p_score p_throws stand  b_score  b_count  s_count  outs  \\\n",
       "0           1  1        0        L     L      0.0      0.0      0.0   0.0   \n",
       "1           1  1        0        L     L      0.0      0.0      1.0   0.0   \n",
       "2           1  1        0        L     L      0.0      0.0      2.0   0.0   \n",
       "3           1  1        0        L     L      0.0      0.0      2.0   0.0   \n",
       "4           1  1        0        L     L      0.0      1.0      2.0   0.0   \n",
       "...       ... ..      ...      ...   ...      ...      ...      ...   ...   \n",
       "21575       4  2        0        R     R      0.0      1.0      2.0   1.0   \n",
       "21576       4  2        0        R     R      0.0      2.0      2.0   1.0   \n",
       "21577       4  3        0        R     L      0.0      0.0      0.0   2.0   \n",
       "21578       4  3        0        R     L      0.0      0.0      1.0   2.0   \n",
       "21579       4  3        0        R     L      0.0      1.0      1.0   2.0   \n",
       "\n",
       "       pitch_num  on_1b  on_2b  on_3b  \n",
       "0            1.0    0.0    0.0    0.0  \n",
       "1            2.0    0.0    0.0    0.0  \n",
       "2            3.0    0.0    0.0    0.0  \n",
       "3            4.0    0.0    0.0    0.0  \n",
       "4            5.0    0.0    0.0    0.0  \n",
       "...          ...    ...    ...    ...  \n",
       "21575        4.0    0.0    0.0    0.0  \n",
       "21576        5.0    0.0    0.0    0.0  \n",
       "21577        1.0    0.0    0.0    0.0  \n",
       "21578        2.0    0.0    0.0    0.0  \n",
       "21579        3.0    0.0    0.0    0.0  \n",
       "\n",
       "[21580 rows x 13 columns]"
      ]
     },
     "execution_count": 5,
     "metadata": {},
     "output_type": "execute_result"
    }
   ],
   "source": [
    "X"
   ]
  },
  {
   "cell_type": "code",
   "execution_count": 21,
   "id": "1eec3745",
   "metadata": {},
   "outputs": [
    {
     "data": {
      "text/html": [
       "<div>\n",
       "<style scoped>\n",
       "    .dataframe tbody tr th:only-of-type {\n",
       "        vertical-align: middle;\n",
       "    }\n",
       "\n",
       "    .dataframe tbody tr th {\n",
       "        vertical-align: top;\n",
       "    }\n",
       "\n",
       "    .dataframe thead th {\n",
       "        text-align: right;\n",
       "    }\n",
       "</style>\n",
       "<table border=\"1\" class=\"dataframe\">\n",
       "  <thead>\n",
       "    <tr style=\"text-align: right;\">\n",
       "      <th></th>\n",
       "      <th>pitch_type</th>\n",
       "    </tr>\n",
       "  </thead>\n",
       "  <tbody>\n",
       "    <tr>\n",
       "      <th>0</th>\n",
       "      <td>FF</td>\n",
       "    </tr>\n",
       "    <tr>\n",
       "      <th>1</th>\n",
       "      <td>FF</td>\n",
       "    </tr>\n",
       "    <tr>\n",
       "      <th>2</th>\n",
       "      <td>FF</td>\n",
       "    </tr>\n",
       "    <tr>\n",
       "      <th>3</th>\n",
       "      <td>FF</td>\n",
       "    </tr>\n",
       "    <tr>\n",
       "      <th>4</th>\n",
       "      <td>CU</td>\n",
       "    </tr>\n",
       "    <tr>\n",
       "      <th>...</th>\n",
       "      <td>...</td>\n",
       "    </tr>\n",
       "    <tr>\n",
       "      <th>21575</th>\n",
       "      <td>FF</td>\n",
       "    </tr>\n",
       "    <tr>\n",
       "      <th>21576</th>\n",
       "      <td>CH</td>\n",
       "    </tr>\n",
       "    <tr>\n",
       "      <th>21577</th>\n",
       "      <td>CH</td>\n",
       "    </tr>\n",
       "    <tr>\n",
       "      <th>21578</th>\n",
       "      <td>CH</td>\n",
       "    </tr>\n",
       "    <tr>\n",
       "      <th>21579</th>\n",
       "      <td>FF</td>\n",
       "    </tr>\n",
       "  </tbody>\n",
       "</table>\n",
       "<p>21580 rows × 1 columns</p>\n",
       "</div>"
      ],
      "text/plain": [
       "      pitch_type\n",
       "0             FF\n",
       "1             FF\n",
       "2             FF\n",
       "3             FF\n",
       "4             CU\n",
       "...          ...\n",
       "21575         FF\n",
       "21576         CH\n",
       "21577         CH\n",
       "21578         CH\n",
       "21579         FF\n",
       "\n",
       "[21580 rows x 1 columns]"
      ]
     },
     "execution_count": 21,
     "metadata": {},
     "output_type": "execute_result"
    }
   ],
   "source": [
    "y"
   ]
  },
  {
   "cell_type": "code",
   "execution_count": 22,
   "id": "964181d0",
   "metadata": {},
   "outputs": [],
   "source": [
    "from sklearn.preprocessing import OneHotEncoder, LabelEncoder"
   ]
  },
  {
   "cell_type": "code",
   "execution_count": 23,
   "id": "157cac9f",
   "metadata": {},
   "outputs": [],
   "source": [
    "X_drop = pd.get_dummies(X, drop_first = True)"
   ]
  },
  {
   "cell_type": "code",
   "execution_count": 24,
   "id": "b483f3b2",
   "metadata": {},
   "outputs": [],
   "source": [
    "scaler = StandardScaler()\n",
    "X_s = scaler.fit_transform(X_drop)"
   ]
  },
  {
   "cell_type": "code",
   "execution_count": 25,
   "id": "b5c0620f",
   "metadata": {},
   "outputs": [],
   "source": [
    "y_encoder = LabelEncoder()"
   ]
  },
  {
   "cell_type": "code",
   "execution_count": 26,
   "id": "ba5f75c8",
   "metadata": {},
   "outputs": [],
   "source": [
    "y_array = y.to_numpy().flatten()\n",
    "y_enc = y_encoder.fit(y_array)"
   ]
  },
  {
   "cell_type": "code",
   "execution_count": 27,
   "id": "4e8ce249",
   "metadata": {},
   "outputs": [
    {
     "data": {
      "text/plain": [
       "array(['CH', 'CU', 'FC', 'FF', 'FT', 'SI', 'SL'], dtype=object)"
      ]
     },
     "execution_count": 27,
     "metadata": {},
     "output_type": "execute_result"
    }
   ],
   "source": [
    "y_enc.classes_"
   ]
  },
  {
   "cell_type": "code",
   "execution_count": 29,
   "id": "a1bc3f6d",
   "metadata": {},
   "outputs": [],
   "source": [
    "y1 = y_enc.transform(y_array)"
   ]
  },
  {
   "cell_type": "code",
   "execution_count": 30,
   "id": "79da5851",
   "metadata": {},
   "outputs": [
    {
     "data": {
      "text/plain": [
       "(21580,)"
      ]
     },
     "execution_count": 30,
     "metadata": {},
     "output_type": "execute_result"
    }
   ],
   "source": [
    "y1.shape"
   ]
  },
  {
   "cell_type": "markdown",
   "id": "0cdaaa6e",
   "metadata": {},
   "source": [
    "# Question\n",
    "\n",
    "Im not currently using the cells until the bold Resume (5 cells down). Trying to figure out whether or not to fit an encoder (as opposed to using get_dummies) to add to a pipeline is necessary. If it is, I was having a bit of trouble dealing with having both numerical and categorical columns in the data to fit the encoder on. "
   ]
  },
  {
   "cell_type": "code",
   "execution_count": 33,
   "id": "fcdfd32e",
   "metadata": {},
   "outputs": [],
   "source": [
    "tbe= X.loc[:,['p_throws','stand']]"
   ]
  },
  {
   "cell_type": "code",
   "execution_count": 39,
   "id": "2b9a70d8",
   "metadata": {},
   "outputs": [
    {
     "data": {
      "text/plain": [
       "(21580, 2)"
      ]
     },
     "execution_count": 39,
     "metadata": {},
     "output_type": "execute_result"
    }
   ],
   "source": [
    "x_enc = OneHotEncoder(drop='first')\n",
    "x_enc.fit(X.loc[:,['p_throws','stand']])\n",
    "new = x_enc.transform(tbe).toarray()\n",
    "new.shape"
   ]
  },
  {
   "cell_type": "code",
   "execution_count": 40,
   "id": "a2939df1",
   "metadata": {},
   "outputs": [
    {
     "data": {
      "text/html": [
       "<div>\n",
       "<style scoped>\n",
       "    .dataframe tbody tr th:only-of-type {\n",
       "        vertical-align: middle;\n",
       "    }\n",
       "\n",
       "    .dataframe tbody tr th {\n",
       "        vertical-align: top;\n",
       "    }\n",
       "\n",
       "    .dataframe thead th {\n",
       "        text-align: right;\n",
       "    }\n",
       "</style>\n",
       "<table border=\"1\" class=\"dataframe\">\n",
       "  <thead>\n",
       "    <tr style=\"text-align: right;\">\n",
       "      <th></th>\n",
       "      <th>inning</th>\n",
       "      <th>o</th>\n",
       "      <th>p_score</th>\n",
       "      <th>p_throws</th>\n",
       "      <th>stand</th>\n",
       "      <th>b_score</th>\n",
       "      <th>b_count</th>\n",
       "      <th>s_count</th>\n",
       "      <th>outs</th>\n",
       "      <th>pitch_num</th>\n",
       "      <th>on_1b</th>\n",
       "      <th>on_2b</th>\n",
       "      <th>on_3b</th>\n",
       "    </tr>\n",
       "  </thead>\n",
       "  <tbody>\n",
       "    <tr>\n",
       "      <th>0</th>\n",
       "      <td>1</td>\n",
       "      <td>1</td>\n",
       "      <td>0</td>\n",
       "      <td>0.0</td>\n",
       "      <td>0.0</td>\n",
       "      <td>0.0</td>\n",
       "      <td>0.0</td>\n",
       "      <td>0.0</td>\n",
       "      <td>0.0</td>\n",
       "      <td>1.0</td>\n",
       "      <td>0.0</td>\n",
       "      <td>0.0</td>\n",
       "      <td>0.0</td>\n",
       "    </tr>\n",
       "    <tr>\n",
       "      <th>1</th>\n",
       "      <td>1</td>\n",
       "      <td>1</td>\n",
       "      <td>0</td>\n",
       "      <td>0.0</td>\n",
       "      <td>0.0</td>\n",
       "      <td>0.0</td>\n",
       "      <td>0.0</td>\n",
       "      <td>1.0</td>\n",
       "      <td>0.0</td>\n",
       "      <td>2.0</td>\n",
       "      <td>0.0</td>\n",
       "      <td>0.0</td>\n",
       "      <td>0.0</td>\n",
       "    </tr>\n",
       "    <tr>\n",
       "      <th>2</th>\n",
       "      <td>1</td>\n",
       "      <td>1</td>\n",
       "      <td>0</td>\n",
       "      <td>0.0</td>\n",
       "      <td>0.0</td>\n",
       "      <td>0.0</td>\n",
       "      <td>0.0</td>\n",
       "      <td>2.0</td>\n",
       "      <td>0.0</td>\n",
       "      <td>3.0</td>\n",
       "      <td>0.0</td>\n",
       "      <td>0.0</td>\n",
       "      <td>0.0</td>\n",
       "    </tr>\n",
       "    <tr>\n",
       "      <th>3</th>\n",
       "      <td>1</td>\n",
       "      <td>1</td>\n",
       "      <td>0</td>\n",
       "      <td>0.0</td>\n",
       "      <td>0.0</td>\n",
       "      <td>0.0</td>\n",
       "      <td>0.0</td>\n",
       "      <td>2.0</td>\n",
       "      <td>0.0</td>\n",
       "      <td>4.0</td>\n",
       "      <td>0.0</td>\n",
       "      <td>0.0</td>\n",
       "      <td>0.0</td>\n",
       "    </tr>\n",
       "    <tr>\n",
       "      <th>4</th>\n",
       "      <td>1</td>\n",
       "      <td>1</td>\n",
       "      <td>0</td>\n",
       "      <td>0.0</td>\n",
       "      <td>0.0</td>\n",
       "      <td>0.0</td>\n",
       "      <td>1.0</td>\n",
       "      <td>2.0</td>\n",
       "      <td>0.0</td>\n",
       "      <td>5.0</td>\n",
       "      <td>0.0</td>\n",
       "      <td>0.0</td>\n",
       "      <td>0.0</td>\n",
       "    </tr>\n",
       "    <tr>\n",
       "      <th>...</th>\n",
       "      <td>...</td>\n",
       "      <td>...</td>\n",
       "      <td>...</td>\n",
       "      <td>...</td>\n",
       "      <td>...</td>\n",
       "      <td>...</td>\n",
       "      <td>...</td>\n",
       "      <td>...</td>\n",
       "      <td>...</td>\n",
       "      <td>...</td>\n",
       "      <td>...</td>\n",
       "      <td>...</td>\n",
       "      <td>...</td>\n",
       "    </tr>\n",
       "    <tr>\n",
       "      <th>21575</th>\n",
       "      <td>4</td>\n",
       "      <td>2</td>\n",
       "      <td>0</td>\n",
       "      <td>1.0</td>\n",
       "      <td>1.0</td>\n",
       "      <td>0.0</td>\n",
       "      <td>1.0</td>\n",
       "      <td>2.0</td>\n",
       "      <td>1.0</td>\n",
       "      <td>4.0</td>\n",
       "      <td>0.0</td>\n",
       "      <td>0.0</td>\n",
       "      <td>0.0</td>\n",
       "    </tr>\n",
       "    <tr>\n",
       "      <th>21576</th>\n",
       "      <td>4</td>\n",
       "      <td>2</td>\n",
       "      <td>0</td>\n",
       "      <td>1.0</td>\n",
       "      <td>1.0</td>\n",
       "      <td>0.0</td>\n",
       "      <td>2.0</td>\n",
       "      <td>2.0</td>\n",
       "      <td>1.0</td>\n",
       "      <td>5.0</td>\n",
       "      <td>0.0</td>\n",
       "      <td>0.0</td>\n",
       "      <td>0.0</td>\n",
       "    </tr>\n",
       "    <tr>\n",
       "      <th>21577</th>\n",
       "      <td>4</td>\n",
       "      <td>3</td>\n",
       "      <td>0</td>\n",
       "      <td>1.0</td>\n",
       "      <td>0.0</td>\n",
       "      <td>0.0</td>\n",
       "      <td>0.0</td>\n",
       "      <td>0.0</td>\n",
       "      <td>2.0</td>\n",
       "      <td>1.0</td>\n",
       "      <td>0.0</td>\n",
       "      <td>0.0</td>\n",
       "      <td>0.0</td>\n",
       "    </tr>\n",
       "    <tr>\n",
       "      <th>21578</th>\n",
       "      <td>4</td>\n",
       "      <td>3</td>\n",
       "      <td>0</td>\n",
       "      <td>1.0</td>\n",
       "      <td>0.0</td>\n",
       "      <td>0.0</td>\n",
       "      <td>0.0</td>\n",
       "      <td>1.0</td>\n",
       "      <td>2.0</td>\n",
       "      <td>2.0</td>\n",
       "      <td>0.0</td>\n",
       "      <td>0.0</td>\n",
       "      <td>0.0</td>\n",
       "    </tr>\n",
       "    <tr>\n",
       "      <th>21579</th>\n",
       "      <td>4</td>\n",
       "      <td>3</td>\n",
       "      <td>0</td>\n",
       "      <td>1.0</td>\n",
       "      <td>0.0</td>\n",
       "      <td>0.0</td>\n",
       "      <td>1.0</td>\n",
       "      <td>1.0</td>\n",
       "      <td>2.0</td>\n",
       "      <td>3.0</td>\n",
       "      <td>0.0</td>\n",
       "      <td>0.0</td>\n",
       "      <td>0.0</td>\n",
       "    </tr>\n",
       "  </tbody>\n",
       "</table>\n",
       "<p>21580 rows × 13 columns</p>\n",
       "</div>"
      ],
      "text/plain": [
       "       inning  o  p_score  p_throws  stand  b_score  b_count  s_count  outs  \\\n",
       "0           1  1        0       0.0    0.0      0.0      0.0      0.0   0.0   \n",
       "1           1  1        0       0.0    0.0      0.0      0.0      1.0   0.0   \n",
       "2           1  1        0       0.0    0.0      0.0      0.0      2.0   0.0   \n",
       "3           1  1        0       0.0    0.0      0.0      0.0      2.0   0.0   \n",
       "4           1  1        0       0.0    0.0      0.0      1.0      2.0   0.0   \n",
       "...       ... ..      ...       ...    ...      ...      ...      ...   ...   \n",
       "21575       4  2        0       1.0    1.0      0.0      1.0      2.0   1.0   \n",
       "21576       4  2        0       1.0    1.0      0.0      2.0      2.0   1.0   \n",
       "21577       4  3        0       1.0    0.0      0.0      0.0      0.0   2.0   \n",
       "21578       4  3        0       1.0    0.0      0.0      0.0      1.0   2.0   \n",
       "21579       4  3        0       1.0    0.0      0.0      1.0      1.0   2.0   \n",
       "\n",
       "       pitch_num  on_1b  on_2b  on_3b  \n",
       "0            1.0    0.0    0.0    0.0  \n",
       "1            2.0    0.0    0.0    0.0  \n",
       "2            3.0    0.0    0.0    0.0  \n",
       "3            4.0    0.0    0.0    0.0  \n",
       "4            5.0    0.0    0.0    0.0  \n",
       "...          ...    ...    ...    ...  \n",
       "21575        4.0    0.0    0.0    0.0  \n",
       "21576        5.0    0.0    0.0    0.0  \n",
       "21577        1.0    0.0    0.0    0.0  \n",
       "21578        2.0    0.0    0.0    0.0  \n",
       "21579        3.0    0.0    0.0    0.0  \n",
       "\n",
       "[21580 rows x 13 columns]"
      ]
     },
     "execution_count": 40,
     "metadata": {},
     "output_type": "execute_result"
    }
   ],
   "source": [
    "X['p_throws'] = new[:,0]\n",
    "X['stand'] = new[:,1]\n",
    "X"
   ]
  },
  {
   "cell_type": "code",
   "execution_count": 44,
   "id": "d1d70fdf",
   "metadata": {},
   "outputs": [
    {
     "data": {
      "text/plain": [
       "OneHotEncoder(drop='first')"
      ]
     },
     "execution_count": 44,
     "metadata": {},
     "output_type": "execute_result"
    }
   ],
   "source": [
    "enc1 = OneHotEncoder(drop = 'first')\n",
    "enc1.fit(X)"
   ]
  },
  {
   "cell_type": "code",
   "execution_count": 45,
   "id": "2a22ed5e",
   "metadata": {},
   "outputs": [
    {
     "data": {
      "text/plain": [
       "array([[0., 0., 0., ..., 0., 0., 0.],\n",
       "       [0., 0., 0., ..., 0., 0., 0.],\n",
       "       [0., 0., 0., ..., 0., 0., 0.],\n",
       "       ...,\n",
       "       [0., 0., 1., ..., 0., 0., 0.],\n",
       "       [0., 0., 1., ..., 0., 0., 0.],\n",
       "       [0., 0., 1., ..., 0., 0., 0.]])"
      ]
     },
     "execution_count": 45,
     "metadata": {},
     "output_type": "execute_result"
    }
   ],
   "source": [
    "enc1.transform(X).toarray()"
   ]
  },
  {
   "cell_type": "markdown",
   "id": "fc3c2a32",
   "metadata": {},
   "source": [
    "# Resume"
   ]
  },
  {
   "cell_type": "code",
   "execution_count": 31,
   "id": "986bb3b6",
   "metadata": {},
   "outputs": [],
   "source": [
    "#split data into train and test sets 80/20\n",
    "X_train, X_test, y_train, y_test = train_test_split(X_s, y1, test_size = 0.2, random_state = 123)"
   ]
  },
  {
   "cell_type": "markdown",
   "id": "404529d5",
   "metadata": {},
   "source": [
    "For now we will use accuracy as our main metric, while also looking at f1, roc_auc_score, recall and precision. For the latter measures, I felt a weighted average would be more informative than a micro or macro average. This isn't based on any strong backing so maybe this will be changed in the future. Another note is that due to the nature of the project, we don't have an particular need to worry about false positives or false negatives more than one another, the way we would for something involving medicine or other higher stakes scenarios. \n",
    "\n",
    "Lets start by creating a dummy classifier set to always predict the most frequent classification (4 seam fastball, labeled FF, which occurs 42.5% of the time)."
   ]
  },
  {
   "cell_type": "code",
   "execution_count": 20,
   "id": "d5848382",
   "metadata": {},
   "outputs": [],
   "source": [
    "from sklearn.dummy import DummyClassifier"
   ]
  },
  {
   "cell_type": "code",
   "execution_count": 21,
   "id": "e8acfd4e",
   "metadata": {},
   "outputs": [],
   "source": [
    "dumb = DummyClassifier(strategy = 'most_frequent')"
   ]
  },
  {
   "cell_type": "code",
   "execution_count": 22,
   "id": "38164091",
   "metadata": {},
   "outputs": [
    {
     "data": {
      "text/plain": [
       "DummyClassifier(strategy='most_frequent')"
      ]
     },
     "execution_count": 22,
     "metadata": {},
     "output_type": "execute_result"
    }
   ],
   "source": [
    "dumb.fit(X_train, y_train)"
   ]
  },
  {
   "cell_type": "code",
   "execution_count": 23,
   "id": "108dc040",
   "metadata": {},
   "outputs": [
    {
     "data": {
      "text/plain": [
       "0.4258572752548656"
      ]
     },
     "execution_count": 23,
     "metadata": {},
     "output_type": "execute_result"
    }
   ],
   "source": [
    "y_pred = dumb.predict(X_test)\n",
    "dumb.score(X_test, y_test)"
   ]
  },
  {
   "cell_type": "code",
   "execution_count": 39,
   "id": "6d83445a",
   "metadata": {},
   "outputs": [],
   "source": [
    "from sklearn.metrics import roc_auc_score"
   ]
  },
  {
   "cell_type": "code",
   "execution_count": 28,
   "id": "3060f5e6",
   "metadata": {},
   "outputs": [
    {
     "data": {
      "text/plain": [
       "0.4258572752548656"
      ]
     },
     "execution_count": 28,
     "metadata": {},
     "output_type": "execute_result"
    }
   ],
   "source": [
    "from sklearn.metrics import accuracy_score, f1_score\n",
    "from sklearn.metrics import confusion_matrix, ConfusionMatrixDisplay\n",
    "#verify that accuracy_score and model.score agree\n",
    "accuracy_score(y_pred, y_test)"
   ]
  },
  {
   "cell_type": "code",
   "execution_count": 51,
   "id": "bf10e846",
   "metadata": {},
   "outputs": [
    {
     "data": {
      "text/plain": [
       "array([3, 3, 3, ..., 3, 0, 3])"
      ]
     },
     "execution_count": 51,
     "metadata": {},
     "output_type": "execute_result"
    }
   ],
   "source": [
    "y_test"
   ]
  },
  {
   "cell_type": "code",
   "execution_count": 50,
   "id": "b6af31c1",
   "metadata": {},
   "outputs": [
    {
     "data": {
      "text/plain": [
       "(4316, 7)"
      ]
     },
     "execution_count": 50,
     "metadata": {},
     "output_type": "execute_result"
    }
   ],
   "source": [
    "dumb.predict_proba(X_test).shape"
   ]
  },
  {
   "cell_type": "code",
   "execution_count": 52,
   "id": "bd56acba",
   "metadata": {},
   "outputs": [
    {
     "data": {
      "text/plain": [
       "0.5"
      ]
     },
     "execution_count": 52,
     "metadata": {},
     "output_type": "execute_result"
    }
   ],
   "source": [
    "roc_auc_score(y_test, dumb.predict_proba(X_test), multi_class = 'ovo')"
   ]
  },
  {
   "cell_type": "markdown",
   "id": "68e52f01",
   "metadata": {},
   "source": [
    "### Here are a couple functions that will be used to get quick metrics from our models"
   ]
  },
  {
   "cell_type": "markdown",
   "id": "d94700f8",
   "metadata": {},
   "source": [
    "Here is a function to plot the confusion matrix and print the f1 and accuracy score for a given model. \n",
    "Right now we will use average = 'weighted'"
   ]
  },
  {
   "cell_type": "code",
   "execution_count": 116,
   "id": "3429f929",
   "metadata": {},
   "outputs": [],
   "source": [
    "def plot_cm(model):\n",
    "    fig, ax = plt.subplots(figsize=(8,6))\n",
    "    predictions = model.predict(X_test)\n",
    "    cm = confusion_matrix(y_test, predictions)\n",
    "    print('accuracy ',accuracy_score(predictions,y_test))\n",
    "    print('f1 ',f1_score(y_test,predictions, average = 'weighted'))\n",
    "    disp = ConfusionMatrixDisplay(cm, display_labels = model.classes_)\n",
    "    disp.plot(ax=ax)\n",
    "    \n",
    "    #plt.show()"
   ]
  },
  {
   "cell_type": "markdown",
   "id": "7ab7d7aa",
   "metadata": {},
   "source": [
    "And here is a function to quickly give us the Recall, Precision, and AUC-ROC-Score (area under the ROC curve). In these we will use a weighted average as well. "
   ]
  },
  {
   "cell_type": "code",
   "execution_count": 114,
   "id": "a5bc82fa",
   "metadata": {},
   "outputs": [],
   "source": [
    "from sklearn.metrics import recall_score, precision_score\n",
    "def ez_mets(model):\n",
    "    preds = model.predict(X_test)\n",
    "    print('Recall ', recall_score(y_test,preds,average = 'weighted'))\n",
    "    print('Precision ', precision_score(y_test,preds,average = 'weighted', zero_division = 0))\n",
    "    print(\"AUC-ROC-Score \", roc_auc_score(y_test, model.predict_proba(X_test), multi_class = 'ovr'))"
   ]
  },
  {
   "cell_type": "code",
   "execution_count": 117,
   "id": "7e8358ab",
   "metadata": {},
   "outputs": [
    {
     "name": "stdout",
     "output_type": "stream",
     "text": [
      "accuracy  0.4258572752548656\n",
      "f1  0.25437948388639675\n"
     ]
    },
    {
     "data": {
      "image/png": "[encoded data removed]",
      "text/plain": [
       "<Figure size 576x432 with 2 Axes>"
      ]
     },
     "metadata": {
      "needs_background": "light"
     },
     "output_type": "display_data"
    }
   ],
   "source": [
    "plot_cm(dumb)"
   ]
  },
  {
   "cell_type": "code",
   "execution_count": 66,
   "id": "7d2694f7",
   "metadata": {},
   "outputs": [
    {
     "name": "stdout",
     "output_type": "stream",
     "text": [
      "Recall  0.4258572752548656\n",
      "Precision  0.1813544188874984\n",
      "AUC-ROC-Score  0.5\n"
     ]
    }
   ],
   "source": [
    "ez_mets(dumb)"
   ]
  },
  {
   "cell_type": "markdown",
   "id": "de416f49",
   "metadata": {},
   "source": [
    "Now we will look at different classifiers and how they perform on our test data. For now, we will not tune any hyperparameters (leave them on default settings). "
   ]
  },
  {
   "cell_type": "markdown",
   "id": "009890c0",
   "metadata": {},
   "source": [
    "## First try : Logistic Regression"
   ]
  },
  {
   "cell_type": "code",
   "execution_count": 89,
   "id": "a5e50955",
   "metadata": {},
   "outputs": [
    {
     "data": {
      "text/plain": [
       "LogisticRegression()"
      ]
     },
     "execution_count": 89,
     "metadata": {},
     "output_type": "execute_result"
    }
   ],
   "source": [
    "from sklearn.linear_model import LogisticRegression\n",
    "lr = LogisticRegression()\n",
    "lr.fit(X_train,y_train)"
   ]
  },
  {
   "cell_type": "code",
   "execution_count": 90,
   "id": "48d88c61",
   "metadata": {
    "scrolled": false
   },
   "outputs": [
    {
     "data": {
      "text/plain": [
       "(4316, 13)"
      ]
     },
     "execution_count": 90,
     "metadata": {},
     "output_type": "execute_result"
    }
   ],
   "source": [
    "X_test.shape"
   ]
  },
  {
   "cell_type": "code",
   "execution_count": 91,
   "id": "4de7a843",
   "metadata": {
    "scrolled": true
   },
   "outputs": [
    {
     "data": {
      "text/plain": [
       "0.42539388322520855"
      ]
     },
     "execution_count": 91,
     "metadata": {},
     "output_type": "execute_result"
    }
   ],
   "source": [
    "y_pred = lr.predict(X_test)\n",
    "lr.score(X_test, y_test.reshape(-1,1))"
   ]
  },
  {
   "cell_type": "code",
   "execution_count": 92,
   "id": "8d443cd8",
   "metadata": {},
   "outputs": [
    {
     "data": {
      "text/plain": [
       "(4316,)"
      ]
     },
     "execution_count": 92,
     "metadata": {},
     "output_type": "execute_result"
    }
   ],
   "source": [
    "y_pred.shape"
   ]
  },
  {
   "cell_type": "code",
   "execution_count": 93,
   "id": "25665635",
   "metadata": {},
   "outputs": [
    {
     "data": {
      "text/plain": [
       "0.42539388322520855"
      ]
     },
     "execution_count": 93,
     "metadata": {},
     "output_type": "execute_result"
    }
   ],
   "source": [
    "accuracy_score(y_pred, y_test)"
   ]
  },
  {
   "cell_type": "code",
   "execution_count": 118,
   "id": "a5b199f0",
   "metadata": {},
   "outputs": [
    {
     "name": "stdout",
     "output_type": "stream",
     "text": [
      "accuracy  0.42539388322520855\n",
      "f1  0.28117268326171374\n"
     ]
    },
    {
     "data": {
      "image/png": "[encoded data removed]",
      "text/plain": [
       "<Figure size 576x432 with 2 Axes>"
      ]
     },
     "metadata": {
      "needs_background": "light"
     },
     "output_type": "display_data"
    }
   ],
   "source": [
    "plot_cm(lr)"
   ]
  },
  {
   "cell_type": "code",
   "execution_count": 95,
   "id": "aff3ebbd",
   "metadata": {},
   "outputs": [
    {
     "name": "stdout",
     "output_type": "stream",
     "text": [
      "Recall  0.42539388322520855\n",
      "Precision  0.2823924891502984\n",
      "AUC-ROC-Score  0.6859116827482351\n"
     ]
    }
   ],
   "source": [
    "ez_mets(lr)"
   ]
  },
  {
   "cell_type": "markdown",
   "id": "faeb9af6",
   "metadata": {},
   "source": [
    "## Second try : Decision Tree Classifier"
   ]
  },
  {
   "cell_type": "code",
   "execution_count": 79,
   "id": "6ca218a7",
   "metadata": {},
   "outputs": [],
   "source": [
    "from sklearn.tree import DecisionTreeClassifier"
   ]
  },
  {
   "cell_type": "code",
   "execution_count": 80,
   "id": "ee941e76",
   "metadata": {},
   "outputs": [],
   "source": [
    "dt = DecisionTreeClassifier()"
   ]
  },
  {
   "cell_type": "code",
   "execution_count": 81,
   "id": "25716bb9",
   "metadata": {},
   "outputs": [
    {
     "data": {
      "text/plain": [
       "DecisionTreeClassifier()"
      ]
     },
     "execution_count": 81,
     "metadata": {},
     "output_type": "execute_result"
    }
   ],
   "source": [
    "dt.fit(X_train,y_train)"
   ]
  },
  {
   "cell_type": "code",
   "execution_count": 119,
   "id": "487c67c5",
   "metadata": {},
   "outputs": [
    {
     "name": "stdout",
     "output_type": "stream",
     "text": [
      "accuracy  0.3218257645968489\n",
      "f1  0.32045665145232505\n"
     ]
    },
    {
     "data": {
      "image/png": "[encoded data removed]",
      "text/plain": [
       "<Figure size 576x432 with 2 Axes>"
      ]
     },
     "metadata": {
      "needs_background": "light"
     },
     "output_type": "display_data"
    }
   ],
   "source": [
    "plot_cm(dt)"
   ]
  },
  {
   "cell_type": "code",
   "execution_count": 83,
   "id": "319e095d",
   "metadata": {},
   "outputs": [
    {
     "name": "stdout",
     "output_type": "stream",
     "text": [
      "Recall  0.3218257645968489\n",
      "Precision  0.3199956637129365\n",
      "AUC-ROC-Score  0.5460151692075723\n"
     ]
    }
   ],
   "source": [
    "ez_mets(dt)"
   ]
  },
  {
   "cell_type": "markdown",
   "id": "6cd4a223",
   "metadata": {},
   "source": [
    "## Third try: Random Forest Classifier"
   ]
  },
  {
   "cell_type": "code",
   "execution_count": 74,
   "id": "fb015f28",
   "metadata": {},
   "outputs": [],
   "source": [
    "from sklearn.ensemble import RandomForestClassifier\n",
    "rf = RandomForestClassifier()"
   ]
  },
  {
   "cell_type": "code",
   "execution_count": 75,
   "id": "561b4dc4",
   "metadata": {},
   "outputs": [
    {
     "data": {
      "text/plain": [
       "RandomForestClassifier()"
      ]
     },
     "execution_count": 75,
     "metadata": {},
     "output_type": "execute_result"
    }
   ],
   "source": [
    "rf.fit(X_train,y_train)"
   ]
  },
  {
   "cell_type": "code",
   "execution_count": 120,
   "id": "d11cf7f1",
   "metadata": {},
   "outputs": [
    {
     "name": "stdout",
     "output_type": "stream",
     "text": [
      "accuracy  0.3588971269694161\n",
      "f1  0.3317649152536205\n"
     ]
    },
    {
     "data": {
      "image/png": "[encoded data removed]",
      "text/plain": [
       "<Figure size 576x432 with 2 Axes>"
      ]
     },
     "metadata": {
      "needs_background": "light"
     },
     "output_type": "display_data"
    }
   ],
   "source": [
    "plot_cm(rf)"
   ]
  },
  {
   "cell_type": "code",
   "execution_count": 77,
   "id": "17a8f23b",
   "metadata": {},
   "outputs": [
    {
     "name": "stdout",
     "output_type": "stream",
     "text": [
      "Recall  0.3588971269694161\n",
      "Precision  0.31839748757656144\n",
      "AUC-ROC-Score  0.6565867498111926\n"
     ]
    }
   ],
   "source": [
    "ez_mets(rf)"
   ]
  },
  {
   "cell_type": "markdown",
   "id": "3480e999",
   "metadata": {},
   "source": [
    "The 3 models on default parameter settings have fairly similar accuracy scores, however their confusion matrix shows that they arrived at that score differently. The Logistic Regression model arrived at a score very similar to that of the dummy classifier (set to predict the most_common label), by overwhelmingly predicting the most common label. The dt and rf models both showed a much more balanced set of predictions but with lower accuracy scores."
   ]
  },
  {
   "cell_type": "markdown",
   "id": "6f44b42d",
   "metadata": {},
   "source": [
    "## Model 4 Gradient Boosting Classifier"
   ]
  },
  {
   "cell_type": "code",
   "execution_count": 84,
   "id": "cf999038",
   "metadata": {},
   "outputs": [],
   "source": [
    "from sklearn.ensemble import GradientBoostingClassifier\n",
    "gb = GradientBoostingClassifier()\n"
   ]
  },
  {
   "cell_type": "code",
   "execution_count": 85,
   "id": "86d47e35",
   "metadata": {},
   "outputs": [
    {
     "data": {
      "text/plain": [
       "GradientBoostingClassifier()"
      ]
     },
     "execution_count": 85,
     "metadata": {},
     "output_type": "execute_result"
    }
   ],
   "source": [
    "gb.fit(X_train,y_train)"
   ]
  },
  {
   "cell_type": "code",
   "execution_count": 121,
   "id": "e4528254",
   "metadata": {},
   "outputs": [
    {
     "name": "stdout",
     "output_type": "stream",
     "text": [
      "accuracy  0.43234476367006486\n",
      "f1  0.30868828698915424\n"
     ]
    },
    {
     "data": {
      "image/png": "[encoded data removed]",
      "text/plain": [
       "<Figure size 576x432 with 2 Axes>"
      ]
     },
     "metadata": {
      "needs_background": "light"
     },
     "output_type": "display_data"
    }
   ],
   "source": [
    "plot_cm(gb)"
   ]
  },
  {
   "cell_type": "code",
   "execution_count": 87,
   "id": "8d475397",
   "metadata": {},
   "outputs": [
    {
     "name": "stdout",
     "output_type": "stream",
     "text": [
      "Recall  0.43234476367006486\n",
      "Precision  0.3527865677239461\n",
      "AUC-ROC-Score  0.7256355165277716\n"
     ]
    }
   ],
   "source": [
    "ez_mets(gb)"
   ]
  },
  {
   "cell_type": "markdown",
   "id": "6deac1d0",
   "metadata": {},
   "source": [
    "Out of the box, the gradient boosting classifier seems to show the most promise out of the 4 non dummy classifiers we tried. The decision tree and random forest both were more \"ambitious\" with their predictions, having a much more diverse, if less accurate prediction set.\n",
    "\n",
    "The F1 scores were better on the decision tree and random forest models.\n",
    "The logistic regression and gradient boosting models both predicted the four seam fastball an overwhelming majority of the time. \n",
    "\n",
    "It would be interesting to see if the end result distribution should be a concern....\n",
    "\n",
    "I.e. would we rather have a model that has a better pitch by pitch accuracy but has a distribution very unrepresentative of the target distribution (i.e. the dummie classifier predicting fourseam fb 100% of the time) Or, a model that has lower pitch by pitch accuracy, but gets the distribution closer. "
   ]
  },
  {
   "cell_type": "markdown",
   "id": "b8d6ad7d",
   "metadata": {},
   "source": [
    "Now we want to work on improving our predictions. \n",
    "\n",
    "From here, we can look to improve our model in a couple different ways. We could start experimenting with the hyperparameters of the models, or we could try to go back to our data and either use sampling methods (SMOTE, etc) to train our model on a more evenly distributed set of data, or add data from the original pitch csv files (recall that we started with ~2,500,000 rows, and are now only working with 21,580). "
   ]
  },
  {
   "cell_type": "markdown",
   "id": "3a8a8b33",
   "metadata": {},
   "source": [
    "# SMOTE"
   ]
  },
  {
   "cell_type": "code",
   "execution_count": 111,
   "id": "cab4cd05",
   "metadata": {},
   "outputs": [],
   "source": [
    "from imblearn.over_sampling import SMOTE\n",
    "from collections import Counter\n",
    "from imblearn.under_sampling import RandomUnderSampler"
   ]
  },
  {
   "cell_type": "code",
   "execution_count": 39,
   "id": "169a8fc6",
   "metadata": {},
   "outputs": [],
   "source": [
    "y = pd.read_csv(filepath + 'y_pre.csv')"
   ]
  },
  {
   "cell_type": "code",
   "execution_count": 88,
   "id": "6f114b95",
   "metadata": {},
   "outputs": [
    {
     "data": {
      "text/plain": [
       "pitch_type\n",
       "FF            9201\n",
       "SL            3637\n",
       "CH            2667\n",
       "FT            2635\n",
       "CU            2282\n",
       "FC             814\n",
       "SI             344\n",
       "dtype: int64"
      ]
     },
     "execution_count": 88,
     "metadata": {},
     "output_type": "execute_result"
    }
   ],
   "source": [
    "y.value_counts()"
   ]
  },
  {
   "cell_type": "code",
   "execution_count": 90,
   "id": "0e937753",
   "metadata": {},
   "outputs": [],
   "source": [
    "oversample = SMOTE()\n",
    "X_tr, y_tr = oversample.fit_resample(X_train, y_train)"
   ]
  },
  {
   "cell_type": "code",
   "execution_count": 108,
   "id": "e0f04811",
   "metadata": {},
   "outputs": [
    {
     "data": {
      "text/plain": [
       "Counter({6: 2927, 3: 7363, 0: 2112, 1: 1822, 2: 648, 4: 2121, 5: 271})"
      ]
     },
     "execution_count": 108,
     "metadata": {},
     "output_type": "execute_result"
    }
   ],
   "source": [
    "Counter(y_train)"
   ]
  },
  {
   "cell_type": "code",
   "execution_count": 109,
   "id": "7335024d",
   "metadata": {},
   "outputs": [
    {
     "data": {
      "text/plain": [
       "Counter({6: 7363, 3: 7363, 0: 7363, 1: 7363, 2: 7363, 4: 7363, 5: 7363})"
      ]
     },
     "execution_count": 109,
     "metadata": {},
     "output_type": "execute_result"
    }
   ],
   "source": [
    "Counter(y_tr)"
   ]
  },
  {
   "cell_type": "code",
   "execution_count": 95,
   "id": "ed7220f0",
   "metadata": {},
   "outputs": [
    {
     "data": {
      "text/plain": [
       "LogisticRegression(multi_class='ovr')"
      ]
     },
     "execution_count": 95,
     "metadata": {},
     "output_type": "execute_result"
    }
   ],
   "source": [
    "lr.fit(X_tr, y_tr)"
   ]
  },
  {
   "cell_type": "code",
   "execution_count": 96,
   "id": "76a79fc0",
   "metadata": {},
   "outputs": [
    {
     "data": {
      "text/plain": [
       "0.24559777571825764"
      ]
     },
     "execution_count": 96,
     "metadata": {},
     "output_type": "execute_result"
    }
   ],
   "source": [
    "lr.score(X_test, y_test)"
   ]
  },
  {
   "cell_type": "code",
   "execution_count": 98,
   "id": "e9957e4d",
   "metadata": {},
   "outputs": [],
   "source": [
    "steps = [('over', SMOTE()), ('model', DecisionTreeClassifier())]\n",
    "pipeline = Pipeline(steps=steps)"
   ]
  },
  {
   "cell_type": "markdown",
   "id": "188f32fd",
   "metadata": {},
   "source": [
    "# Begin Hyperparameter tuning here"
   ]
  },
  {
   "cell_type": "markdown",
   "id": "81468f6a",
   "metadata": {},
   "source": [
    "Good resource I think\n",
    "https://stackoverflow.com/questions/58781601/parameter-tuning-using-gridsearchcv-for-gradientboosting-classifier-in-python"
   ]
  },
  {
   "cell_type": "code",
   "execution_count": 123,
   "id": "83fc912e",
   "metadata": {},
   "outputs": [],
   "source": [
    "from sklearn.model_selection import RandomizedSearchCV"
   ]
  },
  {
   "cell_type": "code",
   "execution_count": null,
   "id": "b4288715",
   "metadata": {},
   "outputs": [],
   "source": [
    "#whoops this is for rf\n",
    "dpts = np.arange(3,25,3)\n",
    "n_estimators = [50,100,200]\n",
    "#my_grid = {'n_estimators': n_estimators,\n",
    "#           'max_features': max_features,\n",
    "#           'min_samples_split': min_samples_split,\n",
    "#           'min_samples_leaf': min_samples_leaf,\n",
    "#           'bootstrap': bootstrap}\n",
    "grid_gb = {'max_depth':dpts, 'n_estimators' : n_estimators}\n",
    "gb = GradientBoostingClassifier()\n",
    "CV_gb = RandomizedSearchCV(estimator=gb, param_distributions=grid_gb, cv= 5, n_jobs = -2 , verbose = -2)\n",
    "CV_gb.fit(X_train, y_train)\n",
    "print(CV_gb.best_params_)\n",
    "#print(CV_rf.cv_results_)"
   ]
  },
  {
   "cell_type": "code",
   "execution_count": 126,
   "id": "4aa4e003",
   "metadata": {},
   "outputs": [
    {
     "data": {
      "text/plain": [
       "{'n_estimators': 100, 'max_depth': 3}"
      ]
     },
     "execution_count": 126,
     "metadata": {},
     "output_type": "execute_result"
    }
   ],
   "source": [
    "CV_gb.best_params_"
   ]
  },
  {
   "cell_type": "code",
   "execution_count": 125,
   "id": "0ec45500",
   "metadata": {},
   "outputs": [
    {
     "data": {
      "text/plain": [
       "{'mean_fit_time': array([  8.79874253,  84.7796699 , 145.42477322, 587.65584474,\n",
       "        158.55808744, 341.22880535, 103.6721065 ,   7.87765207,\n",
       "        408.18654132, 262.41859016]),\n",
       " 'std_fit_time': array([0.10766535, 0.45716469, 0.5802147 , 1.01606521, 0.39881838,\n",
       "        0.6374571 , 0.67630525, 0.06548966, 1.61202224, 1.37560757]),\n",
       " 'mean_score_time': array([0.04022932, 0.26230516, 0.27778831, 6.2521924 , 0.28309274,\n",
       "        0.72308817, 0.19576974, 0.04623156, 0.68445096, 0.44496369]),\n",
       " 'std_score_time': array([9.00567147e-04, 1.24704161e-02, 2.65394591e-02, 1.56395465e+00,\n",
       "        8.27262706e-03, 6.15304310e-02, 1.23167593e-03, 3.10569792e-03,\n",
       "        1.28557622e-02, 1.91476374e-02]),\n",
       " 'param_n_estimators': masked_array(data=[100, 100, 50, 200, 50, 100, 50, 50, 200, 100],\n",
       "              mask=[False, False, False, False, False, False, False, False,\n",
       "                    False, False],\n",
       "        fill_value='?',\n",
       "             dtype=object),\n",
       " 'param_max_depth': masked_array(data=[3, 12, 18, 24, 24, 21, 15, 6, 15, 24],\n",
       "              mask=[False, False, False, False, False, False, False, False,\n",
       "                    False, False],\n",
       "        fill_value='?',\n",
       "             dtype=object),\n",
       " 'params': [{'n_estimators': 100, 'max_depth': 3},\n",
       "  {'n_estimators': 100, 'max_depth': 12},\n",
       "  {'n_estimators': 50, 'max_depth': 18},\n",
       "  {'n_estimators': 200, 'max_depth': 24},\n",
       "  {'n_estimators': 50, 'max_depth': 24},\n",
       "  {'n_estimators': 100, 'max_depth': 21},\n",
       "  {'n_estimators': 50, 'max_depth': 15},\n",
       "  {'n_estimators': 50, 'max_depth': 6},\n",
       "  {'n_estimators': 200, 'max_depth': 15},\n",
       "  {'n_estimators': 100, 'max_depth': 24}],\n",
       " 'split0_test_score': array([0.43121923, 0.36982334, 0.37561541, 0.36026643, 0.37590501,\n",
       "        0.36258326, 0.37416739, 0.43324645, 0.3567912 , 0.3663481 ]),\n",
       " 'split1_test_score': array([0.43411526, 0.37938025, 0.37271937, 0.36084564, 0.37619461,\n",
       "        0.36200405, 0.36779612, 0.43092963, 0.35563278, 0.36837533]),\n",
       " 'split2_test_score': array([0.43121923, 0.35302635, 0.3567912 , 0.34665508, 0.3570808 ,\n",
       "        0.34491746, 0.34173183, 0.42455836, 0.34202143, 0.34955111]),\n",
       " 'split3_test_score': array([0.43035042, 0.37851144, 0.36924414, 0.34926151, 0.3657689 ,\n",
       "        0.35302635, 0.36663771, 0.42600637, 0.36258326, 0.35592239]),\n",
       " 'split4_test_score': array([0.43337196, 0.37050985, 0.36442642, 0.35631518, 0.37079954,\n",
       "        0.35892236, 0.36297798, 0.43337196, 0.35312862, 0.36529548]),\n",
       " 'mean_test_score': array([0.43205522, 0.37025025, 0.36775931, 0.35466877, 0.36914977,\n",
       "        0.3562907 , 0.36266221, 0.42962255, 0.35403146, 0.36109848]),\n",
       " 'std_test_score': array([0.00143399, 0.00947118, 0.00663224, 0.00575597, 0.00714248,\n",
       "        0.00662074, 0.01106988, 0.00367755, 0.00675825, 0.00718692]),\n",
       " 'rank_test_score': array([ 1,  3,  5,  9,  4,  8,  6,  2, 10,  7])}"
      ]
     },
     "execution_count": 125,
     "metadata": {},
     "output_type": "execute_result"
    }
   ],
   "source": [
    "CV_gb.cv_results_"
   ]
  },
  {
   "cell_type": "code",
   "execution_count": 127,
   "id": "8f930dbc",
   "metadata": {},
   "outputs": [
    {
     "name": "stdout",
     "output_type": "stream",
     "text": [
      "accuracy  0.43234476367006486\n",
      "f1  0.30868828698915424\n"
     ]
    },
    {
     "data": {
      "image/png": "[encoded data removed]",
      "text/plain": [
       "<Figure size 576x432 with 2 Axes>"
      ]
     },
     "metadata": {
      "needs_background": "light"
     },
     "output_type": "display_data"
    }
   ],
   "source": [
    "plot_cm(CV_gb)"
   ]
  },
  {
   "cell_type": "code",
   "execution_count": 128,
   "id": "1b20ea9c",
   "metadata": {},
   "outputs": [
    {
     "name": "stdout",
     "output_type": "stream",
     "text": [
      "Recall  0.43234476367006486\n",
      "Precision  0.3527865677239461\n",
      "AUC-ROC-Score  0.7256356281235805\n"
     ]
    }
   ],
   "source": [
    "ez_mets(CV_gb)"
   ]
  },
  {
   "cell_type": "code",
   "execution_count": 129,
   "id": "6f190c72",
   "metadata": {},
   "outputs": [],
   "source": [
    "#from stackoverflowlink\n",
    "#https://stackoverflow.com/questions/58781601/parameter-tuning-using-gridsearchcv-for-gradientboosting-classifier-in-python\n",
    "parameters = {\n",
    "    \"loss\":[\"deviance\", \"exponential\"],\n",
    "    \"learning_rate\": [0.01, 0.025, 0.05, 0.075, 0.1, 0.15, 0.2],\n",
    "    \"min_samples_split\": np.linspace(0.1, 0.5, 4),\n",
    "    \"min_samples_leaf\": np.linspace(0.1, 0.5, 4),\n",
    "    \"max_depth\":[3,5,8],\n",
    "    \"max_features\":[\"log2\",\"sqrt\"],\n",
    "    \"criterion\": [\"friedman_mse\",  \"mae\"],\n",
    "    \"subsample\":[0.5, 0.7, 0.85, 1.0],\n",
    "    \"n_estimators\":[10,40,80,120]\n",
    "    }"
   ]
  },
  {
   "cell_type": "code",
   "execution_count": 130,
   "id": "ac9e8f72",
   "metadata": {},
   "outputs": [
    {
     "name": "stdout",
     "output_type": "stream",
     "text": [
      "Fitting 5 folds for each of 25 candidates, totalling 125 fits\n"
     ]
    },
    {
     "name": "stderr",
     "output_type": "stream",
     "text": [
      "C:\\Users\\alber\\anaconda3\\lib\\site-packages\\sklearn\\model_selection\\_search.py:918: UserWarning: One or more of the test scores are non-finite: [0.42649445 0.42713151        nan        nan 0.42655237        nan\n",
      " 0.42649445 0.42649445 0.42649445 0.42649445        nan 0.42649445\n",
      " 0.42678411        nan        nan 0.42649445        nan 0.42649445\n",
      " 0.42649445        nan 0.42649445 0.42753709        nan        nan\n",
      " 0.42649445]\n",
      "  warnings.warn(\n",
      "C:\\Users\\alber\\anaconda3\\lib\\site-packages\\sklearn\\ensemble\\_gb.py:1118: FutureWarning: criterion='mae' was deprecated in version 0.24 and will be removed in version 1.1 (renaming of 0.26). Use criterion='friedman_mse' or 'mse' instead, as trees should use a least-square criterion in Gradient Boosting.\n",
      "  warnings.warn(\"criterion='mae' was deprecated in version 0.24 and \"\n"
     ]
    },
    {
     "name": "stdout",
     "output_type": "stream",
     "text": [
      "{'subsample': 0.85, 'n_estimators': 40, 'min_samples_split': 0.1, 'min_samples_leaf': 0.1, 'max_features': 'sqrt', 'max_depth': 5, 'loss': 'deviance', 'learning_rate': 0.15, 'criterion': 'mae'}\n"
     ]
    }
   ],
   "source": [
    "\n",
    "dpts = np.arange(3,25,3)\n",
    "n_estimators = [50,100,200]\n",
    "#my_grid = {'n_estimators': n_estimators,\n",
    "#           'max_features': max_features,\n",
    "#           'min_samples_split': min_samples_split,\n",
    "#           'min_samples_leaf': min_samples_leaf,\n",
    "#           'bootstrap': bootstrap}\n",
    "grid_gb2 = {'max_depth':dpts, 'n_estimators' : n_estimators}\n",
    "parameters = {\n",
    "    \"loss\":[\"deviance\", \"exponential\"],\n",
    "    \"learning_rate\": [0.01, 0.025, 0.05, 0.075, 0.1, 0.15, 0.2],\n",
    "    \"min_samples_split\": np.linspace(0.1, 0.5, 4),\n",
    "    \"min_samples_leaf\": np.linspace(0.1, 0.5, 4),\n",
    "    \"max_depth\":[3,5,8],\n",
    "    \"max_features\":[\"log2\",\"sqrt\"],\n",
    "    \"criterion\": [\"friedman_mse\",  \"mae\"],\n",
    "    \"subsample\":[0.5, 0.7, 0.85, 1.0],\n",
    "    \"n_estimators\":[10,40,80,120]\n",
    "    }\n",
    "gb2 = GradientBoostingClassifier()\n",
    "CV_gb2 = RandomizedSearchCV(estimator=gb2, param_distributions=parameters, cv= 5, n_jobs = -2 , verbose = 2, n_iter = 25)\n",
    "CV_gb2.fit(X_train, y_train)\n",
    "print(CV_gb2.best_params_)\n",
    "#print(CV_rf.cv_results_)"
   ]
  },
  {
   "cell_type": "code",
   "execution_count": 133,
   "id": "2de8e935",
   "metadata": {},
   "outputs": [
    {
     "data": {
      "text/plain": [
       "{'mean_fit_time': array([3.82456751e+00, 8.06214023e+00, 8.55445862e-03, 3.96523476e-03,\n",
       "        5.61343861e+00, 8.74543190e-03, 7.44415760e-01, 2.19490972e+00,\n",
       "        9.82317638e-01, 1.47693459e+02, 5.95340729e-03, 1.74851971e+00,\n",
       "        1.27894948e+02, 3.91588211e-03, 3.59630585e-03, 4.30040698e+00,\n",
       "        3.80606651e-03, 1.20503678e+00, 3.62807035e-01, 2.90074348e-03,\n",
       "        2.70195293e-01, 2.23500045e+02, 3.22790146e-03, 2.83145905e-03,\n",
       "        2.54258804e+00]),\n",
       " 'std_fit_time': array([2.48193988e-02, 3.99430057e-02, 2.54620448e-03, 6.18131764e-04,\n",
       "        3.16493235e-02, 1.45162355e-03, 8.09349212e-03, 5.59546922e-02,\n",
       "        2.22326675e-02, 1.57413254e+00, 1.27268875e-03, 1.80169700e-02,\n",
       "        2.64704777e+00, 1.43325622e-03, 8.50656321e-04, 7.10941126e-02,\n",
       "        1.20005311e-03, 3.05488406e-02, 9.02405594e-03, 1.78050995e-04,\n",
       "        1.55933399e-02, 1.37099819e+00, 2.52687857e-04, 2.54032462e-04,\n",
       "        1.00796056e-01]),\n",
       " 'mean_score_time': array([0.00580678, 0.04292021, 0.        , 0.        , 0.0285398 ,\n",
       "        0.        , 0.00759931, 0.00541267, 0.00504699, 0.007798  ,\n",
       "        0.        , 0.00708652, 0.01939292, 0.        , 0.        ,\n",
       "        0.02184148, 0.        , 0.00461216, 0.00441952, 0.        ,\n",
       "        0.00332198, 0.01568737, 0.        , 0.        , 0.00577168]),\n",
       " 'std_score_time': array([0.00044813, 0.00163913, 0.        , 0.        , 0.00292785,\n",
       "        0.        , 0.00057114, 0.00071433, 0.00062155, 0.00120763,\n",
       "        0.        , 0.00037081, 0.00053785, 0.        , 0.        ,\n",
       "        0.00145372, 0.        , 0.0005117 , 0.0007752 , 0.        ,\n",
       "        0.00039685, 0.00043196, 0.        , 0.        , 0.0011939 ]),\n",
       " 'param_subsample': masked_array(data=[0.5, 0.5, 1.0, 0.85, 0.5, 0.7, 0.85, 0.7, 0.5, 1.0,\n",
       "                    0.5, 0.5, 0.5, 0.7, 1.0, 0.85, 0.85, 0.5, 0.5, 0.5,\n",
       "                    1.0, 0.85, 1.0, 0.7, 0.7],\n",
       "              mask=[False, False, False, False, False, False, False, False,\n",
       "                    False, False, False, False, False, False, False, False,\n",
       "                    False, False, False, False, False, False, False, False,\n",
       "                    False],\n",
       "        fill_value='?',\n",
       "             dtype=object),\n",
       " 'param_n_estimators': masked_array(data=[40, 120, 40, 80, 80, 80, 10, 40, 10, 40, 120, 40, 80,\n",
       "                    80, 40, 120, 120, 40, 10, 80, 10, 40, 80, 120, 80],\n",
       "              mask=[False, False, False, False, False, False, False, False,\n",
       "                    False, False, False, False, False, False, False, False,\n",
       "                    False, False, False, False, False, False, False, False,\n",
       "                    False],\n",
       "        fill_value='?',\n",
       "             dtype=object),\n",
       " 'param_min_samples_split': masked_array(data=[0.1, 0.1, 0.3666666666666667, 0.1, 0.23333333333333334,\n",
       "                    0.5, 0.3666666666666667, 0.23333333333333334, 0.5, 0.5,\n",
       "                    0.23333333333333334, 0.1, 0.3666666666666667, 0.1,\n",
       "                    0.3666666666666667, 0.1, 0.1, 0.5, 0.3666666666666667,\n",
       "                    0.5, 0.23333333333333334, 0.1, 0.1, 0.1,\n",
       "                    0.23333333333333334],\n",
       "              mask=[False, False, False, False, False, False, False, False,\n",
       "                    False, False, False, False, False, False, False, False,\n",
       "                    False, False, False, False, False, False, False, False,\n",
       "                    False],\n",
       "        fill_value='?',\n",
       "             dtype=object),\n",
       " 'param_min_samples_leaf': masked_array(data=[0.5, 0.1, 0.5, 0.23333333333333334, 0.1,\n",
       "                    0.23333333333333334, 0.23333333333333334,\n",
       "                    0.3666666666666667, 0.3666666666666667,\n",
       "                    0.3666666666666667, 0.3666666666666667,\n",
       "                    0.23333333333333334, 0.1, 0.3666666666666667, 0.5,\n",
       "                    0.3666666666666667, 0.5, 0.5, 0.1, 0.23333333333333334,\n",
       "                    0.5, 0.1, 0.1, 0.1, 0.3666666666666667],\n",
       "              mask=[False, False, False, False, False, False, False, False,\n",
       "                    False, False, False, False, False, False, False, False,\n",
       "                    False, False, False, False, False, False, False, False,\n",
       "                    False],\n",
       "        fill_value='?',\n",
       "             dtype=object),\n",
       " 'param_max_features': masked_array(data=['log2', 'sqrt', 'sqrt', 'sqrt', 'log2', 'sqrt', 'sqrt',\n",
       "                    'sqrt', 'sqrt', 'log2', 'sqrt', 'log2', 'log2', 'log2',\n",
       "                    'sqrt', 'sqrt', 'log2', 'sqrt', 'log2', 'log2', 'log2',\n",
       "                    'sqrt', 'sqrt', 'sqrt', 'log2'],\n",
       "              mask=[False, False, False, False, False, False, False, False,\n",
       "                    False, False, False, False, False, False, False, False,\n",
       "                    False, False, False, False, False, False, False, False,\n",
       "                    False],\n",
       "        fill_value='?',\n",
       "             dtype=object),\n",
       " 'param_max_depth': masked_array(data=[5, 3, 8, 8, 8, 5, 5, 5, 5, 3, 5, 3, 5, 8, 5, 5, 3, 5,\n",
       "                    8, 8, 3, 5, 8, 3, 5],\n",
       "              mask=[False, False, False, False, False, False, False, False,\n",
       "                    False, False, False, False, False, False, False, False,\n",
       "                    False, False, False, False, False, False, False, False,\n",
       "                    False],\n",
       "        fill_value='?',\n",
       "             dtype=object),\n",
       " 'param_loss': masked_array(data=['deviance', 'deviance', 'exponential', 'exponential',\n",
       "                    'deviance', 'exponential', 'deviance', 'deviance',\n",
       "                    'deviance', 'deviance', 'exponential', 'deviance',\n",
       "                    'deviance', 'exponential', 'exponential', 'deviance',\n",
       "                    'exponential', 'deviance', 'deviance', 'exponential',\n",
       "                    'deviance', 'deviance', 'exponential', 'exponential',\n",
       "                    'deviance'],\n",
       "              mask=[False, False, False, False, False, False, False, False,\n",
       "                    False, False, False, False, False, False, False, False,\n",
       "                    False, False, False, False, False, False, False, False,\n",
       "                    False],\n",
       "        fill_value='?',\n",
       "             dtype=object),\n",
       " 'param_learning_rate': masked_array(data=[0.2, 0.075, 0.15, 0.01, 0.05, 0.025, 0.075, 0.05, 0.1,\n",
       "                    0.01, 0.075, 0.15, 0.2, 0.1, 0.05, 0.05, 0.2, 0.2,\n",
       "                    0.025, 0.2, 0.15, 0.15, 0.15, 0.01, 0.01],\n",
       "              mask=[False, False, False, False, False, False, False, False,\n",
       "                    False, False, False, False, False, False, False, False,\n",
       "                    False, False, False, False, False, False, False, False,\n",
       "                    False],\n",
       "        fill_value='?',\n",
       "             dtype=object),\n",
       " 'param_criterion': masked_array(data=['mae', 'friedman_mse', 'mae', 'friedman_mse',\n",
       "                    'friedman_mse', 'mae', 'friedman_mse', 'friedman_mse',\n",
       "                    'mae', 'mae', 'mae', 'friedman_mse', 'mae', 'mae',\n",
       "                    'mae', 'friedman_mse', 'mae', 'friedman_mse',\n",
       "                    'friedman_mse', 'mae', 'friedman_mse', 'mae',\n",
       "                    'friedman_mse', 'friedman_mse', 'friedman_mse'],\n",
       "              mask=[False, False, False, False, False, False, False, False,\n",
       "                    False, False, False, False, False, False, False, False,\n",
       "                    False, False, False, False, False, False, False, False,\n",
       "                    False],\n",
       "        fill_value='?',\n",
       "             dtype=object),\n",
       " 'params': [{'subsample': 0.5,\n",
       "   'n_estimators': 40,\n",
       "   'min_samples_split': 0.1,\n",
       "   'min_samples_leaf': 0.5,\n",
       "   'max_features': 'log2',\n",
       "   'max_depth': 5,\n",
       "   'loss': 'deviance',\n",
       "   'learning_rate': 0.2,\n",
       "   'criterion': 'mae'},\n",
       "  {'subsample': 0.5,\n",
       "   'n_estimators': 120,\n",
       "   'min_samples_split': 0.1,\n",
       "   'min_samples_leaf': 0.1,\n",
       "   'max_features': 'sqrt',\n",
       "   'max_depth': 3,\n",
       "   'loss': 'deviance',\n",
       "   'learning_rate': 0.075,\n",
       "   'criterion': 'friedman_mse'},\n",
       "  {'subsample': 1.0,\n",
       "   'n_estimators': 40,\n",
       "   'min_samples_split': 0.3666666666666667,\n",
       "   'min_samples_leaf': 0.5,\n",
       "   'max_features': 'sqrt',\n",
       "   'max_depth': 8,\n",
       "   'loss': 'exponential',\n",
       "   'learning_rate': 0.15,\n",
       "   'criterion': 'mae'},\n",
       "  {'subsample': 0.85,\n",
       "   'n_estimators': 80,\n",
       "   'min_samples_split': 0.1,\n",
       "   'min_samples_leaf': 0.23333333333333334,\n",
       "   'max_features': 'sqrt',\n",
       "   'max_depth': 8,\n",
       "   'loss': 'exponential',\n",
       "   'learning_rate': 0.01,\n",
       "   'criterion': 'friedman_mse'},\n",
       "  {'subsample': 0.5,\n",
       "   'n_estimators': 80,\n",
       "   'min_samples_split': 0.23333333333333334,\n",
       "   'min_samples_leaf': 0.1,\n",
       "   'max_features': 'log2',\n",
       "   'max_depth': 8,\n",
       "   'loss': 'deviance',\n",
       "   'learning_rate': 0.05,\n",
       "   'criterion': 'friedman_mse'},\n",
       "  {'subsample': 0.7,\n",
       "   'n_estimators': 80,\n",
       "   'min_samples_split': 0.5,\n",
       "   'min_samples_leaf': 0.23333333333333334,\n",
       "   'max_features': 'sqrt',\n",
       "   'max_depth': 5,\n",
       "   'loss': 'exponential',\n",
       "   'learning_rate': 0.025,\n",
       "   'criterion': 'mae'},\n",
       "  {'subsample': 0.85,\n",
       "   'n_estimators': 10,\n",
       "   'min_samples_split': 0.3666666666666667,\n",
       "   'min_samples_leaf': 0.23333333333333334,\n",
       "   'max_features': 'sqrt',\n",
       "   'max_depth': 5,\n",
       "   'loss': 'deviance',\n",
       "   'learning_rate': 0.075,\n",
       "   'criterion': 'friedman_mse'},\n",
       "  {'subsample': 0.7,\n",
       "   'n_estimators': 40,\n",
       "   'min_samples_split': 0.23333333333333334,\n",
       "   'min_samples_leaf': 0.3666666666666667,\n",
       "   'max_features': 'sqrt',\n",
       "   'max_depth': 5,\n",
       "   'loss': 'deviance',\n",
       "   'learning_rate': 0.05,\n",
       "   'criterion': 'friedman_mse'},\n",
       "  {'subsample': 0.5,\n",
       "   'n_estimators': 10,\n",
       "   'min_samples_split': 0.5,\n",
       "   'min_samples_leaf': 0.3666666666666667,\n",
       "   'max_features': 'sqrt',\n",
       "   'max_depth': 5,\n",
       "   'loss': 'deviance',\n",
       "   'learning_rate': 0.1,\n",
       "   'criterion': 'mae'},\n",
       "  {'subsample': 1.0,\n",
       "   'n_estimators': 40,\n",
       "   'min_samples_split': 0.5,\n",
       "   'min_samples_leaf': 0.3666666666666667,\n",
       "   'max_features': 'log2',\n",
       "   'max_depth': 3,\n",
       "   'loss': 'deviance',\n",
       "   'learning_rate': 0.01,\n",
       "   'criterion': 'mae'},\n",
       "  {'subsample': 0.5,\n",
       "   'n_estimators': 120,\n",
       "   'min_samples_split': 0.23333333333333334,\n",
       "   'min_samples_leaf': 0.3666666666666667,\n",
       "   'max_features': 'sqrt',\n",
       "   'max_depth': 5,\n",
       "   'loss': 'exponential',\n",
       "   'learning_rate': 0.075,\n",
       "   'criterion': 'mae'},\n",
       "  {'subsample': 0.5,\n",
       "   'n_estimators': 40,\n",
       "   'min_samples_split': 0.1,\n",
       "   'min_samples_leaf': 0.23333333333333334,\n",
       "   'max_features': 'log2',\n",
       "   'max_depth': 3,\n",
       "   'loss': 'deviance',\n",
       "   'learning_rate': 0.15,\n",
       "   'criterion': 'friedman_mse'},\n",
       "  {'subsample': 0.5,\n",
       "   'n_estimators': 80,\n",
       "   'min_samples_split': 0.3666666666666667,\n",
       "   'min_samples_leaf': 0.1,\n",
       "   'max_features': 'log2',\n",
       "   'max_depth': 5,\n",
       "   'loss': 'deviance',\n",
       "   'learning_rate': 0.2,\n",
       "   'criterion': 'mae'},\n",
       "  {'subsample': 0.7,\n",
       "   'n_estimators': 80,\n",
       "   'min_samples_split': 0.1,\n",
       "   'min_samples_leaf': 0.3666666666666667,\n",
       "   'max_features': 'log2',\n",
       "   'max_depth': 8,\n",
       "   'loss': 'exponential',\n",
       "   'learning_rate': 0.1,\n",
       "   'criterion': 'mae'},\n",
       "  {'subsample': 1.0,\n",
       "   'n_estimators': 40,\n",
       "   'min_samples_split': 0.3666666666666667,\n",
       "   'min_samples_leaf': 0.5,\n",
       "   'max_features': 'sqrt',\n",
       "   'max_depth': 5,\n",
       "   'loss': 'exponential',\n",
       "   'learning_rate': 0.05,\n",
       "   'criterion': 'mae'},\n",
       "  {'subsample': 0.85,\n",
       "   'n_estimators': 120,\n",
       "   'min_samples_split': 0.1,\n",
       "   'min_samples_leaf': 0.3666666666666667,\n",
       "   'max_features': 'sqrt',\n",
       "   'max_depth': 5,\n",
       "   'loss': 'deviance',\n",
       "   'learning_rate': 0.05,\n",
       "   'criterion': 'friedman_mse'},\n",
       "  {'subsample': 0.85,\n",
       "   'n_estimators': 120,\n",
       "   'min_samples_split': 0.1,\n",
       "   'min_samples_leaf': 0.5,\n",
       "   'max_features': 'log2',\n",
       "   'max_depth': 3,\n",
       "   'loss': 'exponential',\n",
       "   'learning_rate': 0.2,\n",
       "   'criterion': 'mae'},\n",
       "  {'subsample': 0.5,\n",
       "   'n_estimators': 40,\n",
       "   'min_samples_split': 0.5,\n",
       "   'min_samples_leaf': 0.5,\n",
       "   'max_features': 'sqrt',\n",
       "   'max_depth': 5,\n",
       "   'loss': 'deviance',\n",
       "   'learning_rate': 0.2,\n",
       "   'criterion': 'friedman_mse'},\n",
       "  {'subsample': 0.5,\n",
       "   'n_estimators': 10,\n",
       "   'min_samples_split': 0.3666666666666667,\n",
       "   'min_samples_leaf': 0.1,\n",
       "   'max_features': 'log2',\n",
       "   'max_depth': 8,\n",
       "   'loss': 'deviance',\n",
       "   'learning_rate': 0.025,\n",
       "   'criterion': 'friedman_mse'},\n",
       "  {'subsample': 0.5,\n",
       "   'n_estimators': 80,\n",
       "   'min_samples_split': 0.5,\n",
       "   'min_samples_leaf': 0.23333333333333334,\n",
       "   'max_features': 'log2',\n",
       "   'max_depth': 8,\n",
       "   'loss': 'exponential',\n",
       "   'learning_rate': 0.2,\n",
       "   'criterion': 'mae'},\n",
       "  {'subsample': 1.0,\n",
       "   'n_estimators': 10,\n",
       "   'min_samples_split': 0.23333333333333334,\n",
       "   'min_samples_leaf': 0.5,\n",
       "   'max_features': 'log2',\n",
       "   'max_depth': 3,\n",
       "   'loss': 'deviance',\n",
       "   'learning_rate': 0.15,\n",
       "   'criterion': 'friedman_mse'},\n",
       "  {'subsample': 0.85,\n",
       "   'n_estimators': 40,\n",
       "   'min_samples_split': 0.1,\n",
       "   'min_samples_leaf': 0.1,\n",
       "   'max_features': 'sqrt',\n",
       "   'max_depth': 5,\n",
       "   'loss': 'deviance',\n",
       "   'learning_rate': 0.15,\n",
       "   'criterion': 'mae'},\n",
       "  {'subsample': 1.0,\n",
       "   'n_estimators': 80,\n",
       "   'min_samples_split': 0.1,\n",
       "   'min_samples_leaf': 0.1,\n",
       "   'max_features': 'sqrt',\n",
       "   'max_depth': 8,\n",
       "   'loss': 'exponential',\n",
       "   'learning_rate': 0.15,\n",
       "   'criterion': 'friedman_mse'},\n",
       "  {'subsample': 0.7,\n",
       "   'n_estimators': 120,\n",
       "   'min_samples_split': 0.1,\n",
       "   'min_samples_leaf': 0.1,\n",
       "   'max_features': 'sqrt',\n",
       "   'max_depth': 3,\n",
       "   'loss': 'exponential',\n",
       "   'learning_rate': 0.01,\n",
       "   'criterion': 'friedman_mse'},\n",
       "  {'subsample': 0.7,\n",
       "   'n_estimators': 80,\n",
       "   'min_samples_split': 0.23333333333333334,\n",
       "   'min_samples_leaf': 0.3666666666666667,\n",
       "   'max_features': 'log2',\n",
       "   'max_depth': 5,\n",
       "   'loss': 'deviance',\n",
       "   'learning_rate': 0.01,\n",
       "   'criterion': 'friedman_mse'}],\n",
       " 'split0_test_score': array([0.42629597, 0.4289024 ,        nan,        nan, 0.42629597,\n",
       "               nan, 0.42629597, 0.42629597, 0.42629597, 0.42629597,\n",
       "               nan, 0.42629597, 0.42658558,        nan,        nan,\n",
       "        0.42629597,        nan, 0.42629597, 0.42629597,        nan,\n",
       "        0.42629597, 0.42658558,        nan,        nan, 0.42629597]),\n",
       " 'split1_test_score': array([0.42629597, 0.4283232 ,        nan,        nan, 0.42658558,\n",
       "               nan, 0.42629597, 0.42629597, 0.42629597, 0.42629597,\n",
       "               nan, 0.42629597, 0.42658558,        nan,        nan,\n",
       "        0.42629597,        nan, 0.42629597, 0.42629597,        nan,\n",
       "        0.42629597, 0.4283232 ,        nan,        nan, 0.42629597]),\n",
       " 'split2_test_score': array([0.42658558, 0.42803359,        nan,        nan, 0.42658558,\n",
       "               nan, 0.42658558, 0.42658558, 0.42658558, 0.42658558,\n",
       "               nan, 0.42658558, 0.42658558,        nan,        nan,\n",
       "        0.42658558,        nan, 0.42658558, 0.42658558,        nan,\n",
       "        0.42658558, 0.43064002,        nan,        nan, 0.42658558]),\n",
       " 'split3_test_score': array([0.42658558, 0.42484796,        nan,        nan, 0.42658558,\n",
       "               nan, 0.42658558, 0.42658558, 0.42658558, 0.42658558,\n",
       "               nan, 0.42658558, 0.42658558,        nan,        nan,\n",
       "        0.42658558,        nan, 0.42658558, 0.42658558,        nan,\n",
       "        0.42658558, 0.42426875,        nan,        nan, 0.42658558]),\n",
       " 'split4_test_score': array([0.42670915, 0.42555041,        nan,        nan, 0.42670915,\n",
       "               nan, 0.42670915, 0.42670915, 0.42670915, 0.42670915,\n",
       "               nan, 0.42670915, 0.42757822,        nan,        nan,\n",
       "        0.42670915,        nan, 0.42670915, 0.42670915,        nan,\n",
       "        0.42670915, 0.4278679 ,        nan,        nan, 0.42670915]),\n",
       " 'mean_test_score': array([0.42649445, 0.42713151,        nan,        nan, 0.42655237,\n",
       "               nan, 0.42649445, 0.42649445, 0.42649445, 0.42649445,\n",
       "               nan, 0.42649445, 0.42678411,        nan,        nan,\n",
       "        0.42649445,        nan, 0.42649445, 0.42649445,        nan,\n",
       "        0.42649445, 0.42753709,        nan,        nan, 0.42649445]),\n",
       " 'std_test_score': array([0.00016822, 0.00161768,        nan,        nan, 0.00013684,\n",
       "               nan, 0.00016822, 0.00016822, 0.00016822, 0.00016822,\n",
       "               nan, 0.00016822, 0.00039706,        nan,        nan,\n",
       "        0.00016822,        nan, 0.00016822, 0.00016822,        nan,\n",
       "        0.00016822, 0.0020949 ,        nan,        nan, 0.00016822]),\n",
       " 'rank_test_score': array([ 5,  2, 24, 23,  4, 21,  5,  5,  5,  5, 16,  5,  3, 18, 19,  5, 20,\n",
       "         5,  5, 22,  5,  1, 25, 17,  5])}"
      ]
     },
     "execution_count": 133,
     "metadata": {},
     "output_type": "execute_result"
    }
   ],
   "source": [
    "CV_gb2.cv_results_"
   ]
  },
  {
   "cell_type": "code",
   "execution_count": 131,
   "id": "4daf1f26",
   "metadata": {},
   "outputs": [
    {
     "name": "stdout",
     "output_type": "stream",
     "text": [
      "accuracy  0.4281742354031511\n",
      "f1  0.2626216160918489\n"
     ]
    },
    {
     "data": {
      "image/png": "[encoded data removed]",
      "text/plain": [
       "<Figure size 576x432 with 2 Axes>"
      ]
     },
     "metadata": {
      "needs_background": "light"
     },
     "output_type": "display_data"
    }
   ],
   "source": [
    "plot_cm(CV_gb2)"
   ]
  },
  {
   "cell_type": "code",
   "execution_count": 134,
   "id": "8dd5bd75",
   "metadata": {},
   "outputs": [
    {
     "name": "stdout",
     "output_type": "stream",
     "text": [
      "Recall  0.4281742354031511\n",
      "Precision  0.24751831839721108\n",
      "AUC-ROC-Score  0.6941724592052918\n"
     ]
    }
   ],
   "source": [
    "ez_mets(CV_gb2)"
   ]
  },
  {
   "cell_type": "markdown",
   "id": "d9e09120",
   "metadata": {},
   "source": [
    "# END (currently)\n",
    "\n",
    "The additional cells are either from an additional notebook (mentioned below), or just scratchwork."
   ]
  },
  {
   "cell_type": "code",
   "execution_count": null,
   "id": "eeee8ac9",
   "metadata": {},
   "outputs": [],
   "source": []
  },
  {
   "cell_type": "markdown",
   "id": "1e98c0c7",
   "metadata": {},
   "source": [
    "### The following cells are from a separate notebook where I did the same steps above but for a binary classification (fastball or not). \n",
    "\n",
    "I just copy pasted them here as a reference. "
   ]
  },
  {
   "cell_type": "code",
   "execution_count": 135,
   "id": "d7fe182f",
   "metadata": {},
   "outputs": [
    {
     "data": {
      "text/plain": [
       "GridSearchCV(cv=5, estimator=GradientBoostingClassifier(), n_jobs=-2,\n",
       "             param_grid={'max_depth': array([ 3,  6,  9, 12, 15, 18, 21, 24]),\n",
       "                         'n_estimators': [50, 100, 200]})"
      ]
     },
     "execution_count": 135,
     "metadata": {},
     "output_type": "execute_result"
    }
   ],
   "source": [
    "CV_GS_GB = GridSearchCV(estimator=gb, param_grid=grid_gb, cv= 5, n_jobs = -2)\n",
    "CV_GS_GB.fit(X_train,y_train)"
   ]
  },
  {
   "cell_type": "code",
   "execution_count": null,
   "id": "cfa43378",
   "metadata": {},
   "outputs": [],
   "source": []
  },
  {
   "cell_type": "code",
   "execution_count": null,
   "id": "03e2e316",
   "metadata": {},
   "outputs": [],
   "source": []
  },
  {
   "cell_type": "code",
   "execution_count": null,
   "id": "e22ce5ed",
   "metadata": {},
   "outputs": [],
   "source": []
  },
  {
   "cell_type": "code",
   "execution_count": 136,
   "id": "50e3ffac",
   "metadata": {},
   "outputs": [
    {
     "name": "stdout",
     "output_type": "stream",
     "text": [
      "{'max_depth': 6, 'n_estimators': 50}\n"
     ]
    },
    {
     "data": {
      "text/plain": [
       "{'mean_fit_time': array([ 0.48841248,  0.97041197,  2.0084115 ,  0.92859955,  1.98819928,\n",
       "         3.93071084,  1.94300351,  3.69011102,  7.46690993,  4.45879803,\n",
       "         9.44148698, 22.09127998,  9.70268679, 23.78465843, 57.50130148,\n",
       "        14.45241866, 35.11254101, 83.81244774, 17.64015641, 38.42951994,\n",
       "        78.66471953, 17.25090199, 34.74371815, 54.31165762]),\n",
       " 'std_fit_time': array([0.01044228, 0.00791455, 0.02261491, 0.00949972, 0.05068503,\n",
       "        0.0503367 , 0.02570144, 0.04603303, 0.116889  , 0.0958675 ,\n",
       "        0.2170511 , 0.14773841, 0.14005201, 0.32035544, 0.67986722,\n",
       "        0.40555663, 0.37384597, 1.01420468, 0.24243808, 0.6462154 ,\n",
       "        1.53643076, 0.17770025, 0.46306562, 0.76779942]),\n",
       " 'mean_score_time': array([0.00399976, 0.00679998, 0.01139984, 0.00680866, 0.0119997 ,\n",
       "        0.0210001 , 0.01239581, 0.01860003, 0.03839951, 0.01620002,\n",
       "        0.03259983, 0.06904836, 0.02300005, 0.0481998 , 0.10859981,\n",
       "        0.0276001 , 0.06099992, 0.13480163, 0.03655581, 0.06519995,\n",
       "        0.11440029, 0.03199987, 0.06320024, 0.0961987 ]),\n",
       " 'std_score_time': array([8.44957597e-07, 3.99971150e-04, 7.99846692e-04, 4.04865485e-04,\n",
       "        6.32862142e-04, 6.32560542e-04, 8.01990025e-04, 4.89920894e-04,\n",
       "        8.00884218e-04, 3.99971037e-04, 4.89998815e-04, 8.44203141e-04,\n",
       "        3.50402318e-07, 7.48353735e-04, 3.72038634e-03, 4.89920917e-04,\n",
       "        3.52118940e-03, 4.00919369e-04, 3.44395349e-03, 7.47856714e-04,\n",
       "        1.35636816e-03, 1.09523516e-03, 1.59990796e-03, 1.93920782e-03]),\n",
       " 'param_max_depth': masked_array(data=[3, 3, 3, 6, 6, 6, 9, 9, 9, 12, 12, 12, 15, 15, 15, 18,\n",
       "                    18, 18, 21, 21, 21, 24, 24, 24],\n",
       "              mask=[False, False, False, False, False, False, False, False,\n",
       "                    False, False, False, False, False, False, False, False,\n",
       "                    False, False, False, False, False, False, False, False],\n",
       "        fill_value='?',\n",
       "             dtype=object),\n",
       " 'param_n_estimators': masked_array(data=[50, 100, 200, 50, 100, 200, 50, 100, 200, 50, 100, 200,\n",
       "                    50, 100, 200, 50, 100, 200, 50, 100, 200, 50, 100, 200],\n",
       "              mask=[False, False, False, False, False, False, False, False,\n",
       "                    False, False, False, False, False, False, False, False,\n",
       "                    False, False, False, False, False, False, False, False],\n",
       "        fill_value='?',\n",
       "             dtype=object),\n",
       " 'params': [{'max_depth': 3, 'n_estimators': 50},\n",
       "  {'max_depth': 3, 'n_estimators': 100},\n",
       "  {'max_depth': 3, 'n_estimators': 200},\n",
       "  {'max_depth': 6, 'n_estimators': 50},\n",
       "  {'max_depth': 6, 'n_estimators': 100},\n",
       "  {'max_depth': 6, 'n_estimators': 200},\n",
       "  {'max_depth': 9, 'n_estimators': 50},\n",
       "  {'max_depth': 9, 'n_estimators': 100},\n",
       "  {'max_depth': 9, 'n_estimators': 200},\n",
       "  {'max_depth': 12, 'n_estimators': 50},\n",
       "  {'max_depth': 12, 'n_estimators': 100},\n",
       "  {'max_depth': 12, 'n_estimators': 200},\n",
       "  {'max_depth': 15, 'n_estimators': 50},\n",
       "  {'max_depth': 15, 'n_estimators': 100},\n",
       "  {'max_depth': 15, 'n_estimators': 200},\n",
       "  {'max_depth': 18, 'n_estimators': 50},\n",
       "  {'max_depth': 18, 'n_estimators': 100},\n",
       "  {'max_depth': 18, 'n_estimators': 200},\n",
       "  {'max_depth': 21, 'n_estimators': 50},\n",
       "  {'max_depth': 21, 'n_estimators': 100},\n",
       "  {'max_depth': 21, 'n_estimators': 200},\n",
       "  {'max_depth': 24, 'n_estimators': 50},\n",
       "  {'max_depth': 24, 'n_estimators': 100},\n",
       "  {'max_depth': 24, 'n_estimators': 200}],\n",
       " 'split0_test_score': array([0.59658268, 0.59745149, 0.59918911, 0.60527078, 0.59658268,\n",
       "        0.59079062, 0.58355054, 0.57833768, 0.56820156, 0.56298871,\n",
       "        0.56907037, 0.56501593, 0.56154069, 0.55748624, 0.56009267,\n",
       "        0.55487981, 0.56356791, 0.5534318 , 0.55748624, 0.55285259,\n",
       "        0.55806545, 0.56096148, 0.55459021, 0.55864466]),\n",
       " 'split1_test_score': array([0.59542427, 0.59687228, 0.59629308, 0.59050101, 0.58557776,\n",
       "        0.57602085, 0.57080799, 0.57399363, 0.5626991 , 0.55951347,\n",
       "        0.55980307, 0.56443672, 0.56183029, 0.5624095 , 0.55980307,\n",
       "        0.5534318 , 0.56588474, 0.55719664, 0.55285259, 0.54908775,\n",
       "        0.56385752, 0.54995656, 0.5444541 , 0.55198378]),\n",
       " 'split2_test_score': array([0.60034752, 0.59889951, 0.5983203 , 0.59542427, 0.59484506,\n",
       "        0.58499855, 0.57573125, 0.5800753 , 0.55806545, 0.56733275,\n",
       "        0.5531422 , 0.55632783, 0.55285259, 0.55169418, 0.55430061,\n",
       "        0.54821894, 0.54706053, 0.54763973, 0.55053577, 0.55516942,\n",
       "        0.55748624, 0.55169418, 0.54763973, 0.54966696]),\n",
       " 'split3_test_score': array([0.57573125, 0.57688966, 0.57775847, 0.58412974, 0.58499855,\n",
       "        0.57804807, 0.56414712, 0.56791196, 0.57080799, 0.56298871,\n",
       "        0.56472632, 0.56067188, 0.55545902, 0.56038228, 0.55748624,\n",
       "        0.54329568, 0.54879815, 0.5537214 , 0.54937735, 0.54300608,\n",
       "        0.54879815, 0.54097886, 0.54706053, 0.54387489]),\n",
       " 'split4_test_score': array([0.5877752 , 0.58690614, 0.58400927, 0.58487833, 0.57560834,\n",
       "        0.56691773, 0.57010429, 0.5698146 , 0.55967555, 0.5561993 ,\n",
       "        0.55793743, 0.55533024, 0.55764774, 0.56170336, 0.5608343 ,\n",
       "        0.5495365 , 0.55764774, 0.54895713, 0.56141367, 0.55648899,\n",
       "        0.56517961, 0.55590962, 0.55011587, 0.54374276]),\n",
       " 'mean_test_score': array([0.59117219, 0.59140382, 0.59111405, 0.59204083, 0.58752248,\n",
       "        0.57935516, 0.57286824, 0.57402663, 0.56388993, 0.56180459,\n",
       "        0.56093588, 0.56035652, 0.55786607, 0.55873511, 0.55850338,\n",
       "        0.54987255, 0.55659181, 0.55218934, 0.55433313, 0.55132097,\n",
       "        0.55867739, 0.55190014, 0.54877209, 0.54958261]),\n",
       " 'std_test_score': array([0.00873502, 0.00840897, 0.00863491, 0.00778122, 0.00758691,\n",
       "        0.00812568, 0.0064846 , 0.00469687, 0.00488986, 0.00374255,\n",
       "        0.00550551, 0.00399878, 0.00346971, 0.0039028 , 0.00238101,\n",
       "        0.00409496, 0.00758586, 0.00346728, 0.00449995, 0.00485777,\n",
       "        0.00580526, 0.00665249, 0.00342091, 0.00556013]),\n",
       " 'rank_test_score': array([ 3,  2,  4,  1,  5,  6,  8,  7,  9, 10, 11, 12, 16, 13, 15, 22, 17,\n",
       "        19, 18, 21, 14, 20, 24, 23])}"
      ]
     },
     "execution_count": 136,
     "metadata": {},
     "output_type": "execute_result"
    }
   ],
   "source": [
    "print(CV_GS_GB.best_params_)\n",
    "CV_GS_GB.cv_results_"
   ]
  },
  {
   "cell_type": "code",
   "execution_count": 137,
   "id": "90359c31",
   "metadata": {},
   "outputs": [
    {
     "name": "stdout",
     "output_type": "stream",
     "text": [
      "accuracy  0.5896663577386468\n",
      "f1  0.7059604848082351\n"
     ]
    },
    {
     "data": {
      "image/png": "[encoded data removed]",
      "text/plain": [
       "<Figure size 432x288 with 2 Axes>"
      ]
     },
     "metadata": {
      "needs_background": "light"
     },
     "output_type": "display_data"
    }
   ],
   "source": [
    "plot_cm(CV_GS_GB)"
   ]
  },
  {
   "cell_type": "code",
   "execution_count": 130,
   "id": "124b8054",
   "metadata": {},
   "outputs": [
    {
     "name": "stdout",
     "output_type": "stream",
     "text": [
      "accuracy  0.5813253012048193\n",
      "f1  0.7265849599031623\n"
     ]
    },
    {
     "data": {
      "image/png": "[encoded data removed]",
      "text/plain": [
       "<Figure size 432x288 with 2 Axes>"
      ]
     },
     "metadata": {
      "needs_background": "light"
     },
     "output_type": "display_data"
    }
   ],
   "source": [
    "plot_cm(CV_rf)"
   ]
  },
  {
   "cell_type": "code",
   "execution_count": 121,
   "id": "485904e1",
   "metadata": {},
   "outputs": [
    {
     "name": "stdout",
     "output_type": "stream",
     "text": [
      "accuracy  0.5892029657089898\n",
      "f1  0.711472742066721\n"
     ]
    },
    {
     "data": {
      "image/png": "[encoded data removed]",
      "text/plain": [
       "<Figure size 432x288 with 2 Axes>"
      ]
     },
     "metadata": {
      "needs_background": "light"
     },
     "output_type": "display_data"
    }
   ],
   "source": [
    "plot_cm(gb2)"
   ]
  },
  {
   "cell_type": "code",
   "execution_count": null,
   "id": "43be6f9d",
   "metadata": {},
   "outputs": [],
   "source": []
  },
  {
   "cell_type": "code",
   "execution_count": 96,
   "id": "af0e6721",
   "metadata": {},
   "outputs": [
    {
     "data": {
      "text/plain": [
       "0.5609360518999074"
      ]
     },
     "execution_count": 96,
     "metadata": {},
     "output_type": "execute_result"
    }
   ],
   "source": [
    "rf.score(X_test,y_test)"
   ]
  },
  {
   "cell_type": "code",
   "execution_count": 104,
   "id": "c16d313a",
   "metadata": {},
   "outputs": [
    {
     "data": {
      "text/plain": [
       "RandomForestClassifier(n_estimators=500, n_jobs=-2)"
      ]
     },
     "execution_count": 104,
     "metadata": {},
     "output_type": "execute_result"
    }
   ],
   "source": [
    "rf2 = RandomForestClassifier(n_estimators = 500, n_jobs = -2)\n",
    "rf2.fit(X_train, y_train)"
   ]
  },
  {
   "cell_type": "code",
   "execution_count": 105,
   "id": "e4dc07ac",
   "metadata": {
    "scrolled": true
   },
   "outputs": [
    {
     "name": "stdout",
     "output_type": "stream",
     "text": [
      "accuracy  0.5567655236329935\n",
      "f1  0.6418273731510952\n"
     ]
    },
    {
     "data": {
      "image/png": "[encoded data removed]",
      "text/plain": [
       "<Figure size 432x288 with 2 Axes>"
      ]
     },
     "metadata": {
      "needs_background": "light"
     },
     "output_type": "display_data"
    }
   ],
   "source": [
    "plot_cm(rf2)"
   ]
  },
  {
   "cell_type": "code",
   "execution_count": 117,
   "id": "038ed630",
   "metadata": {},
   "outputs": [],
   "source": [
    "#rf2.estimators_"
   ]
  },
  {
   "cell_type": "code",
   "execution_count": 110,
   "id": "c2d50d25",
   "metadata": {},
   "outputs": [
    {
     "data": {
      "text/plain": [
       "{'bootstrap': True,\n",
       " 'ccp_alpha': 0.0,\n",
       " 'class_weight': None,\n",
       " 'criterion': 'gini',\n",
       " 'max_depth': None,\n",
       " 'max_features': 'auto',\n",
       " 'max_leaf_nodes': None,\n",
       " 'max_samples': None,\n",
       " 'min_impurity_decrease': 0.0,\n",
       " 'min_impurity_split': None,\n",
       " 'min_samples_leaf': 1,\n",
       " 'min_samples_split': 2,\n",
       " 'min_weight_fraction_leaf': 0.0,\n",
       " 'n_estimators': 500,\n",
       " 'n_jobs': -2,\n",
       " 'oob_score': False,\n",
       " 'random_state': None,\n",
       " 'verbose': 0,\n",
       " 'warm_start': False}"
      ]
     },
     "execution_count": 110,
     "metadata": {},
     "output_type": "execute_result"
    }
   ],
   "source": [
    "rf2.get_params()"
   ]
  },
  {
   "cell_type": "markdown",
   "id": "049bf79c",
   "metadata": {},
   "source": [
    "## Second try : Decision Tree Classifier"
   ]
  },
  {
   "cell_type": "markdown",
   "id": "0610aca1",
   "metadata": {},
   "source": [
    "# SMOTE (imblearn)\n",
    "\n",
    "https://machinelearningmastery.com/smote-oversampling-for-imbalanced-classification/\n",
    "https://imbalanced-learn.org/stable/references/generated/imblearn.over_sampling.SMOTE.html"
   ]
  },
  {
   "cell_type": "code",
   "execution_count": 111,
   "id": "cdab58ba",
   "metadata": {},
   "outputs": [],
   "source": [
    "from imblearn.over_sampling import SMOTE\n",
    "from collections import Counter\n",
    "from imblearn.under_sampling import RandomUnderSampler"
   ]
  },
  {
   "cell_type": "code",
   "execution_count": 39,
   "id": "fc07d04d",
   "metadata": {},
   "outputs": [],
   "source": [
    "y = pd.read_csv(filepath + 'y_pre.csv')"
   ]
  },
  {
   "cell_type": "code",
   "execution_count": 88,
   "id": "c4b522e1",
   "metadata": {},
   "outputs": [
    {
     "data": {
      "text/plain": [
       "pitch_type\n",
       "FF            9201\n",
       "SL            3637\n",
       "CH            2667\n",
       "FT            2635\n",
       "CU            2282\n",
       "FC             814\n",
       "SI             344\n",
       "dtype: int64"
      ]
     },
     "execution_count": 88,
     "metadata": {},
     "output_type": "execute_result"
    }
   ],
   "source": [
    "y.value_counts()"
   ]
  },
  {
   "cell_type": "code",
   "execution_count": 90,
   "id": "02768322",
   "metadata": {},
   "outputs": [],
   "source": [
    "oversample = SMOTE()\n",
    "X_tr, y_tr = oversample.fit_resample(X_train, y_train)"
   ]
  },
  {
   "cell_type": "code",
   "execution_count": 108,
   "id": "4f72401b",
   "metadata": {},
   "outputs": [
    {
     "data": {
      "text/plain": [
       "Counter({6: 2927, 3: 7363, 0: 2112, 1: 1822, 2: 648, 4: 2121, 5: 271})"
      ]
     },
     "execution_count": 108,
     "metadata": {},
     "output_type": "execute_result"
    }
   ],
   "source": [
    "Counter(y_train)"
   ]
  },
  {
   "cell_type": "code",
   "execution_count": 109,
   "id": "464860a1",
   "metadata": {},
   "outputs": [
    {
     "data": {
      "text/plain": [
       "Counter({6: 7363, 3: 7363, 0: 7363, 1: 7363, 2: 7363, 4: 7363, 5: 7363})"
      ]
     },
     "execution_count": 109,
     "metadata": {},
     "output_type": "execute_result"
    }
   ],
   "source": [
    "Counter(y_tr)"
   ]
  },
  {
   "cell_type": "code",
   "execution_count": 95,
   "id": "6701d44d",
   "metadata": {},
   "outputs": [
    {
     "data": {
      "text/plain": [
       "LogisticRegression(multi_class='ovr')"
      ]
     },
     "execution_count": 95,
     "metadata": {},
     "output_type": "execute_result"
    }
   ],
   "source": [
    "lr.fit(X_tr, y_tr)"
   ]
  },
  {
   "cell_type": "code",
   "execution_count": 96,
   "id": "72f68b1d",
   "metadata": {},
   "outputs": [
    {
     "data": {
      "text/plain": [
       "0.24559777571825764"
      ]
     },
     "execution_count": 96,
     "metadata": {},
     "output_type": "execute_result"
    }
   ],
   "source": [
    "lr.score(X_test, y_test)"
   ]
  },
  {
   "cell_type": "code",
   "execution_count": 98,
   "id": "e73d777f",
   "metadata": {},
   "outputs": [],
   "source": [
    "steps = [('over', SMOTE()), ('model', DecisionTreeClassifier())]\n",
    "pipeline = Pipeline(steps=steps)"
   ]
  },
  {
   "cell_type": "code",
   "execution_count": null,
   "id": "d5c8a40c",
   "metadata": {},
   "outputs": [],
   "source": [
    "from sklearn.ensemble import RandomForestClassifier"
   ]
  },
  {
   "cell_type": "code",
   "execution_count": 117,
   "id": "9f08e062",
   "metadata": {},
   "outputs": [],
   "source": [
    "over = SMOTE()\n",
    "under = RandomUnderSampler()\n",
    "steps = [('over', over), ('under', under), ('model', RandomForestClassifier())]\n",
    "#from sklearn.ensemble import RandomForestClassifier\n",
    "#steps = [ ('model', RandomForestClassifier())]\n",
    "pipeline = Pipeline(steps=steps)"
   ]
  },
  {
   "cell_type": "code",
   "execution_count": 104,
   "id": "0932196d",
   "metadata": {},
   "outputs": [
    {
     "name": "stdout",
     "output_type": "stream",
     "text": [
      "[0.33619092 0.33897127 0.35171455 0.34823911 0.3544949 ]\n"
     ]
    }
   ],
   "source": [
    "cv = RepeatedStratifiedKFold(n_splits = 5, n_repeats = 3, random_state = 12)\n",
    "scores = cross_val_score(pipeline, X_s, y1, scoring = 'accuracy',n_jobs = -2)\n",
    "print(scores)"
   ]
  },
  {
   "cell_type": "code",
   "execution_count": 106,
   "id": "d6a87158",
   "metadata": {},
   "outputs": [
    {
     "data": {
      "text/plain": [
       "RandomForestClassifier()"
      ]
     },
     "execution_count": 106,
     "metadata": {},
     "output_type": "execute_result"
    }
   ],
   "source": [
    "rf = RandomForestClassifier()\n",
    "rf.fit(X_train, y_train)"
   ]
  },
  {
   "cell_type": "code",
   "execution_count": 113,
   "id": "cc1bdd65",
   "metadata": {},
   "outputs": [],
   "source": [
    "over = SMOTE(sampling_strategy=0.1)\n",
    "\n",
    "under = RandomUnderSampler(sampling_strategy=0.5)\n",
    "steps = [('over', over), ('under', under), ('model', RandomForestClassifier())]\n",
    "#steps = [ ('model', RandomForestClassifier())]\n",
    "pipeline = Pipeline(steps=steps)"
   ]
  },
  {
   "cell_type": "code",
   "execution_count": 118,
   "id": "6657fac7",
   "metadata": {},
   "outputs": [
    {
     "name": "stdout",
     "output_type": "stream",
     "text": [
      "[0.30583874 0.30931418 0.32854495 0.3139481  0.32854495]\n"
     ]
    }
   ],
   "source": [
    "cv = RepeatedStratifiedKFold(n_splits = 5, n_repeats = 3, random_state = 12)\n",
    "scores = cross_val_score(pipeline, X_s, y1, scoring = 'accuracy',n_jobs = -2)\n",
    "print(scores)"
   ]
  },
  {
   "cell_type": "code",
   "execution_count": 107,
   "id": "9f705b5a",
   "metadata": {},
   "outputs": [
    {
     "data": {
      "text/plain": [
       "0.3602873030583874"
      ]
     },
     "execution_count": 107,
     "metadata": {},
     "output_type": "execute_result"
    }
   ],
   "source": [
    "rf.score(X_test,y_test)"
   ]
  },
  {
   "cell_type": "code",
   "execution_count": 59,
   "id": "09f084da",
   "metadata": {},
   "outputs": [],
   "source": [
    "X_train, X_test, y_train, y_test = train_test_split(X_s, y.to_numpy(), test_size = 0.2, random_state = 123)\n"
   ]
  },
  {
   "cell_type": "code",
   "execution_count": 97,
   "id": "fdfe54ac",
   "metadata": {},
   "outputs": [],
   "source": [
    "from numpy import mean\n",
    "from sklearn.datasets import make_classification\n",
    "from sklearn.model_selection import cross_val_score\n",
    "from sklearn.model_selection import RepeatedStratifiedKFold\n",
    "from sklearn.tree import DecisionTreeClassifier\n",
    "from imblearn.pipeline import Pipeline\n",
    "from imblearn.over_sampling import SMOTE"
   ]
  },
  {
   "cell_type": "markdown",
   "id": "c6bb36eb",
   "metadata": {},
   "source": [
    "    cm = confusion_matrix(y_test, y_pred)\n",
    "    #ConfusionMatrixDisplay(confusion_matrix(Ytest, y_pred))\n",
    "    disp = ConfusionMatrixDisplay(confusion_matrix=cm,\n",
    "                                 display_labels=dumb.classes_)\n",
    "    disp.plot()\n",
    "    plt.show()"
   ]
  }
 ],
 "metadata": {
  "kernelspec": {
   "display_name": "Python 3",
   "language": "python",
   "name": "python3"
  },
  "language_info": {
   "codemirror_mode": {
    "name": "ipython",
    "version": 3
   },
   "file_extension": ".py",
   "mimetype": "text/x-python",
   "name": "python",
   "nbconvert_exporter": "python",
   "pygments_lexer": "ipython3",
   "version": "3.8.8"
  }
 },
 "nbformat": 4,
 "nbformat_minor": 5
}
