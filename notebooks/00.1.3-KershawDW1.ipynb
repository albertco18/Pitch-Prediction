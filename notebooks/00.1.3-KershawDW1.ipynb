{
 "cells": [
  {
   "cell_type": "markdown",
   "id": "9189aca2",
   "metadata": {},
   "source": [
    "## Capstone 2: Data Wrangling\n"
   ]
  },
  {
   "cell_type": "markdown",
   "id": "37905ff6",
   "metadata": {},
   "source": [
    "### Update 11/6 \n",
    "### Doing a smaller version first , specifically focused on Clayton Kershaw in 2015\n",
    "### In a given at bat, what pitch is coming next?"
   ]
  },
  {
   "cell_type": "markdown",
   "id": "b65af06d",
   "metadata": {},
   "source": [
    "### Overview\n",
    "\n",
    "How can we use data from 2015-2018 to predict/assess what type of pitch should be thrown in a given at bat?\n",
    "\n",
    "This can be looked at from both the pitching team’s perspective (what is the ideal pitch for a given situation), and from the batting team (what pitch should I expect, assuming that the pitcher will choose the optimal pitch). Using the ab_id, we can link the data in the pitches csv to the data in the atbats csv to look at the outcomes of at bats along with the exact type and order of pitches thrown. We can add to this by using the batter_id and pitcher_id to gather specific data for a given hitter or pitcher by linking with the player_names csv. \n",
    "\n",
    "The data will be acquired from https://www.kaggle.com/pschale/mlb-pitch-data-20152018?select=pitches.csv\n",
    "which was scraped from  http://gd2.mlb.com/components/game/mlb/.\n"
   ]
  },
  {
   "cell_type": "code",
   "execution_count": 1,
   "id": "01ce278a",
   "metadata": {
    "scrolled": true
   },
   "outputs": [],
   "source": [
    "import pandas as pd\n",
    "import matplotlib.pyplot as plt\n",
    "import seaborn as sns\n",
    "import os\n",
    "import pandas_profiling\n",
    "from library.sb_utils import save_file\n",
    "%matplotlib inline"
   ]
  },
  {
   "cell_type": "code",
   "execution_count": 91,
   "id": "3640fc99",
   "metadata": {
    "scrolled": true
   },
   "outputs": [],
   "source": [
    "from pathlib import Path\n",
    "import pandas_profiling\n",
    "import requests\n",
    "from pandas_profiling.utils.cache import cache_file\n",
    "from pandas_profiling import ProfileReport"
   ]
  },
  {
   "cell_type": "code",
   "execution_count": 2,
   "id": "c8c0f96c",
   "metadata": {
    "scrolled": true
   },
   "outputs": [],
   "source": [
    "import datetime as dt\n",
    "from datetime import datetime"
   ]
  },
  {
   "cell_type": "markdown",
   "id": "c5587e9d",
   "metadata": {},
   "source": [
    "### Because I found myself repeatedly using this technique, I decided to define the following function to show missing values"
   ]
  },
  {
   "cell_type": "code",
   "execution_count": 3,
   "id": "6f726f6e",
   "metadata": {
    "scrolled": true
   },
   "outputs": [],
   "source": [
    "#missing values function\n",
    "def missing(df):\n",
    "    '''Takes dataframe as argument, \n",
    "    returns count and % of missing values for each column'''\n",
    "    import pandas as pd\n",
    "    miss = pd.concat([df.isnull().sum(), 100 * df.isnull().mean()], axis = 1)\n",
    "    miss.columns = ['count','%']\n",
    "    return miss.sort_values(by = ['count'], ascending = False)"
   ]
  },
  {
   "cell_type": "markdown",
   "id": "545b02b8",
   "metadata": {},
   "source": [
    "### Import the data\n",
    "#### First we will do a small file (player_names), and then do the rest"
   ]
  },
  {
   "cell_type": "markdown",
   "id": "6639a508",
   "metadata": {},
   "source": []
  },
  {
   "cell_type": "code",
   "execution_count": 4,
   "id": "436c1da6",
   "metadata": {
    "scrolled": true
   },
   "outputs": [],
   "source": [
    "#the CSV data files are in the data/raw directory\n",
    "#player names\n",
    "names = pd.read_csv('../data/raw/player_names.csv')"
   ]
  },
  {
   "cell_type": "code",
   "execution_count": 5,
   "id": "3aa02153",
   "metadata": {
    "scrolled": true
   },
   "outputs": [
    {
     "name": "stdout",
     "output_type": "stream",
     "text": [
      "<class 'pandas.core.frame.DataFrame'>\n",
      "RangeIndex: 2218 entries, 0 to 2217\n",
      "Data columns (total 3 columns):\n",
      " #   Column      Non-Null Count  Dtype \n",
      "---  ------      --------------  ----- \n",
      " 0   id          2218 non-null   int64 \n",
      " 1   first_name  2218 non-null   object\n",
      " 2   last_name   2218 non-null   object\n",
      "dtypes: int64(1), object(2)\n",
      "memory usage: 52.1+ KB\n"
     ]
    }
   ],
   "source": [
    "names.info()"
   ]
  },
  {
   "cell_type": "code",
   "execution_count": 6,
   "id": "7c0f93ec",
   "metadata": {
    "scrolled": true
   },
   "outputs": [
    {
     "data": {
      "text/html": [
       "<div>\n",
       "<style scoped>\n",
       "    .dataframe tbody tr th:only-of-type {\n",
       "        vertical-align: middle;\n",
       "    }\n",
       "\n",
       "    .dataframe tbody tr th {\n",
       "        vertical-align: top;\n",
       "    }\n",
       "\n",
       "    .dataframe thead th {\n",
       "        text-align: right;\n",
       "    }\n",
       "</style>\n",
       "<table border=\"1\" class=\"dataframe\">\n",
       "  <thead>\n",
       "    <tr style=\"text-align: right;\">\n",
       "      <th></th>\n",
       "      <th>id</th>\n",
       "      <th>first_name</th>\n",
       "      <th>last_name</th>\n",
       "    </tr>\n",
       "  </thead>\n",
       "  <tbody>\n",
       "    <tr>\n",
       "      <th>0</th>\n",
       "      <td>452657</td>\n",
       "      <td>Jon</td>\n",
       "      <td>Lester</td>\n",
       "    </tr>\n",
       "    <tr>\n",
       "      <th>1</th>\n",
       "      <td>425794</td>\n",
       "      <td>Adam</td>\n",
       "      <td>Wainwright</td>\n",
       "    </tr>\n",
       "    <tr>\n",
       "      <th>2</th>\n",
       "      <td>457435</td>\n",
       "      <td>Phil</td>\n",
       "      <td>Coke</td>\n",
       "    </tr>\n",
       "    <tr>\n",
       "      <th>3</th>\n",
       "      <td>435400</td>\n",
       "      <td>Jason</td>\n",
       "      <td>Motte</td>\n",
       "    </tr>\n",
       "    <tr>\n",
       "      <th>4</th>\n",
       "      <td>519166</td>\n",
       "      <td>Neil</td>\n",
       "      <td>Ramirez</td>\n",
       "    </tr>\n",
       "  </tbody>\n",
       "</table>\n",
       "</div>"
      ],
      "text/plain": [
       "       id first_name   last_name\n",
       "0  452657        Jon      Lester\n",
       "1  425794       Adam  Wainwright\n",
       "2  457435       Phil        Coke\n",
       "3  435400      Jason       Motte\n",
       "4  519166       Neil     Ramirez"
      ]
     },
     "execution_count": 6,
     "metadata": {},
     "output_type": "execute_result"
    }
   ],
   "source": [
    "names.head()"
   ]
  },
  {
   "cell_type": "markdown",
   "id": "6b0be7f2",
   "metadata": {},
   "source": [
    "## Import Games and At-Bats Data"
   ]
  },
  {
   "cell_type": "code",
   "execution_count": 7,
   "id": "bc812229",
   "metadata": {
    "scrolled": true
   },
   "outputs": [],
   "source": [
    "#the CSV data files are in the data/raw directory\n",
    "#at bat info\n",
    "atbats = pd.read_csv('../data/raw/atbats.csv')\n",
    "#games info \n",
    "games = pd.read_csv('../data/raw/games.csv')\n"
   ]
  },
  {
   "cell_type": "code",
   "execution_count": 8,
   "id": "e56f2d6d",
   "metadata": {
    "scrolled": true
   },
   "outputs": [
    {
     "name": "stdout",
     "output_type": "stream",
     "text": [
      "<class 'pandas.core.frame.DataFrame'>\n",
      "RangeIndex: 740389 entries, 0 to 740388\n",
      "Data columns (total 11 columns):\n",
      " #   Column      Non-Null Count   Dtype \n",
      "---  ------      --------------   ----- \n",
      " 0   ab_id       740389 non-null  int64 \n",
      " 1   batter_id   740389 non-null  int64 \n",
      " 2   event       740389 non-null  object\n",
      " 3   g_id        740389 non-null  int64 \n",
      " 4   inning      740389 non-null  int64 \n",
      " 5   o           740389 non-null  int64 \n",
      " 6   p_score     740389 non-null  int64 \n",
      " 7   p_throws    740389 non-null  object\n",
      " 8   pitcher_id  740389 non-null  int64 \n",
      " 9   stand       740389 non-null  object\n",
      " 10  top         740389 non-null  bool  \n",
      "dtypes: bool(1), int64(7), object(3)\n",
      "memory usage: 57.2+ MB\n"
     ]
    }
   ],
   "source": [
    "atbats.info()"
   ]
  },
  {
   "cell_type": "code",
   "execution_count": 9,
   "id": "c8f7700d",
   "metadata": {
    "scrolled": true
   },
   "outputs": [
    {
     "name": "stdout",
     "output_type": "stream",
     "text": [
      "<class 'pandas.core.frame.DataFrame'>\n",
      "RangeIndex: 9718 entries, 0 to 9717\n",
      "Data columns (total 17 columns):\n",
      " #   Column            Non-Null Count  Dtype \n",
      "---  ------            --------------  ----- \n",
      " 0   attendance        9718 non-null   int64 \n",
      " 1   away_final_score  9718 non-null   int64 \n",
      " 2   away_team         9718 non-null   object\n",
      " 3   date              9718 non-null   object\n",
      " 4   elapsed_time      9718 non-null   int64 \n",
      " 5   g_id              9718 non-null   int64 \n",
      " 6   home_final_score  9718 non-null   int64 \n",
      " 7   home_team         9718 non-null   object\n",
      " 8   start_time        9718 non-null   object\n",
      " 9   umpire_1B         9718 non-null   object\n",
      " 10  umpire_2B         9715 non-null   object\n",
      " 11  umpire_3B         9718 non-null   object\n",
      " 12  umpire_HP         9718 non-null   object\n",
      " 13  venue_name        9718 non-null   object\n",
      " 14  weather           9718 non-null   object\n",
      " 15  wind              9718 non-null   object\n",
      " 16  delay             9718 non-null   int64 \n",
      "dtypes: int64(6), object(11)\n",
      "memory usage: 1.3+ MB\n"
     ]
    }
   ],
   "source": [
    "games.info()"
   ]
  },
  {
   "cell_type": "markdown",
   "id": "5e67c588",
   "metadata": {},
   "source": [
    "## Import Pitch Data (800 mb)"
   ]
  },
  {
   "cell_type": "code",
   "execution_count": 10,
   "id": "be6f54db",
   "metadata": {
    "scrolled": true
   },
   "outputs": [],
   "source": [
    "#the CSV data files are in the data/raw directory\n",
    "pitches = pd.read_csv('../data/raw/pitches.csv')"
   ]
  },
  {
   "cell_type": "code",
   "execution_count": 11,
   "id": "c4b6d621",
   "metadata": {
    "scrolled": true
   },
   "outputs": [
    {
     "name": "stdout",
     "output_type": "stream",
     "text": [
      "<class 'pandas.core.frame.DataFrame'>\n",
      "RangeIndex: 2867154 entries, 0 to 2867153\n",
      "Data columns (total 40 columns):\n",
      " #   Column           Dtype  \n",
      "---  ------           -----  \n",
      " 0   px               float64\n",
      " 1   pz               float64\n",
      " 2   start_speed      float64\n",
      " 3   end_speed        float64\n",
      " 4   spin_rate        float64\n",
      " 5   spin_dir         float64\n",
      " 6   break_angle      float64\n",
      " 7   break_length     float64\n",
      " 8   break_y          float64\n",
      " 9   ax               float64\n",
      " 10  ay               float64\n",
      " 11  az               float64\n",
      " 12  sz_bot           float64\n",
      " 13  sz_top           float64\n",
      " 14  type_confidence  float64\n",
      " 15  vx0              float64\n",
      " 16  vy0              float64\n",
      " 17  vz0              float64\n",
      " 18  x                float64\n",
      " 19  x0               float64\n",
      " 20  y                float64\n",
      " 21  y0               float64\n",
      " 22  z0               float64\n",
      " 23  pfx_x            float64\n",
      " 24  pfx_z            float64\n",
      " 25  nasty            float64\n",
      " 26  zone             float64\n",
      " 27  code             object \n",
      " 28  type             object \n",
      " 29  pitch_type       object \n",
      " 30  event_num        int64  \n",
      " 31  b_score          float64\n",
      " 32  ab_id            float64\n",
      " 33  b_count          float64\n",
      " 34  s_count          float64\n",
      " 35  outs             float64\n",
      " 36  pitch_num        float64\n",
      " 37  on_1b            float64\n",
      " 38  on_2b            float64\n",
      " 39  on_3b            float64\n",
      "dtypes: float64(36), int64(1), object(3)\n",
      "memory usage: 875.0+ MB\n"
     ]
    }
   ],
   "source": [
    "pitches.info()"
   ]
  },
  {
   "cell_type": "code",
   "execution_count": 12,
   "id": "e3e504b3",
   "metadata": {
    "scrolled": true
   },
   "outputs": [
    {
     "data": {
      "text/html": [
       "<div>\n",
       "<style scoped>\n",
       "    .dataframe tbody tr th:only-of-type {\n",
       "        vertical-align: middle;\n",
       "    }\n",
       "\n",
       "    .dataframe tbody tr th {\n",
       "        vertical-align: top;\n",
       "    }\n",
       "\n",
       "    .dataframe thead th {\n",
       "        text-align: right;\n",
       "    }\n",
       "</style>\n",
       "<table border=\"1\" class=\"dataframe\">\n",
       "  <thead>\n",
       "    <tr style=\"text-align: right;\">\n",
       "      <th></th>\n",
       "      <th>px</th>\n",
       "      <th>pz</th>\n",
       "      <th>start_speed</th>\n",
       "      <th>end_speed</th>\n",
       "      <th>spin_rate</th>\n",
       "      <th>spin_dir</th>\n",
       "      <th>break_angle</th>\n",
       "      <th>break_length</th>\n",
       "      <th>break_y</th>\n",
       "      <th>ax</th>\n",
       "      <th>...</th>\n",
       "      <th>event_num</th>\n",
       "      <th>b_score</th>\n",
       "      <th>ab_id</th>\n",
       "      <th>b_count</th>\n",
       "      <th>s_count</th>\n",
       "      <th>outs</th>\n",
       "      <th>pitch_num</th>\n",
       "      <th>on_1b</th>\n",
       "      <th>on_2b</th>\n",
       "      <th>on_3b</th>\n",
       "    </tr>\n",
       "  </thead>\n",
       "  <tbody>\n",
       "    <tr>\n",
       "      <th>0</th>\n",
       "      <td>0.416</td>\n",
       "      <td>2.963</td>\n",
       "      <td>92.9</td>\n",
       "      <td>84.1</td>\n",
       "      <td>2305.052</td>\n",
       "      <td>159.235</td>\n",
       "      <td>-25.0</td>\n",
       "      <td>3.2</td>\n",
       "      <td>23.7</td>\n",
       "      <td>7.665</td>\n",
       "      <td>...</td>\n",
       "      <td>3</td>\n",
       "      <td>0.0</td>\n",
       "      <td>2.015000e+09</td>\n",
       "      <td>0.0</td>\n",
       "      <td>0.0</td>\n",
       "      <td>0.0</td>\n",
       "      <td>1.0</td>\n",
       "      <td>0.0</td>\n",
       "      <td>0.0</td>\n",
       "      <td>0.0</td>\n",
       "    </tr>\n",
       "    <tr>\n",
       "      <th>1</th>\n",
       "      <td>-0.191</td>\n",
       "      <td>2.347</td>\n",
       "      <td>92.8</td>\n",
       "      <td>84.1</td>\n",
       "      <td>2689.935</td>\n",
       "      <td>151.402</td>\n",
       "      <td>-40.7</td>\n",
       "      <td>3.4</td>\n",
       "      <td>23.7</td>\n",
       "      <td>12.043</td>\n",
       "      <td>...</td>\n",
       "      <td>4</td>\n",
       "      <td>0.0</td>\n",
       "      <td>2.015000e+09</td>\n",
       "      <td>0.0</td>\n",
       "      <td>1.0</td>\n",
       "      <td>0.0</td>\n",
       "      <td>2.0</td>\n",
       "      <td>0.0</td>\n",
       "      <td>0.0</td>\n",
       "      <td>0.0</td>\n",
       "    </tr>\n",
       "    <tr>\n",
       "      <th>2</th>\n",
       "      <td>-0.518</td>\n",
       "      <td>3.284</td>\n",
       "      <td>94.1</td>\n",
       "      <td>85.2</td>\n",
       "      <td>2647.972</td>\n",
       "      <td>145.125</td>\n",
       "      <td>-43.7</td>\n",
       "      <td>3.7</td>\n",
       "      <td>23.7</td>\n",
       "      <td>14.368</td>\n",
       "      <td>...</td>\n",
       "      <td>5</td>\n",
       "      <td>0.0</td>\n",
       "      <td>2.015000e+09</td>\n",
       "      <td>0.0</td>\n",
       "      <td>2.0</td>\n",
       "      <td>0.0</td>\n",
       "      <td>3.0</td>\n",
       "      <td>0.0</td>\n",
       "      <td>0.0</td>\n",
       "      <td>0.0</td>\n",
       "    </tr>\n",
       "    <tr>\n",
       "      <th>3</th>\n",
       "      <td>-0.641</td>\n",
       "      <td>1.221</td>\n",
       "      <td>91.0</td>\n",
       "      <td>84.0</td>\n",
       "      <td>1289.590</td>\n",
       "      <td>169.751</td>\n",
       "      <td>-1.3</td>\n",
       "      <td>5.0</td>\n",
       "      <td>23.8</td>\n",
       "      <td>2.104</td>\n",
       "      <td>...</td>\n",
       "      <td>6</td>\n",
       "      <td>0.0</td>\n",
       "      <td>2.015000e+09</td>\n",
       "      <td>0.0</td>\n",
       "      <td>2.0</td>\n",
       "      <td>0.0</td>\n",
       "      <td>4.0</td>\n",
       "      <td>0.0</td>\n",
       "      <td>0.0</td>\n",
       "      <td>0.0</td>\n",
       "    </tr>\n",
       "    <tr>\n",
       "      <th>4</th>\n",
       "      <td>-1.821</td>\n",
       "      <td>2.083</td>\n",
       "      <td>75.4</td>\n",
       "      <td>69.6</td>\n",
       "      <td>1374.569</td>\n",
       "      <td>280.671</td>\n",
       "      <td>18.4</td>\n",
       "      <td>12.0</td>\n",
       "      <td>23.8</td>\n",
       "      <td>-10.280</td>\n",
       "      <td>...</td>\n",
       "      <td>7</td>\n",
       "      <td>0.0</td>\n",
       "      <td>2.015000e+09</td>\n",
       "      <td>1.0</td>\n",
       "      <td>2.0</td>\n",
       "      <td>0.0</td>\n",
       "      <td>5.0</td>\n",
       "      <td>0.0</td>\n",
       "      <td>0.0</td>\n",
       "      <td>0.0</td>\n",
       "    </tr>\n",
       "  </tbody>\n",
       "</table>\n",
       "<p>5 rows × 40 columns</p>\n",
       "</div>"
      ],
      "text/plain": [
       "      px     pz  start_speed  end_speed  spin_rate  spin_dir  break_angle  \\\n",
       "0  0.416  2.963         92.9       84.1   2305.052   159.235        -25.0   \n",
       "1 -0.191  2.347         92.8       84.1   2689.935   151.402        -40.7   \n",
       "2 -0.518  3.284         94.1       85.2   2647.972   145.125        -43.7   \n",
       "3 -0.641  1.221         91.0       84.0   1289.590   169.751         -1.3   \n",
       "4 -1.821  2.083         75.4       69.6   1374.569   280.671         18.4   \n",
       "\n",
       "   break_length  break_y      ax  ...  event_num  b_score         ab_id  \\\n",
       "0           3.2     23.7   7.665  ...          3      0.0  2.015000e+09   \n",
       "1           3.4     23.7  12.043  ...          4      0.0  2.015000e+09   \n",
       "2           3.7     23.7  14.368  ...          5      0.0  2.015000e+09   \n",
       "3           5.0     23.8   2.104  ...          6      0.0  2.015000e+09   \n",
       "4          12.0     23.8 -10.280  ...          7      0.0  2.015000e+09   \n",
       "\n",
       "   b_count  s_count  outs  pitch_num  on_1b  on_2b  on_3b  \n",
       "0      0.0      0.0   0.0        1.0    0.0    0.0    0.0  \n",
       "1      0.0      1.0   0.0        2.0    0.0    0.0    0.0  \n",
       "2      0.0      2.0   0.0        3.0    0.0    0.0    0.0  \n",
       "3      0.0      2.0   0.0        4.0    0.0    0.0    0.0  \n",
       "4      1.0      2.0   0.0        5.0    0.0    0.0    0.0  \n",
       "\n",
       "[5 rows x 40 columns]"
      ]
     },
     "execution_count": 12,
     "metadata": {},
     "output_type": "execute_result"
    }
   ],
   "source": [
    "pitches.head()"
   ]
  },
  {
   "cell_type": "markdown",
   "id": "62d54604",
   "metadata": {},
   "source": [
    "## Check missing values for at bats, players, pitches"
   ]
  },
  {
   "cell_type": "markdown",
   "id": "93425432",
   "metadata": {
    "scrolled": true
   },
   "source": [
    "    #missing values for each column in pitches\n",
    "    missingP = pd.concat([pitches.isnull().sum(), 100 * pitches.isnull().mean()], axis=1)\n",
    "    missingP.columns=['count', '%']\n",
    "    missingP.sort_values(by=['count'], ascending = False)"
   ]
  },
  {
   "cell_type": "code",
   "execution_count": 13,
   "id": "e01afa1f",
   "metadata": {
    "scrolled": true
   },
   "outputs": [
    {
     "data": {
      "text/html": [
       "<div>\n",
       "<style scoped>\n",
       "    .dataframe tbody tr th:only-of-type {\n",
       "        vertical-align: middle;\n",
       "    }\n",
       "\n",
       "    .dataframe tbody tr th {\n",
       "        vertical-align: top;\n",
       "    }\n",
       "\n",
       "    .dataframe thead th {\n",
       "        text-align: right;\n",
       "    }\n",
       "</style>\n",
       "<table border=\"1\" class=\"dataframe\">\n",
       "  <thead>\n",
       "    <tr style=\"text-align: right;\">\n",
       "      <th></th>\n",
       "      <th>count</th>\n",
       "      <th>%</th>\n",
       "    </tr>\n",
       "  </thead>\n",
       "  <tbody>\n",
       "    <tr>\n",
       "      <th>px</th>\n",
       "      <td>14189</td>\n",
       "      <td>0.494881</td>\n",
       "    </tr>\n",
       "    <tr>\n",
       "      <th>type_confidence</th>\n",
       "      <td>14189</td>\n",
       "      <td>0.494881</td>\n",
       "    </tr>\n",
       "    <tr>\n",
       "      <th>pitch_type</th>\n",
       "      <td>14189</td>\n",
       "      <td>0.494881</td>\n",
       "    </tr>\n",
       "    <tr>\n",
       "      <th>zone</th>\n",
       "      <td>14189</td>\n",
       "      <td>0.494881</td>\n",
       "    </tr>\n",
       "    <tr>\n",
       "      <th>nasty</th>\n",
       "      <td>14189</td>\n",
       "      <td>0.494881</td>\n",
       "    </tr>\n",
       "    <tr>\n",
       "      <th>z0</th>\n",
       "      <td>14189</td>\n",
       "      <td>0.494881</td>\n",
       "    </tr>\n",
       "    <tr>\n",
       "      <th>y0</th>\n",
       "      <td>14189</td>\n",
       "      <td>0.494881</td>\n",
       "    </tr>\n",
       "    <tr>\n",
       "      <th>pz</th>\n",
       "      <td>14189</td>\n",
       "      <td>0.494881</td>\n",
       "    </tr>\n",
       "    <tr>\n",
       "      <th>x0</th>\n",
       "      <td>14189</td>\n",
       "      <td>0.494881</td>\n",
       "    </tr>\n",
       "    <tr>\n",
       "      <th>vz0</th>\n",
       "      <td>14189</td>\n",
       "      <td>0.494881</td>\n",
       "    </tr>\n",
       "    <tr>\n",
       "      <th>vx0</th>\n",
       "      <td>14189</td>\n",
       "      <td>0.494881</td>\n",
       "    </tr>\n",
       "    <tr>\n",
       "      <th>vy0</th>\n",
       "      <td>14189</td>\n",
       "      <td>0.494881</td>\n",
       "    </tr>\n",
       "    <tr>\n",
       "      <th>spin_dir</th>\n",
       "      <td>14189</td>\n",
       "      <td>0.494881</td>\n",
       "    </tr>\n",
       "    <tr>\n",
       "      <th>spin_rate</th>\n",
       "      <td>14189</td>\n",
       "      <td>0.494881</td>\n",
       "    </tr>\n",
       "    <tr>\n",
       "      <th>az</th>\n",
       "      <td>14189</td>\n",
       "      <td>0.494881</td>\n",
       "    </tr>\n",
       "    <tr>\n",
       "      <th>ay</th>\n",
       "      <td>14189</td>\n",
       "      <td>0.494881</td>\n",
       "    </tr>\n",
       "    <tr>\n",
       "      <th>ax</th>\n",
       "      <td>14189</td>\n",
       "      <td>0.494881</td>\n",
       "    </tr>\n",
       "    <tr>\n",
       "      <th>break_y</th>\n",
       "      <td>14189</td>\n",
       "      <td>0.494881</td>\n",
       "    </tr>\n",
       "    <tr>\n",
       "      <th>break_length</th>\n",
       "      <td>14189</td>\n",
       "      <td>0.494881</td>\n",
       "    </tr>\n",
       "    <tr>\n",
       "      <th>break_angle</th>\n",
       "      <td>14189</td>\n",
       "      <td>0.494881</td>\n",
       "    </tr>\n",
       "    <tr>\n",
       "      <th>pfx_x</th>\n",
       "      <td>14142</td>\n",
       "      <td>0.493242</td>\n",
       "    </tr>\n",
       "    <tr>\n",
       "      <th>pfx_z</th>\n",
       "      <td>14142</td>\n",
       "      <td>0.493242</td>\n",
       "    </tr>\n",
       "    <tr>\n",
       "      <th>start_speed</th>\n",
       "      <td>14114</td>\n",
       "      <td>0.492265</td>\n",
       "    </tr>\n",
       "    <tr>\n",
       "      <th>end_speed</th>\n",
       "      <td>14114</td>\n",
       "      <td>0.492265</td>\n",
       "    </tr>\n",
       "    <tr>\n",
       "      <th>code</th>\n",
       "      <td>5719</td>\n",
       "      <td>0.199466</td>\n",
       "    </tr>\n",
       "    <tr>\n",
       "      <th>sz_bot</th>\n",
       "      <td>2083</td>\n",
       "      <td>0.072650</td>\n",
       "    </tr>\n",
       "    <tr>\n",
       "      <th>sz_top</th>\n",
       "      <td>2083</td>\n",
       "      <td>0.072650</td>\n",
       "    </tr>\n",
       "    <tr>\n",
       "      <th>on_2b</th>\n",
       "      <td>0</td>\n",
       "      <td>0.000000</td>\n",
       "    </tr>\n",
       "    <tr>\n",
       "      <th>on_1b</th>\n",
       "      <td>0</td>\n",
       "      <td>0.000000</td>\n",
       "    </tr>\n",
       "    <tr>\n",
       "      <th>b_count</th>\n",
       "      <td>0</td>\n",
       "      <td>0.000000</td>\n",
       "    </tr>\n",
       "    <tr>\n",
       "      <th>pitch_num</th>\n",
       "      <td>0</td>\n",
       "      <td>0.000000</td>\n",
       "    </tr>\n",
       "    <tr>\n",
       "      <th>outs</th>\n",
       "      <td>0</td>\n",
       "      <td>0.000000</td>\n",
       "    </tr>\n",
       "    <tr>\n",
       "      <th>s_count</th>\n",
       "      <td>0</td>\n",
       "      <td>0.000000</td>\n",
       "    </tr>\n",
       "    <tr>\n",
       "      <th>y</th>\n",
       "      <td>0</td>\n",
       "      <td>0.000000</td>\n",
       "    </tr>\n",
       "    <tr>\n",
       "      <th>ab_id</th>\n",
       "      <td>0</td>\n",
       "      <td>0.000000</td>\n",
       "    </tr>\n",
       "    <tr>\n",
       "      <th>b_score</th>\n",
       "      <td>0</td>\n",
       "      <td>0.000000</td>\n",
       "    </tr>\n",
       "    <tr>\n",
       "      <th>event_num</th>\n",
       "      <td>0</td>\n",
       "      <td>0.000000</td>\n",
       "    </tr>\n",
       "    <tr>\n",
       "      <th>type</th>\n",
       "      <td>0</td>\n",
       "      <td>0.000000</td>\n",
       "    </tr>\n",
       "    <tr>\n",
       "      <th>x</th>\n",
       "      <td>0</td>\n",
       "      <td>0.000000</td>\n",
       "    </tr>\n",
       "    <tr>\n",
       "      <th>on_3b</th>\n",
       "      <td>0</td>\n",
       "      <td>0.000000</td>\n",
       "    </tr>\n",
       "  </tbody>\n",
       "</table>\n",
       "</div>"
      ],
      "text/plain": [
       "                 count         %\n",
       "px               14189  0.494881\n",
       "type_confidence  14189  0.494881\n",
       "pitch_type       14189  0.494881\n",
       "zone             14189  0.494881\n",
       "nasty            14189  0.494881\n",
       "z0               14189  0.494881\n",
       "y0               14189  0.494881\n",
       "pz               14189  0.494881\n",
       "x0               14189  0.494881\n",
       "vz0              14189  0.494881\n",
       "vx0              14189  0.494881\n",
       "vy0              14189  0.494881\n",
       "spin_dir         14189  0.494881\n",
       "spin_rate        14189  0.494881\n",
       "az               14189  0.494881\n",
       "ay               14189  0.494881\n",
       "ax               14189  0.494881\n",
       "break_y          14189  0.494881\n",
       "break_length     14189  0.494881\n",
       "break_angle      14189  0.494881\n",
       "pfx_x            14142  0.493242\n",
       "pfx_z            14142  0.493242\n",
       "start_speed      14114  0.492265\n",
       "end_speed        14114  0.492265\n",
       "code              5719  0.199466\n",
       "sz_bot            2083  0.072650\n",
       "sz_top            2083  0.072650\n",
       "on_2b                0  0.000000\n",
       "on_1b                0  0.000000\n",
       "b_count              0  0.000000\n",
       "pitch_num            0  0.000000\n",
       "outs                 0  0.000000\n",
       "s_count              0  0.000000\n",
       "y                    0  0.000000\n",
       "ab_id                0  0.000000\n",
       "b_score              0  0.000000\n",
       "event_num            0  0.000000\n",
       "type                 0  0.000000\n",
       "x                    0  0.000000\n",
       "on_3b                0  0.000000"
      ]
     },
     "execution_count": 13,
     "metadata": {},
     "output_type": "execute_result"
    }
   ],
   "source": [
    "missing(pitches)"
   ]
  },
  {
   "cell_type": "code",
   "execution_count": 15,
   "id": "6f94e49b",
   "metadata": {
    "scrolled": true
   },
   "outputs": [
    {
     "data": {
      "text/html": [
       "<div>\n",
       "<style scoped>\n",
       "    .dataframe tbody tr th:only-of-type {\n",
       "        vertical-align: middle;\n",
       "    }\n",
       "\n",
       "    .dataframe tbody tr th {\n",
       "        vertical-align: top;\n",
       "    }\n",
       "\n",
       "    .dataframe thead th {\n",
       "        text-align: right;\n",
       "    }\n",
       "</style>\n",
       "<table border=\"1\" class=\"dataframe\">\n",
       "  <thead>\n",
       "    <tr style=\"text-align: right;\">\n",
       "      <th></th>\n",
       "      <th>count</th>\n",
       "      <th>%</th>\n",
       "    </tr>\n",
       "  </thead>\n",
       "  <tbody>\n",
       "    <tr>\n",
       "      <th>ab_id</th>\n",
       "      <td>0</td>\n",
       "      <td>0.0</td>\n",
       "    </tr>\n",
       "    <tr>\n",
       "      <th>batter_id</th>\n",
       "      <td>0</td>\n",
       "      <td>0.0</td>\n",
       "    </tr>\n",
       "    <tr>\n",
       "      <th>event</th>\n",
       "      <td>0</td>\n",
       "      <td>0.0</td>\n",
       "    </tr>\n",
       "    <tr>\n",
       "      <th>g_id</th>\n",
       "      <td>0</td>\n",
       "      <td>0.0</td>\n",
       "    </tr>\n",
       "    <tr>\n",
       "      <th>inning</th>\n",
       "      <td>0</td>\n",
       "      <td>0.0</td>\n",
       "    </tr>\n",
       "    <tr>\n",
       "      <th>o</th>\n",
       "      <td>0</td>\n",
       "      <td>0.0</td>\n",
       "    </tr>\n",
       "    <tr>\n",
       "      <th>p_score</th>\n",
       "      <td>0</td>\n",
       "      <td>0.0</td>\n",
       "    </tr>\n",
       "    <tr>\n",
       "      <th>p_throws</th>\n",
       "      <td>0</td>\n",
       "      <td>0.0</td>\n",
       "    </tr>\n",
       "    <tr>\n",
       "      <th>pitcher_id</th>\n",
       "      <td>0</td>\n",
       "      <td>0.0</td>\n",
       "    </tr>\n",
       "    <tr>\n",
       "      <th>stand</th>\n",
       "      <td>0</td>\n",
       "      <td>0.0</td>\n",
       "    </tr>\n",
       "    <tr>\n",
       "      <th>top</th>\n",
       "      <td>0</td>\n",
       "      <td>0.0</td>\n",
       "    </tr>\n",
       "  </tbody>\n",
       "</table>\n",
       "</div>"
      ],
      "text/plain": [
       "            count    %\n",
       "ab_id           0  0.0\n",
       "batter_id       0  0.0\n",
       "event           0  0.0\n",
       "g_id            0  0.0\n",
       "inning          0  0.0\n",
       "o               0  0.0\n",
       "p_score         0  0.0\n",
       "p_throws        0  0.0\n",
       "pitcher_id      0  0.0\n",
       "stand           0  0.0\n",
       "top             0  0.0"
      ]
     },
     "execution_count": 15,
     "metadata": {},
     "output_type": "execute_result"
    }
   ],
   "source": [
    "#missing values for each column in atbats\n",
    "missingAB = pd.concat([atbats.isnull().sum(), 100 * atbats.isnull().mean()], axis=1)\n",
    "missingAB.columns=['count', '%']\n",
    "missingAB.sort_values(by=['count'], ascending = False)"
   ]
  },
  {
   "cell_type": "code",
   "execution_count": 14,
   "id": "07a49b8c",
   "metadata": {
    "scrolled": true
   },
   "outputs": [
    {
     "data": {
      "text/html": [
       "<div>\n",
       "<style scoped>\n",
       "    .dataframe tbody tr th:only-of-type {\n",
       "        vertical-align: middle;\n",
       "    }\n",
       "\n",
       "    .dataframe tbody tr th {\n",
       "        vertical-align: top;\n",
       "    }\n",
       "\n",
       "    .dataframe thead th {\n",
       "        text-align: right;\n",
       "    }\n",
       "</style>\n",
       "<table border=\"1\" class=\"dataframe\">\n",
       "  <thead>\n",
       "    <tr style=\"text-align: right;\">\n",
       "      <th></th>\n",
       "      <th>count</th>\n",
       "      <th>%</th>\n",
       "    </tr>\n",
       "  </thead>\n",
       "  <tbody>\n",
       "    <tr>\n",
       "      <th>id</th>\n",
       "      <td>0</td>\n",
       "      <td>0.0</td>\n",
       "    </tr>\n",
       "    <tr>\n",
       "      <th>first_name</th>\n",
       "      <td>0</td>\n",
       "      <td>0.0</td>\n",
       "    </tr>\n",
       "    <tr>\n",
       "      <th>last_name</th>\n",
       "      <td>0</td>\n",
       "      <td>0.0</td>\n",
       "    </tr>\n",
       "  </tbody>\n",
       "</table>\n",
       "</div>"
      ],
      "text/plain": [
       "            count    %\n",
       "id              0  0.0\n",
       "first_name      0  0.0\n",
       "last_name       0  0.0"
      ]
     },
     "execution_count": 14,
     "metadata": {},
     "output_type": "execute_result"
    }
   ],
   "source": [
    "missing(names)"
   ]
  },
  {
   "cell_type": "code",
   "execution_count": 15,
   "id": "5ee77d2b",
   "metadata": {
    "scrolled": true
   },
   "outputs": [
    {
     "data": {
      "text/html": [
       "<div>\n",
       "<style scoped>\n",
       "    .dataframe tbody tr th:only-of-type {\n",
       "        vertical-align: middle;\n",
       "    }\n",
       "\n",
       "    .dataframe tbody tr th {\n",
       "        vertical-align: top;\n",
       "    }\n",
       "\n",
       "    .dataframe thead th {\n",
       "        text-align: right;\n",
       "    }\n",
       "</style>\n",
       "<table border=\"1\" class=\"dataframe\">\n",
       "  <thead>\n",
       "    <tr style=\"text-align: right;\">\n",
       "      <th></th>\n",
       "      <th>count</th>\n",
       "      <th>%</th>\n",
       "    </tr>\n",
       "  </thead>\n",
       "  <tbody>\n",
       "    <tr>\n",
       "      <th>umpire_2B</th>\n",
       "      <td>3</td>\n",
       "      <td>0.030871</td>\n",
       "    </tr>\n",
       "    <tr>\n",
       "      <th>attendance</th>\n",
       "      <td>0</td>\n",
       "      <td>0.000000</td>\n",
       "    </tr>\n",
       "    <tr>\n",
       "      <th>umpire_1B</th>\n",
       "      <td>0</td>\n",
       "      <td>0.000000</td>\n",
       "    </tr>\n",
       "    <tr>\n",
       "      <th>wind</th>\n",
       "      <td>0</td>\n",
       "      <td>0.000000</td>\n",
       "    </tr>\n",
       "    <tr>\n",
       "      <th>weather</th>\n",
       "      <td>0</td>\n",
       "      <td>0.000000</td>\n",
       "    </tr>\n",
       "    <tr>\n",
       "      <th>venue_name</th>\n",
       "      <td>0</td>\n",
       "      <td>0.000000</td>\n",
       "    </tr>\n",
       "    <tr>\n",
       "      <th>umpire_HP</th>\n",
       "      <td>0</td>\n",
       "      <td>0.000000</td>\n",
       "    </tr>\n",
       "    <tr>\n",
       "      <th>umpire_3B</th>\n",
       "      <td>0</td>\n",
       "      <td>0.000000</td>\n",
       "    </tr>\n",
       "    <tr>\n",
       "      <th>start_time</th>\n",
       "      <td>0</td>\n",
       "      <td>0.000000</td>\n",
       "    </tr>\n",
       "    <tr>\n",
       "      <th>away_final_score</th>\n",
       "      <td>0</td>\n",
       "      <td>0.000000</td>\n",
       "    </tr>\n",
       "    <tr>\n",
       "      <th>home_team</th>\n",
       "      <td>0</td>\n",
       "      <td>0.000000</td>\n",
       "    </tr>\n",
       "    <tr>\n",
       "      <th>home_final_score</th>\n",
       "      <td>0</td>\n",
       "      <td>0.000000</td>\n",
       "    </tr>\n",
       "    <tr>\n",
       "      <th>g_id</th>\n",
       "      <td>0</td>\n",
       "      <td>0.000000</td>\n",
       "    </tr>\n",
       "    <tr>\n",
       "      <th>elapsed_time</th>\n",
       "      <td>0</td>\n",
       "      <td>0.000000</td>\n",
       "    </tr>\n",
       "    <tr>\n",
       "      <th>date</th>\n",
       "      <td>0</td>\n",
       "      <td>0.000000</td>\n",
       "    </tr>\n",
       "    <tr>\n",
       "      <th>away_team</th>\n",
       "      <td>0</td>\n",
       "      <td>0.000000</td>\n",
       "    </tr>\n",
       "    <tr>\n",
       "      <th>delay</th>\n",
       "      <td>0</td>\n",
       "      <td>0.000000</td>\n",
       "    </tr>\n",
       "  </tbody>\n",
       "</table>\n",
       "</div>"
      ],
      "text/plain": [
       "                  count         %\n",
       "umpire_2B             3  0.030871\n",
       "attendance            0  0.000000\n",
       "umpire_1B             0  0.000000\n",
       "wind                  0  0.000000\n",
       "weather               0  0.000000\n",
       "venue_name            0  0.000000\n",
       "umpire_HP             0  0.000000\n",
       "umpire_3B             0  0.000000\n",
       "start_time            0  0.000000\n",
       "away_final_score      0  0.000000\n",
       "home_team             0  0.000000\n",
       "home_final_score      0  0.000000\n",
       "g_id                  0  0.000000\n",
       "elapsed_time          0  0.000000\n",
       "date                  0  0.000000\n",
       "away_team             0  0.000000\n",
       "delay                 0  0.000000"
      ]
     },
     "execution_count": 15,
     "metadata": {},
     "output_type": "execute_result"
    }
   ],
   "source": [
    "#missing values for games\n",
    "missing(games)"
   ]
  },
  {
   "cell_type": "markdown",
   "id": "ac955e61",
   "metadata": {},
   "source": [
    "### There are no missing values in the AB and Names dataframes\n",
    "\n",
    "### Because there are no columns with more than 0.5% of values missing (i.e. no large chunks missing) in the pitches and games dataframes, I am just going to remove rows with missing values.\n",
    "\n",
    "### I think I want to concat the df's first (link the abs, pitches, and games) before removing though. "
   ]
  },
  {
   "cell_type": "code",
   "execution_count": 18,
   "id": "ad3a87eb",
   "metadata": {
    "scrolled": true
   },
   "outputs": [
    {
     "data": {
      "text/plain": [
       "(740241,)"
      ]
     },
     "execution_count": 18,
     "metadata": {},
     "output_type": "execute_result"
    }
   ],
   "source": [
    "#maybe do groupby ab id for pitches first. \n",
    "pitches.ab_id.unique().shape"
   ]
  },
  {
   "cell_type": "code",
   "execution_count": 19,
   "id": "58f0f765",
   "metadata": {
    "scrolled": true
   },
   "outputs": [
    {
     "data": {
      "text/plain": [
       "(740389,)"
      ]
     },
     "execution_count": 19,
     "metadata": {},
     "output_type": "execute_result"
    }
   ],
   "source": [
    "atbats.ab_id.unique().shape"
   ]
  },
  {
   "cell_type": "markdown",
   "id": "edd896a3",
   "metadata": {},
   "source": [
    "### It appears that there are 159 at bats missing from the pitches df. Ill start by trying to groupy abid on the pitches df and then decide how I want to join the dfs\n"
   ]
  },
  {
   "cell_type": "code",
   "execution_count": 20,
   "id": "52d04ee4",
   "metadata": {
    "scrolled": true
   },
   "outputs": [
    {
     "data": {
      "text/plain": [
       "Index(['ab_id', 'batter_id', 'event', 'g_id', 'inning', 'o', 'p_score',\n",
       "       'p_throws', 'pitcher_id', 'stand', 'top'],\n",
       "      dtype='object')"
      ]
     },
     "execution_count": 20,
     "metadata": {},
     "output_type": "execute_result"
    }
   ],
   "source": [
    "pitches.columns; atbats.columns\n"
   ]
  },
  {
   "cell_type": "code",
   "execution_count": 21,
   "id": "71909b13",
   "metadata": {
    "scrolled": true
   },
   "outputs": [
    {
     "data": {
      "text/html": [
       "<div>\n",
       "<style scoped>\n",
       "    .dataframe tbody tr th:only-of-type {\n",
       "        vertical-align: middle;\n",
       "    }\n",
       "\n",
       "    .dataframe tbody tr th {\n",
       "        vertical-align: top;\n",
       "    }\n",
       "\n",
       "    .dataframe thead th {\n",
       "        text-align: right;\n",
       "    }\n",
       "</style>\n",
       "<table border=\"1\" class=\"dataframe\">\n",
       "  <thead>\n",
       "    <tr style=\"text-align: right;\">\n",
       "      <th></th>\n",
       "      <th>id</th>\n",
       "      <th>first_name</th>\n",
       "      <th>last_name</th>\n",
       "    </tr>\n",
       "  </thead>\n",
       "  <tbody>\n",
       "    <tr>\n",
       "      <th>0</th>\n",
       "      <td>452657</td>\n",
       "      <td>Jon</td>\n",
       "      <td>Lester</td>\n",
       "    </tr>\n",
       "    <tr>\n",
       "      <th>1</th>\n",
       "      <td>425794</td>\n",
       "      <td>Adam</td>\n",
       "      <td>Wainwright</td>\n",
       "    </tr>\n",
       "    <tr>\n",
       "      <th>2</th>\n",
       "      <td>457435</td>\n",
       "      <td>Phil</td>\n",
       "      <td>Coke</td>\n",
       "    </tr>\n",
       "    <tr>\n",
       "      <th>3</th>\n",
       "      <td>435400</td>\n",
       "      <td>Jason</td>\n",
       "      <td>Motte</td>\n",
       "    </tr>\n",
       "    <tr>\n",
       "      <th>4</th>\n",
       "      <td>519166</td>\n",
       "      <td>Neil</td>\n",
       "      <td>Ramirez</td>\n",
       "    </tr>\n",
       "  </tbody>\n",
       "</table>\n",
       "</div>"
      ],
      "text/plain": [
       "       id first_name   last_name\n",
       "0  452657        Jon      Lester\n",
       "1  425794       Adam  Wainwright\n",
       "2  457435       Phil        Coke\n",
       "3  435400      Jason       Motte\n",
       "4  519166       Neil     Ramirez"
      ]
     },
     "execution_count": 21,
     "metadata": {},
     "output_type": "execute_result"
    }
   ],
   "source": [
    "#at bats with names\n",
    "names.head()"
   ]
  },
  {
   "cell_type": "code",
   "execution_count": 22,
   "id": "42e8482b",
   "metadata": {
    "scrolled": true
   },
   "outputs": [
    {
     "data": {
      "text/html": [
       "<div>\n",
       "<style scoped>\n",
       "    .dataframe tbody tr th:only-of-type {\n",
       "        vertical-align: middle;\n",
       "    }\n",
       "\n",
       "    .dataframe tbody tr th {\n",
       "        vertical-align: top;\n",
       "    }\n",
       "\n",
       "    .dataframe thead th {\n",
       "        text-align: right;\n",
       "    }\n",
       "</style>\n",
       "<table border=\"1\" class=\"dataframe\">\n",
       "  <thead>\n",
       "    <tr style=\"text-align: right;\">\n",
       "      <th></th>\n",
       "      <th>ab_id</th>\n",
       "      <th>batter_id</th>\n",
       "      <th>event</th>\n",
       "      <th>g_id</th>\n",
       "      <th>inning</th>\n",
       "      <th>o</th>\n",
       "      <th>p_score</th>\n",
       "      <th>p_throws</th>\n",
       "      <th>pitcher_id</th>\n",
       "      <th>stand</th>\n",
       "      <th>top</th>\n",
       "    </tr>\n",
       "  </thead>\n",
       "  <tbody>\n",
       "    <tr>\n",
       "      <th>0</th>\n",
       "      <td>2015000001</td>\n",
       "      <td>572761</td>\n",
       "      <td>Groundout</td>\n",
       "      <td>201500001</td>\n",
       "      <td>1</td>\n",
       "      <td>1</td>\n",
       "      <td>0</td>\n",
       "      <td>L</td>\n",
       "      <td>452657</td>\n",
       "      <td>L</td>\n",
       "      <td>True</td>\n",
       "    </tr>\n",
       "    <tr>\n",
       "      <th>1</th>\n",
       "      <td>2015000002</td>\n",
       "      <td>518792</td>\n",
       "      <td>Double</td>\n",
       "      <td>201500001</td>\n",
       "      <td>1</td>\n",
       "      <td>1</td>\n",
       "      <td>0</td>\n",
       "      <td>L</td>\n",
       "      <td>452657</td>\n",
       "      <td>L</td>\n",
       "      <td>True</td>\n",
       "    </tr>\n",
       "    <tr>\n",
       "      <th>2</th>\n",
       "      <td>2015000003</td>\n",
       "      <td>407812</td>\n",
       "      <td>Single</td>\n",
       "      <td>201500001</td>\n",
       "      <td>1</td>\n",
       "      <td>1</td>\n",
       "      <td>0</td>\n",
       "      <td>L</td>\n",
       "      <td>452657</td>\n",
       "      <td>R</td>\n",
       "      <td>True</td>\n",
       "    </tr>\n",
       "    <tr>\n",
       "      <th>3</th>\n",
       "      <td>2015000004</td>\n",
       "      <td>425509</td>\n",
       "      <td>Strikeout</td>\n",
       "      <td>201500001</td>\n",
       "      <td>1</td>\n",
       "      <td>2</td>\n",
       "      <td>0</td>\n",
       "      <td>L</td>\n",
       "      <td>452657</td>\n",
       "      <td>R</td>\n",
       "      <td>True</td>\n",
       "    </tr>\n",
       "    <tr>\n",
       "      <th>4</th>\n",
       "      <td>2015000005</td>\n",
       "      <td>571431</td>\n",
       "      <td>Strikeout</td>\n",
       "      <td>201500001</td>\n",
       "      <td>1</td>\n",
       "      <td>3</td>\n",
       "      <td>0</td>\n",
       "      <td>L</td>\n",
       "      <td>452657</td>\n",
       "      <td>L</td>\n",
       "      <td>True</td>\n",
       "    </tr>\n",
       "  </tbody>\n",
       "</table>\n",
       "</div>"
      ],
      "text/plain": [
       "        ab_id  batter_id      event       g_id  inning  o  p_score p_throws  \\\n",
       "0  2015000001     572761  Groundout  201500001       1  1        0        L   \n",
       "1  2015000002     518792     Double  201500001       1  1        0        L   \n",
       "2  2015000003     407812     Single  201500001       1  1        0        L   \n",
       "3  2015000004     425509  Strikeout  201500001       1  2        0        L   \n",
       "4  2015000005     571431  Strikeout  201500001       1  3        0        L   \n",
       "\n",
       "   pitcher_id stand   top  \n",
       "0      452657     L  True  \n",
       "1      452657     L  True  \n",
       "2      452657     R  True  \n",
       "3      452657     R  True  \n",
       "4      452657     L  True  "
      ]
     },
     "execution_count": 22,
     "metadata": {},
     "output_type": "execute_result"
    }
   ],
   "source": [
    "atbats.head()"
   ]
  },
  {
   "cell_type": "markdown",
   "id": "500c6ae3",
   "metadata": {},
   "source": [
    "## Kershaw subset"
   ]
  },
  {
   "cell_type": "code",
   "execution_count": 38,
   "id": "1cf60772",
   "metadata": {},
   "outputs": [
    {
     "data": {
      "text/html": [
       "<div>\n",
       "<style scoped>\n",
       "    .dataframe tbody tr th:only-of-type {\n",
       "        vertical-align: middle;\n",
       "    }\n",
       "\n",
       "    .dataframe tbody tr th {\n",
       "        vertical-align: top;\n",
       "    }\n",
       "\n",
       "    .dataframe thead th {\n",
       "        text-align: right;\n",
       "    }\n",
       "</style>\n",
       "<table border=\"1\" class=\"dataframe\">\n",
       "  <thead>\n",
       "    <tr style=\"text-align: right;\">\n",
       "      <th></th>\n",
       "      <th>id</th>\n",
       "      <th>first_name</th>\n",
       "      <th>last_name</th>\n",
       "    </tr>\n",
       "  </thead>\n",
       "  <tbody>\n",
       "    <tr>\n",
       "      <th>85</th>\n",
       "      <td>477132</td>\n",
       "      <td>Clayton</td>\n",
       "      <td>Kershaw</td>\n",
       "    </tr>\n",
       "    <tr>\n",
       "      <th>619</th>\n",
       "      <td>453385</td>\n",
       "      <td>Clayton</td>\n",
       "      <td>Richard</td>\n",
       "    </tr>\n",
       "  </tbody>\n",
       "</table>\n",
       "</div>"
      ],
      "text/plain": [
       "         id first_name last_name\n",
       "85   477132    Clayton   Kershaw\n",
       "619  453385    Clayton   Richard"
      ]
     },
     "execution_count": 38,
     "metadata": {},
     "output_type": "execute_result"
    }
   ],
   "source": [
    "names[names['first_name']=='Clayton']"
   ]
  },
  {
   "cell_type": "code",
   "execution_count": 17,
   "id": "8d0585ef",
   "metadata": {},
   "outputs": [],
   "source": [
    "kAB = atbats[atbats.pitcher_id == 477132]\n",
    "kPitch = pitches[pitches['ab_id'].isin(kAB['ab_id'])]"
   ]
  },
  {
   "cell_type": "code",
   "execution_count": 19,
   "id": "6a9237ae",
   "metadata": {},
   "outputs": [
    {
     "data": {
      "text/plain": [
       "Index(['code', 'type', 'pitch_type', 'event_num', 'b_score', 'ab_id',\n",
       "       'b_count', 's_count', 'outs', 'pitch_num', 'on_1b', 'on_2b', 'on_3b'],\n",
       "      dtype='object')"
      ]
     },
     "execution_count": 19,
     "metadata": {},
     "output_type": "execute_result"
    }
   ],
   "source": [
    "#Kershaw = KershawAB.merge(KershawPitches, how = 'right', left_on = 'ab_id', right_on = 'ab_id' )\n",
    "kPitchSubset = kPitch.iloc[:, 27:]\n",
    "kPitchSubset.columns"
   ]
  },
  {
   "cell_type": "code",
   "execution_count": 23,
   "id": "d01a86f7",
   "metadata": {
    "scrolled": true
   },
   "outputs": [],
   "source": [
    "#atbatNames = names.merge(atbats, how = 'right', left_on = 'id', right_on = 'pitcher_id' )"
   ]
  },
  {
   "cell_type": "code",
   "execution_count": 23,
   "id": "35729e47",
   "metadata": {
    "scrolled": true
   },
   "outputs": [
    {
     "data": {
      "text/plain": [
       "Index(['ab_id', 'batter_id', 'event', 'g_id', 'inning', 'o', 'p_score',\n",
       "       'p_throws', 'pitcher_id', 'stand', 'top', 'date'],\n",
       "      dtype='object')"
      ]
     },
     "execution_count": 23,
     "metadata": {},
     "output_type": "execute_result"
    }
   ],
   "source": [
    "ktemp = kAB.merge(games[['g_id','date']], on = 'g_id', how = 'left')\n",
    "ktemp.columns"
   ]
  },
  {
   "cell_type": "code",
   "execution_count": 25,
   "id": "4cfc8138",
   "metadata": {},
   "outputs": [
    {
     "data": {
      "text/html": [
       "<div>\n",
       "<style scoped>\n",
       "    .dataframe tbody tr th:only-of-type {\n",
       "        vertical-align: middle;\n",
       "    }\n",
       "\n",
       "    .dataframe tbody tr th {\n",
       "        vertical-align: top;\n",
       "    }\n",
       "\n",
       "    .dataframe thead th {\n",
       "        text-align: right;\n",
       "    }\n",
       "</style>\n",
       "<table border=\"1\" class=\"dataframe\">\n",
       "  <thead>\n",
       "    <tr style=\"text-align: right;\">\n",
       "      <th></th>\n",
       "      <th>ab_id</th>\n",
       "      <th>batter_id</th>\n",
       "      <th>event</th>\n",
       "      <th>g_id</th>\n",
       "      <th>inning</th>\n",
       "      <th>o</th>\n",
       "      <th>p_score</th>\n",
       "      <th>p_throws</th>\n",
       "      <th>pitcher_id</th>\n",
       "      <th>stand</th>\n",
       "      <th>top</th>\n",
       "      <th>date</th>\n",
       "    </tr>\n",
       "  </thead>\n",
       "  <tbody>\n",
       "    <tr>\n",
       "      <th>892</th>\n",
       "      <td>2015183792</td>\n",
       "      <td>502570</td>\n",
       "      <td>Pop Out</td>\n",
       "      <td>201502425</td>\n",
       "      <td>3</td>\n",
       "      <td>2</td>\n",
       "      <td>2</td>\n",
       "      <td>L</td>\n",
       "      <td>477132</td>\n",
       "      <td>R</td>\n",
       "      <td>True</td>\n",
       "      <td>2015-10-04</td>\n",
       "    </tr>\n",
       "    <tr>\n",
       "      <th>893</th>\n",
       "      <td>2015183793</td>\n",
       "      <td>425834</td>\n",
       "      <td>Strikeout</td>\n",
       "      <td>201502425</td>\n",
       "      <td>3</td>\n",
       "      <td>3</td>\n",
       "      <td>2</td>\n",
       "      <td>L</td>\n",
       "      <td>477132</td>\n",
       "      <td>R</td>\n",
       "      <td>True</td>\n",
       "      <td>2015-10-04</td>\n",
       "    </tr>\n",
       "    <tr>\n",
       "      <th>894</th>\n",
       "      <td>2015183798</td>\n",
       "      <td>519083</td>\n",
       "      <td>Groundout</td>\n",
       "      <td>201502425</td>\n",
       "      <td>4</td>\n",
       "      <td>1</td>\n",
       "      <td>2</td>\n",
       "      <td>L</td>\n",
       "      <td>477132</td>\n",
       "      <td>R</td>\n",
       "      <td>True</td>\n",
       "      <td>2015-10-04</td>\n",
       "    </tr>\n",
       "    <tr>\n",
       "      <th>895</th>\n",
       "      <td>2015183799</td>\n",
       "      <td>500208</td>\n",
       "      <td>Strikeout</td>\n",
       "      <td>201502425</td>\n",
       "      <td>4</td>\n",
       "      <td>2</td>\n",
       "      <td>2</td>\n",
       "      <td>L</td>\n",
       "      <td>477132</td>\n",
       "      <td>R</td>\n",
       "      <td>True</td>\n",
       "      <td>2015-10-04</td>\n",
       "    </tr>\n",
       "    <tr>\n",
       "      <th>896</th>\n",
       "      <td>2015183800</td>\n",
       "      <td>576397</td>\n",
       "      <td>Single</td>\n",
       "      <td>201502425</td>\n",
       "      <td>4</td>\n",
       "      <td>2</td>\n",
       "      <td>2</td>\n",
       "      <td>L</td>\n",
       "      <td>477132</td>\n",
       "      <td>R</td>\n",
       "      <td>True</td>\n",
       "      <td>2015-10-04</td>\n",
       "    </tr>\n",
       "  </tbody>\n",
       "</table>\n",
       "</div>"
      ],
      "text/plain": [
       "          ab_id  batter_id      event       g_id  inning  o  p_score p_throws  \\\n",
       "892  2015183792     502570    Pop Out  201502425       3  2        2        L   \n",
       "893  2015183793     425834  Strikeout  201502425       3  3        2        L   \n",
       "894  2015183798     519083  Groundout  201502425       4  1        2        L   \n",
       "895  2015183799     500208  Strikeout  201502425       4  2        2        L   \n",
       "896  2015183800     576397     Single  201502425       4  2        2        L   \n",
       "\n",
       "     pitcher_id stand   top       date  \n",
       "892      477132     R  True 2015-10-04  \n",
       "893      477132     R  True 2015-10-04  \n",
       "894      477132     R  True 2015-10-04  \n",
       "895      477132     R  True 2015-10-04  \n",
       "896      477132     R  True 2015-10-04  "
      ]
     },
     "execution_count": 25,
     "metadata": {},
     "output_type": "execute_result"
    }
   ],
   "source": [
    "ktemp['date'] = pd.to_datetime(ktemp['date'], infer_datetime_format = True)\n",
    "k15 = ktemp[ktemp.date < datetime.fromisoformat('2016-01-01')]\n",
    "k15.tail()"
   ]
  },
  {
   "cell_type": "markdown",
   "id": "c3361b57",
   "metadata": {},
   "source": [
    "## Now add pitch data"
   ]
  },
  {
   "cell_type": "code",
   "execution_count": 27,
   "id": "b0a901bf",
   "metadata": {},
   "outputs": [],
   "source": [
    "Kershaw2015 = k15.merge(kPitchSubset, on = 'ab_id' , how = 'left')"
   ]
  },
  {
   "cell_type": "code",
   "execution_count": 28,
   "id": "33a59ba0",
   "metadata": {},
   "outputs": [
    {
     "data": {
      "text/html": [
       "<div>\n",
       "<style scoped>\n",
       "    .dataframe tbody tr th:only-of-type {\n",
       "        vertical-align: middle;\n",
       "    }\n",
       "\n",
       "    .dataframe tbody tr th {\n",
       "        vertical-align: top;\n",
       "    }\n",
       "\n",
       "    .dataframe thead th {\n",
       "        text-align: right;\n",
       "    }\n",
       "</style>\n",
       "<table border=\"1\" class=\"dataframe\">\n",
       "  <thead>\n",
       "    <tr style=\"text-align: right;\">\n",
       "      <th></th>\n",
       "      <th>ab_id</th>\n",
       "      <th>batter_id</th>\n",
       "      <th>event</th>\n",
       "      <th>g_id</th>\n",
       "      <th>inning</th>\n",
       "      <th>o</th>\n",
       "      <th>p_score</th>\n",
       "      <th>p_throws</th>\n",
       "      <th>pitcher_id</th>\n",
       "      <th>stand</th>\n",
       "      <th>...</th>\n",
       "      <th>pitch_type</th>\n",
       "      <th>event_num</th>\n",
       "      <th>b_score</th>\n",
       "      <th>b_count</th>\n",
       "      <th>s_count</th>\n",
       "      <th>outs</th>\n",
       "      <th>pitch_num</th>\n",
       "      <th>on_1b</th>\n",
       "      <th>on_2b</th>\n",
       "      <th>on_3b</th>\n",
       "    </tr>\n",
       "  </thead>\n",
       "  <tbody>\n",
       "    <tr>\n",
       "      <th>0</th>\n",
       "      <td>2015000768</td>\n",
       "      <td>571976</td>\n",
       "      <td>Hit By Pitch</td>\n",
       "      <td>201500012</td>\n",
       "      <td>1</td>\n",
       "      <td>0</td>\n",
       "      <td>0</td>\n",
       "      <td>L</td>\n",
       "      <td>477132</td>\n",
       "      <td>R</td>\n",
       "      <td>...</td>\n",
       "      <td>FF</td>\n",
       "      <td>3</td>\n",
       "      <td>0.0</td>\n",
       "      <td>0.0</td>\n",
       "      <td>0.0</td>\n",
       "      <td>0.0</td>\n",
       "      <td>1.0</td>\n",
       "      <td>0.0</td>\n",
       "      <td>0.0</td>\n",
       "      <td>0.0</td>\n",
       "    </tr>\n",
       "    <tr>\n",
       "      <th>1</th>\n",
       "      <td>2015000768</td>\n",
       "      <td>571976</td>\n",
       "      <td>Hit By Pitch</td>\n",
       "      <td>201500012</td>\n",
       "      <td>1</td>\n",
       "      <td>0</td>\n",
       "      <td>0</td>\n",
       "      <td>L</td>\n",
       "      <td>477132</td>\n",
       "      <td>R</td>\n",
       "      <td>...</td>\n",
       "      <td>FF</td>\n",
       "      <td>4</td>\n",
       "      <td>0.0</td>\n",
       "      <td>0.0</td>\n",
       "      <td>1.0</td>\n",
       "      <td>0.0</td>\n",
       "      <td>2.0</td>\n",
       "      <td>0.0</td>\n",
       "      <td>0.0</td>\n",
       "      <td>0.0</td>\n",
       "    </tr>\n",
       "    <tr>\n",
       "      <th>2</th>\n",
       "      <td>2015000768</td>\n",
       "      <td>571976</td>\n",
       "      <td>Hit By Pitch</td>\n",
       "      <td>201500012</td>\n",
       "      <td>1</td>\n",
       "      <td>0</td>\n",
       "      <td>0</td>\n",
       "      <td>L</td>\n",
       "      <td>477132</td>\n",
       "      <td>R</td>\n",
       "      <td>...</td>\n",
       "      <td>FF</td>\n",
       "      <td>5</td>\n",
       "      <td>0.0</td>\n",
       "      <td>0.0</td>\n",
       "      <td>2.0</td>\n",
       "      <td>0.0</td>\n",
       "      <td>3.0</td>\n",
       "      <td>0.0</td>\n",
       "      <td>0.0</td>\n",
       "      <td>0.0</td>\n",
       "    </tr>\n",
       "    <tr>\n",
       "      <th>3</th>\n",
       "      <td>2015000769</td>\n",
       "      <td>519083</td>\n",
       "      <td>Strikeout</td>\n",
       "      <td>201500012</td>\n",
       "      <td>1</td>\n",
       "      <td>1</td>\n",
       "      <td>0</td>\n",
       "      <td>L</td>\n",
       "      <td>477132</td>\n",
       "      <td>R</td>\n",
       "      <td>...</td>\n",
       "      <td>FF</td>\n",
       "      <td>8</td>\n",
       "      <td>0.0</td>\n",
       "      <td>0.0</td>\n",
       "      <td>0.0</td>\n",
       "      <td>0.0</td>\n",
       "      <td>1.0</td>\n",
       "      <td>1.0</td>\n",
       "      <td>0.0</td>\n",
       "      <td>0.0</td>\n",
       "    </tr>\n",
       "    <tr>\n",
       "      <th>4</th>\n",
       "      <td>2015000769</td>\n",
       "      <td>519083</td>\n",
       "      <td>Strikeout</td>\n",
       "      <td>201500012</td>\n",
       "      <td>1</td>\n",
       "      <td>1</td>\n",
       "      <td>0</td>\n",
       "      <td>L</td>\n",
       "      <td>477132</td>\n",
       "      <td>R</td>\n",
       "      <td>...</td>\n",
       "      <td>FF</td>\n",
       "      <td>9</td>\n",
       "      <td>0.0</td>\n",
       "      <td>1.0</td>\n",
       "      <td>0.0</td>\n",
       "      <td>0.0</td>\n",
       "      <td>2.0</td>\n",
       "      <td>1.0</td>\n",
       "      <td>0.0</td>\n",
       "      <td>0.0</td>\n",
       "    </tr>\n",
       "  </tbody>\n",
       "</table>\n",
       "<p>5 rows × 24 columns</p>\n",
       "</div>"
      ],
      "text/plain": [
       "        ab_id  batter_id         event       g_id  inning  o  p_score  \\\n",
       "0  2015000768     571976  Hit By Pitch  201500012       1  0        0   \n",
       "1  2015000768     571976  Hit By Pitch  201500012       1  0        0   \n",
       "2  2015000768     571976  Hit By Pitch  201500012       1  0        0   \n",
       "3  2015000769     519083     Strikeout  201500012       1  1        0   \n",
       "4  2015000769     519083     Strikeout  201500012       1  1        0   \n",
       "\n",
       "  p_throws  pitcher_id stand  ...  pitch_type event_num b_score b_count  \\\n",
       "0        L      477132     R  ...          FF         3     0.0     0.0   \n",
       "1        L      477132     R  ...          FF         4     0.0     0.0   \n",
       "2        L      477132     R  ...          FF         5     0.0     0.0   \n",
       "3        L      477132     R  ...          FF         8     0.0     0.0   \n",
       "4        L      477132     R  ...          FF         9     0.0     1.0   \n",
       "\n",
       "  s_count  outs  pitch_num  on_1b  on_2b  on_3b  \n",
       "0     0.0   0.0        1.0    0.0    0.0    0.0  \n",
       "1     1.0   0.0        2.0    0.0    0.0    0.0  \n",
       "2     2.0   0.0        3.0    0.0    0.0    0.0  \n",
       "3     0.0   0.0        1.0    1.0    0.0    0.0  \n",
       "4     0.0   0.0        2.0    1.0    0.0    0.0  \n",
       "\n",
       "[5 rows x 24 columns]"
      ]
     },
     "execution_count": 28,
     "metadata": {},
     "output_type": "execute_result"
    }
   ],
   "source": [
    "Kershaw2015.head()"
   ]
  },
  {
   "cell_type": "code",
   "execution_count": 31,
   "id": "c0edf9b2",
   "metadata": {},
   "outputs": [
    {
     "name": "stdout",
     "output_type": "stream",
     "text": [
      "<class 'pandas.core.frame.DataFrame'>\n",
      "Int64Index: 3392 entries, 0 to 3391\n",
      "Data columns (total 24 columns):\n",
      " #   Column      Non-Null Count  Dtype         \n",
      "---  ------      --------------  -----         \n",
      " 0   ab_id       3392 non-null   int64         \n",
      " 1   batter_id   3392 non-null   int64         \n",
      " 2   event       3392 non-null   object        \n",
      " 3   g_id        3392 non-null   int64         \n",
      " 4   inning      3392 non-null   int64         \n",
      " 5   o           3392 non-null   int64         \n",
      " 6   p_score     3392 non-null   int64         \n",
      " 7   p_throws    3392 non-null   object        \n",
      " 8   pitcher_id  3392 non-null   int64         \n",
      " 9   stand       3392 non-null   object        \n",
      " 10  top         3392 non-null   bool          \n",
      " 11  date        3392 non-null   datetime64[ns]\n",
      " 12  code        3392 non-null   object        \n",
      " 13  type        3392 non-null   object        \n",
      " 14  pitch_type  3386 non-null   object        \n",
      " 15  event_num   3392 non-null   int64         \n",
      " 16  b_score     3392 non-null   float64       \n",
      " 17  b_count     3392 non-null   float64       \n",
      " 18  s_count     3392 non-null   float64       \n",
      " 19  outs        3392 non-null   float64       \n",
      " 20  pitch_num   3392 non-null   float64       \n",
      " 21  on_1b       3392 non-null   float64       \n",
      " 22  on_2b       3392 non-null   float64       \n",
      " 23  on_3b       3392 non-null   float64       \n",
      "dtypes: bool(1), datetime64[ns](1), float64(8), int64(8), object(6)\n",
      "memory usage: 639.3+ KB\n"
     ]
    }
   ],
   "source": [
    "Kershaw2015.info()"
   ]
  },
  {
   "cell_type": "code",
   "execution_count": 32,
   "id": "b3fe8bdb",
   "metadata": {},
   "outputs": [],
   "source": [
    "pitch_types = {'FF': 1, 'SL': 2, 'CU': 3, 'FT': 4, 'CH': 5}"
   ]
  },
  {
   "cell_type": "code",
   "execution_count": 33,
   "id": "9432709d",
   "metadata": {},
   "outputs": [],
   "source": [
    "Kershaw2015['pcodes'] = Kershaw2015.pitch_type.replace(pitch_types)"
   ]
  },
  {
   "cell_type": "code",
   "execution_count": 35,
   "id": "46f74440",
   "metadata": {},
   "outputs": [],
   "source": [
    "Kershaw2015.pcodes = pd.to_numeric(Kershaw2015.pcodes, errors = 'coerce')"
   ]
  },
  {
   "cell_type": "code",
   "execution_count": 36,
   "id": "3883a033",
   "metadata": {},
   "outputs": [
    {
     "data": {
      "text/plain": [
       "Index(['ab_id', 'batter_id', 'event', 'g_id', 'inning', 'o', 'p_score',\n",
       "       'p_throws', 'pitcher_id', 'stand', 'top', 'date', 'code', 'type',\n",
       "       'pitch_type', 'event_num', 'b_score', 'b_count', 's_count', 'outs',\n",
       "       'pitch_num', 'on_1b', 'on_2b', 'on_3b', 'pcodes'],\n",
       "      dtype='object')"
      ]
     },
     "execution_count": 36,
     "metadata": {},
     "output_type": "execute_result"
    }
   ],
   "source": [
    "Kershaw2015.columns"
   ]
  },
  {
   "cell_type": "code",
   "execution_count": 37,
   "id": "59f832d2",
   "metadata": {},
   "outputs": [
    {
     "name": "stdout",
     "output_type": "stream",
     "text": [
      "Writing file.  \"../data/interim\\Kershaw2015.csv\"\n"
     ]
    }
   ],
   "source": [
    "# save the data to a new csv file\n",
    "datapath = '../data/interim'\n",
    "save_file(Kershaw2015, 'Kershaw2015.csv', datapath)"
   ]
  },
  {
   "cell_type": "markdown",
   "id": "5a4fb943",
   "metadata": {},
   "source": [
    "# GAP\n",
    "\n",
    "\n",
    "\n",
    "\n",
    "\n"
   ]
  },
  {
   "cell_type": "code",
   "execution_count": 40,
   "id": "0ee850f9",
   "metadata": {},
   "outputs": [
    {
     "data": {
      "text/plain": [
       "(3392, 25)"
      ]
     },
     "execution_count": 40,
     "metadata": {},
     "output_type": "execute_result"
    }
   ],
   "source": [
    "Kershaw2015.shape"
   ]
  },
  {
   "cell_type": "markdown",
   "id": "494a2325",
   "metadata": {
    "scrolled": true
   },
   "source": [
    "    CKreport = Kershaw2015.profile_report(sort=None, html={'style':{'full_width': True}})\n",
    "\n",
    "    CKreport.to_file(\"CKprofile15.html\")\n",
    "    CKreport"
   ]
  },
  {
   "cell_type": "markdown",
   "id": "ef2088d6",
   "metadata": {},
   "source": [
    "### Start with Clayton Kershaw, id 477132"
   ]
  },
  {
   "cell_type": "markdown",
   "id": "6d3a2a07",
   "metadata": {},
   "source": [
    "    report = df.profile_report(sort=None, html={'style':{'full_width': True}}, progress_bar=False)\n",
    "    report\n",
    "    profile_report.to_file(\"tmp/example.html\")\n",
    "    profile = ProfileReport(df, minimal=True)\n",
    "    \n",
    "    profile.to_file(output_file=\"output_min.html\")"
   ]
  },
  {
   "cell_type": "markdown",
   "id": "97c5fbf5",
   "metadata": {},
   "source": [
    "    # save the data to a new csv file\n",
    "    datapath = '../data/interim'\n",
    "    save_file(kersh2015, 'kersh2015.csv', datapath)"
   ]
  },
  {
   "cell_type": "code",
   "execution_count": 39,
   "id": "5efdeacf",
   "metadata": {
    "scrolled": true
   },
   "outputs": [
    {
     "data": {
      "text/plain": [
       "Text(0.5, 1.0, 'Distribution of pitches  (Clayton Kershaw 2015)')"
      ]
     },
     "execution_count": 39,
     "metadata": {},
     "output_type": "execute_result"
    },
    {
     "data": {
      "image/png": "[encoded data removed]",
      "text/plain": [
       "<Figure size 432x288 with 1 Axes>"
      ]
     },
     "metadata": {
      "needs_background": "light"
     },
     "output_type": "display_data"
    }
   ],
   "source": [
    "Kershaw2015.pitch_type.value_counts().plot(kind='bar')\n",
    "plt.xlabel('pitch type')\n",
    "plt.ylabel('Count')\n",
    "plt.title('Distribution of pitches  (Clayton Kershaw 2015)')\n",
    "#plt.plot()"
   ]
  },
  {
   "cell_type": "markdown",
   "id": "87a093af",
   "metadata": {},
   "source": [
    "## Get pitches in different counts"
   ]
  },
  {
   "cell_type": "code",
   "execution_count": null,
   "id": "24c55999",
   "metadata": {},
   "outputs": [],
   "source": []
  },
  {
   "cell_type": "markdown",
   "id": "4146d17c",
   "metadata": {},
   "source": [
    "    #Code task 16#\n",
    "    #Create a seaborn boxplot of the ticket price dataframe we created above,\n",
    "    #with 'state' on the x-axis, 'Price' as the y-value, and a hue that indicates 'Ticket'\n",
    "    #This will use boxplot's x, y, hue, and data arguments.\n",
    "    plt.subplots(figsize=(12, 8))\n",
    "    sns.boxplot(x='state', y='Price', hue='Ticket', data=ticket_prices)\n",
    "    plt.xticks(rotation='vertical')\n",
    "    plt.ylabel('Price ($)')\n",
    "    plt.xlabel('State');"
   ]
  },
  {
   "cell_type": "code",
   "execution_count": 67,
   "id": "55097271",
   "metadata": {
    "scrolled": true
   },
   "outputs": [
    {
     "name": "stdout",
     "output_type": "stream",
     "text": [
      "[(0, 0), (0, 1), (0, 2), (1, 0), (1, 1), (1, 2), (2, 0), (2, 1), (2, 2), (3, 0), (3, 1), (3, 2)]\n"
     ]
    }
   ],
   "source": [
    "#pitch thrown in each count for righties and lefties. \n",
    "possible_counts = [(x,y) for x in range(4) for y in range(3)]\n",
    "print(possible_counts)\n"
   ]
  },
  {
   "cell_type": "markdown",
   "id": "491cf502",
   "metadata": {},
   "source": [
    "    bs = zip(kersh2015.loc[:,['b_count']], kersh2015.loc[:,['s_count']])"
   ]
  },
  {
   "cell_type": "markdown",
   "id": "ba7b07ef",
   "metadata": {},
   "source": [
    "    BS = kersh2015.groupby(by=['b_count','s_count'])"
   ]
  },
  {
   "cell_type": "markdown",
   "id": "aaec7747",
   "metadata": {
    "scrolled": true
   },
   "source": [
    "    BS.plot()"
   ]
  },
  {
   "cell_type": "markdown",
   "id": "03a9f575",
   "metadata": {},
   "source": [
    "    profile1 = ProfileReport(kersh2015, minimal=True)\n",
    "    \n",
    "    #profile1.to_file(output_file=\"output1_min.html\")\n",
    "    profile1.to_file(\"output.html\")"
   ]
  },
  {
   "cell_type": "markdown",
   "id": "8bc1cb07",
   "metadata": {},
   "source": [
    "    kershR2015.pitch_type.value_counts().plot(kind='bar')\n",
    "    plt.xlabel('pitch type')\n",
    "    plt.ylabel('Count')\n",
    "    plt.title('Distribution of pitches against right handed hitters (Clayton Kershaw 2015)')\n",
    "    #plt.plot()"
   ]
  },
  {
   "cell_type": "code",
   "execution_count": null,
   "id": "2e0dccea",
   "metadata": {
    "scrolled": true
   },
   "outputs": [],
   "source": []
  },
  {
   "cell_type": "markdown",
   "id": "95c2848c",
   "metadata": {},
   "source": [
    "Pitch Type Definitions\n",
    "CH - Changeup\n",
    "\n",
    "CU - Curveball\n",
    "\n",
    "EP - Eephus*\n",
    "\n",
    "FC - Cutter\n",
    "\n",
    "FF - Four-seam Fastball\n",
    "\n",
    "FO - Pitchout (also PO)*\n",
    "\n",
    "FS - Splitter\n",
    "\n",
    "FT - Two-seam Fastball\n",
    "\n",
    "IN - Intentional ball\n",
    "\n",
    "KC - Knuckle curve\n",
    "\n",
    "KN - Knuckeball\n",
    "\n",
    "PO - Pitchout (also FO)*\n",
    "\n",
    "SC - Screwball*\n",
    "\n",
    "SI - Sinker\n",
    "\n",
    "SL - Slider\n",
    "\n",
    "UN - Unknown*\n",
    "\n",
    "these pitch types occur rarely\n",
    "Code Definitions #\n",
    "While these aren't spelled out anywhere, play descriptions allowed confident identification of these codes\n",
    "\n",
    "B - Ball\n",
    "\n",
    "*B - Ball in dirt\n",
    "\n",
    "S - Swinging Strike\n",
    "\n",
    "C - Called Strike\n",
    "\n",
    "F - Foul\n",
    "\n",
    "T - Foul Tip\n",
    "\n",
    "L - Foul Bunt\n",
    "\n",
    "I - Intentional Ball\n",
    "\n",
    "W - Swinging Strike (Blocked)\n",
    "\n",
    "M - Missed Bunt\n",
    "\n",
    "P - Pitchout\n",
    "\n",
    "Q - Swinging pitchout\n",
    "\n",
    "R - Foul pitchout\n",
    "\n",
    "Values that only occur on last pitch of at-bat:\n",
    "\n",
    "X - In play, out(s)\n",
    "\n",
    "D - In play, no out\n",
    "\n",
    "E - In play, runs\n",
    "\n",
    "H - Hit by pitch\n",
    "\n",
    "Note: all codes, except for H, come directly from the XML files. All at-bats with code H were given no code in the XMLs."
   ]
  }
 ],
 "metadata": {
  "kernelspec": {
   "display_name": "Python 3",
   "language": "python",
   "name": "python3"
  },
  "language_info": {
   "codemirror_mode": {
    "name": "ipython",
    "version": 3
   },
   "file_extension": ".py",
   "mimetype": "text/x-python",
   "name": "python",
   "nbconvert_exporter": "python",
   "pygments_lexer": "ipython3",
   "version": "3.8.8"
  }
 },
 "nbformat": 4,
 "nbformat_minor": 5
}
